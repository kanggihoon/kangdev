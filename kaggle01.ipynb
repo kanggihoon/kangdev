{
 "cells": [
  {
   "cell_type": "markdown",
   "metadata": {},
   "source": [
    "## Data Science and MLOps Landscape in Industry\n",
    "### https://www.kaggle.com/code/eraikako/data-science-and-mlops-landscape-in-industrynotebook#What's-the-state-of-Machine-Learning-adoption-in-the-enterprise-today?"
   ]
  },
  {
   "cell_type": "markdown",
   "metadata": {},
   "source": [
    "#### 관련 라이브러리"
   ]
  },
  {
   "cell_type": "code",
   "execution_count": 1,
   "metadata": {},
   "outputs": [
    {
     "name": "stderr",
     "output_type": "stream",
     "text": [
      "C:\\Users\\HP\\AppData\\Local\\Temp\\ipykernel_25980\\536625001.py:14: DeprecationWarning:\n",
      "\n",
      "Importing display from IPython.core.display is deprecated since IPython 7.14, please import from IPython display\n",
      "\n"
     ]
    }
   ],
   "source": [
    "# 관련 라이브러리 import \n",
    "import pandas as pd\n",
    "import numpy as np\n",
    "import json\n",
    "from collections import Counter\n",
    "\n",
    "import plotly.graph_objects as go\n",
    "import plotly.figure_factory as ff\n",
    "from plotly.subplots import make_subplots\n",
    "import plotly.express as px\n",
    "from plotly.offline import init_notebook_mode, iplot\n",
    "from plotly.colors import n_colors\n",
    "\n",
    "from IPython.core.display import display, HTML, Javascript \n",
    "import IPython.display\n",
    "from IPython.display import display, clear_output\n",
    "\n",
    "import ipywidgets as widgets\n",
    "from ipywidgets import interact, interact_manual\n",
    "\n",
    "import matplotlib as mpl\n",
    "import matplotlib.pyplot as plt\n",
    "\n",
    "import warnings\n",
    "warnings.filterwarnings('ignore')"
   ]
  },
  {
   "cell_type": "markdown",
   "metadata": {},
   "source": [
    "### 1. 데이터 확인 및 시각화 함수 생성"
   ]
  },
  {
   "cell_type": "code",
   "execution_count": 2,
   "metadata": {},
   "outputs": [
    {
     "data": {
      "text/html": [
       "<div>\n",
       "<style scoped>\n",
       "    .dataframe tbody tr th:only-of-type {\n",
       "        vertical-align: middle;\n",
       "    }\n",
       "\n",
       "    .dataframe tbody tr th {\n",
       "        vertical-align: top;\n",
       "    }\n",
       "\n",
       "    .dataframe thead th {\n",
       "        text-align: right;\n",
       "    }\n",
       "</style>\n",
       "<table border=\"1\" class=\"dataframe\">\n",
       "  <thead>\n",
       "    <tr style=\"text-align: right;\">\n",
       "      <th></th>\n",
       "      <th>Duration (in seconds)</th>\n",
       "      <th>Q2</th>\n",
       "      <th>Q3</th>\n",
       "      <th>Q4</th>\n",
       "      <th>Q5</th>\n",
       "      <th>Q6_1</th>\n",
       "      <th>Q6_2</th>\n",
       "      <th>Q6_3</th>\n",
       "      <th>Q6_4</th>\n",
       "      <th>Q6_5</th>\n",
       "      <th>...</th>\n",
       "      <th>Q44_3</th>\n",
       "      <th>Q44_4</th>\n",
       "      <th>Q44_5</th>\n",
       "      <th>Q44_6</th>\n",
       "      <th>Q44_7</th>\n",
       "      <th>Q44_8</th>\n",
       "      <th>Q44_9</th>\n",
       "      <th>Q44_10</th>\n",
       "      <th>Q44_11</th>\n",
       "      <th>Q44_12</th>\n",
       "    </tr>\n",
       "  </thead>\n",
       "  <tbody>\n",
       "    <tr>\n",
       "      <th>0</th>\n",
       "      <td>Duration (in seconds)</td>\n",
       "      <td>What is your age (# years)?</td>\n",
       "      <td>What is your gender? - Selected Choice</td>\n",
       "      <td>In which country do you currently reside?</td>\n",
       "      <td>Are you currently a student? (high school, uni...</td>\n",
       "      <td>On which platforms have you begun or completed...</td>\n",
       "      <td>On which platforms have you begun or completed...</td>\n",
       "      <td>On which platforms have you begun or completed...</td>\n",
       "      <td>On which platforms have you begun or completed...</td>\n",
       "      <td>On which platforms have you begun or completed...</td>\n",
       "      <td>...</td>\n",
       "      <td>Who/what are your favorite media sources that ...</td>\n",
       "      <td>Who/what are your favorite media sources that ...</td>\n",
       "      <td>Who/what are your favorite media sources that ...</td>\n",
       "      <td>Who/what are your favorite media sources that ...</td>\n",
       "      <td>Who/what are your favorite media sources that ...</td>\n",
       "      <td>Who/what are your favorite media sources that ...</td>\n",
       "      <td>Who/what are your favorite media sources that ...</td>\n",
       "      <td>Who/what are your favorite media sources that ...</td>\n",
       "      <td>Who/what are your favorite media sources that ...</td>\n",
       "      <td>Who/what are your favorite media sources that ...</td>\n",
       "    </tr>\n",
       "  </tbody>\n",
       "</table>\n",
       "<p>1 rows × 296 columns</p>\n",
       "</div>"
      ],
      "text/plain": [
       "   Duration (in seconds)                           Q2  \\\n",
       "0  Duration (in seconds)  What is your age (# years)?   \n",
       "\n",
       "                                       Q3  \\\n",
       "0  What is your gender? - Selected Choice   \n",
       "\n",
       "                                          Q4  \\\n",
       "0  In which country do you currently reside?   \n",
       "\n",
       "                                                  Q5  \\\n",
       "0  Are you currently a student? (high school, uni...   \n",
       "\n",
       "                                                Q6_1  \\\n",
       "0  On which platforms have you begun or completed...   \n",
       "\n",
       "                                                Q6_2  \\\n",
       "0  On which platforms have you begun or completed...   \n",
       "\n",
       "                                                Q6_3  \\\n",
       "0  On which platforms have you begun or completed...   \n",
       "\n",
       "                                                Q6_4  \\\n",
       "0  On which platforms have you begun or completed...   \n",
       "\n",
       "                                                Q6_5  ...  \\\n",
       "0  On which platforms have you begun or completed...  ...   \n",
       "\n",
       "                                               Q44_3  \\\n",
       "0  Who/what are your favorite media sources that ...   \n",
       "\n",
       "                                               Q44_4  \\\n",
       "0  Who/what are your favorite media sources that ...   \n",
       "\n",
       "                                               Q44_5  \\\n",
       "0  Who/what are your favorite media sources that ...   \n",
       "\n",
       "                                               Q44_6  \\\n",
       "0  Who/what are your favorite media sources that ...   \n",
       "\n",
       "                                               Q44_7  \\\n",
       "0  Who/what are your favorite media sources that ...   \n",
       "\n",
       "                                               Q44_8  \\\n",
       "0  Who/what are your favorite media sources that ...   \n",
       "\n",
       "                                               Q44_9  \\\n",
       "0  Who/what are your favorite media sources that ...   \n",
       "\n",
       "                                              Q44_10  \\\n",
       "0  Who/what are your favorite media sources that ...   \n",
       "\n",
       "                                              Q44_11  \\\n",
       "0  Who/what are your favorite media sources that ...   \n",
       "\n",
       "                                              Q44_12  \n",
       "0  Who/what are your favorite media sources that ...  \n",
       "\n",
       "[1 rows x 296 columns]"
      ]
     },
     "execution_count": 2,
     "metadata": {},
     "output_type": "execute_result"
    }
   ],
   "source": [
    "df = pd.read_csv('G:\\--backup--\\Desktop\\zero-base\\data\\kaggle_survey_2022_responses.csv')\n",
    "questions_titles = df[:1]\n",
    "questions_titles"
   ]
  },
  {
   "cell_type": "code",
   "execution_count": 4,
   "metadata": {},
   "outputs": [
    {
     "data": {
      "text/html": [
       "<div>\n",
       "<style scoped>\n",
       "    .dataframe tbody tr th:only-of-type {\n",
       "        vertical-align: middle;\n",
       "    }\n",
       "\n",
       "    .dataframe tbody tr th {\n",
       "        vertical-align: top;\n",
       "    }\n",
       "\n",
       "    .dataframe thead th {\n",
       "        text-align: right;\n",
       "    }\n",
       "</style>\n",
       "<table border=\"1\" class=\"dataframe\">\n",
       "  <thead>\n",
       "    <tr style=\"text-align: right;\">\n",
       "      <th></th>\n",
       "      <th>Duration (in seconds)</th>\n",
       "      <th>Q2</th>\n",
       "      <th>Q3</th>\n",
       "      <th>Q4</th>\n",
       "      <th>Q5</th>\n",
       "      <th>Q6_1</th>\n",
       "      <th>Q6_2</th>\n",
       "      <th>Q6_3</th>\n",
       "      <th>Q6_4</th>\n",
       "      <th>Q6_5</th>\n",
       "      <th>...</th>\n",
       "      <th>Q44_3</th>\n",
       "      <th>Q44_4</th>\n",
       "      <th>Q44_5</th>\n",
       "      <th>Q44_6</th>\n",
       "      <th>Q44_7</th>\n",
       "      <th>Q44_8</th>\n",
       "      <th>Q44_9</th>\n",
       "      <th>Q44_10</th>\n",
       "      <th>Q44_11</th>\n",
       "      <th>Q44_12</th>\n",
       "    </tr>\n",
       "  </thead>\n",
       "  <tbody>\n",
       "    <tr>\n",
       "      <th>2</th>\n",
       "      <td>462</td>\n",
       "      <td>30-34</td>\n",
       "      <td>Man</td>\n",
       "      <td>Algeria</td>\n",
       "      <td>No</td>\n",
       "      <td>NaN</td>\n",
       "      <td>NaN</td>\n",
       "      <td>NaN</td>\n",
       "      <td>NaN</td>\n",
       "      <td>NaN</td>\n",
       "      <td>...</td>\n",
       "      <td>NaN</td>\n",
       "      <td>NaN</td>\n",
       "      <td>NaN</td>\n",
       "      <td>NaN</td>\n",
       "      <td>NaN</td>\n",
       "      <td>NaN</td>\n",
       "      <td>NaN</td>\n",
       "      <td>NaN</td>\n",
       "      <td>NaN</td>\n",
       "      <td>NaN</td>\n",
       "    </tr>\n",
       "    <tr>\n",
       "      <th>3</th>\n",
       "      <td>293</td>\n",
       "      <td>18-21</td>\n",
       "      <td>Man</td>\n",
       "      <td>Egypt</td>\n",
       "      <td>Yes</td>\n",
       "      <td>Coursera</td>\n",
       "      <td>edX</td>\n",
       "      <td>NaN</td>\n",
       "      <td>DataCamp</td>\n",
       "      <td>NaN</td>\n",
       "      <td>...</td>\n",
       "      <td>NaN</td>\n",
       "      <td>Kaggle (notebooks, forums, etc)</td>\n",
       "      <td>NaN</td>\n",
       "      <td>YouTube (Kaggle YouTube, Cloud AI Adventures, ...</td>\n",
       "      <td>Podcasts (Chai Time Data Science, O’Reilly Dat...</td>\n",
       "      <td>NaN</td>\n",
       "      <td>NaN</td>\n",
       "      <td>NaN</td>\n",
       "      <td>NaN</td>\n",
       "      <td>NaN</td>\n",
       "    </tr>\n",
       "    <tr>\n",
       "      <th>4</th>\n",
       "      <td>851</td>\n",
       "      <td>55-59</td>\n",
       "      <td>Man</td>\n",
       "      <td>France</td>\n",
       "      <td>No</td>\n",
       "      <td>Coursera</td>\n",
       "      <td>NaN</td>\n",
       "      <td>Kaggle Learn Courses</td>\n",
       "      <td>NaN</td>\n",
       "      <td>NaN</td>\n",
       "      <td>...</td>\n",
       "      <td>NaN</td>\n",
       "      <td>Kaggle (notebooks, forums, etc)</td>\n",
       "      <td>Course Forums (forums.fast.ai, Coursera forums...</td>\n",
       "      <td>NaN</td>\n",
       "      <td>NaN</td>\n",
       "      <td>Blogs (Towards Data Science, Analytics Vidhya,...</td>\n",
       "      <td>NaN</td>\n",
       "      <td>NaN</td>\n",
       "      <td>NaN</td>\n",
       "      <td>NaN</td>\n",
       "    </tr>\n",
       "    <tr>\n",
       "      <th>5</th>\n",
       "      <td>232</td>\n",
       "      <td>45-49</td>\n",
       "      <td>Man</td>\n",
       "      <td>India</td>\n",
       "      <td>Yes</td>\n",
       "      <td>NaN</td>\n",
       "      <td>NaN</td>\n",
       "      <td>NaN</td>\n",
       "      <td>NaN</td>\n",
       "      <td>NaN</td>\n",
       "      <td>...</td>\n",
       "      <td>NaN</td>\n",
       "      <td>NaN</td>\n",
       "      <td>NaN</td>\n",
       "      <td>NaN</td>\n",
       "      <td>NaN</td>\n",
       "      <td>Blogs (Towards Data Science, Analytics Vidhya,...</td>\n",
       "      <td>NaN</td>\n",
       "      <td>NaN</td>\n",
       "      <td>NaN</td>\n",
       "      <td>NaN</td>\n",
       "    </tr>\n",
       "    <tr>\n",
       "      <th>6</th>\n",
       "      <td>277</td>\n",
       "      <td>18-21</td>\n",
       "      <td>Woman</td>\n",
       "      <td>India</td>\n",
       "      <td>Yes</td>\n",
       "      <td>Coursera</td>\n",
       "      <td>edX</td>\n",
       "      <td>NaN</td>\n",
       "      <td>DataCamp</td>\n",
       "      <td>NaN</td>\n",
       "      <td>...</td>\n",
       "      <td>NaN</td>\n",
       "      <td>Kaggle (notebooks, forums, etc)</td>\n",
       "      <td>Course Forums (forums.fast.ai, Coursera forums...</td>\n",
       "      <td>YouTube (Kaggle YouTube, Cloud AI Adventures, ...</td>\n",
       "      <td>NaN</td>\n",
       "      <td>Blogs (Towards Data Science, Analytics Vidhya,...</td>\n",
       "      <td>NaN</td>\n",
       "      <td>NaN</td>\n",
       "      <td>NaN</td>\n",
       "      <td>NaN</td>\n",
       "    </tr>\n",
       "  </tbody>\n",
       "</table>\n",
       "<p>5 rows × 296 columns</p>\n",
       "</div>"
      ],
      "text/plain": [
       "  Duration (in seconds)     Q2     Q3       Q4   Q5      Q6_1 Q6_2  \\\n",
       "2                   462  30-34    Man  Algeria   No       NaN  NaN   \n",
       "3                   293  18-21    Man    Egypt  Yes  Coursera  edX   \n",
       "4                   851  55-59    Man   France   No  Coursera  NaN   \n",
       "5                   232  45-49    Man    India  Yes       NaN  NaN   \n",
       "6                   277  18-21  Woman    India  Yes  Coursera  edX   \n",
       "\n",
       "                   Q6_3      Q6_4 Q6_5  ... Q44_3  \\\n",
       "2                   NaN       NaN  NaN  ...   NaN   \n",
       "3                   NaN  DataCamp  NaN  ...   NaN   \n",
       "4  Kaggle Learn Courses       NaN  NaN  ...   NaN   \n",
       "5                   NaN       NaN  NaN  ...   NaN   \n",
       "6                   NaN  DataCamp  NaN  ...   NaN   \n",
       "\n",
       "                             Q44_4  \\\n",
       "2                              NaN   \n",
       "3  Kaggle (notebooks, forums, etc)   \n",
       "4  Kaggle (notebooks, forums, etc)   \n",
       "5                              NaN   \n",
       "6  Kaggle (notebooks, forums, etc)   \n",
       "\n",
       "                                               Q44_5  \\\n",
       "2                                                NaN   \n",
       "3                                                NaN   \n",
       "4  Course Forums (forums.fast.ai, Coursera forums...   \n",
       "5                                                NaN   \n",
       "6  Course Forums (forums.fast.ai, Coursera forums...   \n",
       "\n",
       "                                               Q44_6  \\\n",
       "2                                                NaN   \n",
       "3  YouTube (Kaggle YouTube, Cloud AI Adventures, ...   \n",
       "4                                                NaN   \n",
       "5                                                NaN   \n",
       "6  YouTube (Kaggle YouTube, Cloud AI Adventures, ...   \n",
       "\n",
       "                                               Q44_7  \\\n",
       "2                                                NaN   \n",
       "3  Podcasts (Chai Time Data Science, O’Reilly Dat...   \n",
       "4                                                NaN   \n",
       "5                                                NaN   \n",
       "6                                                NaN   \n",
       "\n",
       "                                               Q44_8 Q44_9 Q44_10 Q44_11  \\\n",
       "2                                                NaN   NaN    NaN    NaN   \n",
       "3                                                NaN   NaN    NaN    NaN   \n",
       "4  Blogs (Towards Data Science, Analytics Vidhya,...   NaN    NaN    NaN   \n",
       "5  Blogs (Towards Data Science, Analytics Vidhya,...   NaN    NaN    NaN   \n",
       "6  Blogs (Towards Data Science, Analytics Vidhya,...   NaN    NaN    NaN   \n",
       "\n",
       "  Q44_12  \n",
       "2    NaN  \n",
       "3    NaN  \n",
       "4    NaN  \n",
       "5    NaN  \n",
       "6    NaN  \n",
       "\n",
       "[5 rows x 296 columns]"
      ]
     },
     "execution_count": 4,
     "metadata": {},
     "output_type": "execute_result"
    }
   ],
   "source": [
    "df = df[1:]\n",
    "df.head()"
   ]
  },
  {
   "cell_type": "code",
   "execution_count": 21,
   "metadata": {},
   "outputs": [
    {
     "data": {
      "text/plain": [
       "(23996, 296)"
      ]
     },
     "execution_count": 21,
     "metadata": {},
     "output_type": "execute_result"
    }
   ],
   "source": [
    "df.shape"
   ]
  },
  {
   "cell_type": "code",
   "execution_count": 5,
   "metadata": {},
   "outputs": [],
   "source": [
    "\"\"\"스캐터 플롯을 생성하는 함수\"\"\"\n",
    "def create_scatter_plot(\n",
    "    x_axis_values,  # 스캐터 플롯의 X축 값\n",
    "    y_axis_values,  # 스캐터 플롯의 Y축 값\n",
    "    hover_template,  # 마우스 오버 시 표시되는 텍스트 템플릿\n",
    "    marker_color,  # 마커의 색상 값\n",
    "    marker_size,  # 마커의 크기\n",
    "    title,  # 스캐터 플롯의 제목\n",
    "    subtitle,  # 스캐터 플롯의 부제목\n",
    "    subtitle_explain  # 부제목에 대한 추가 설명\n",
    "):\n",
    "    \n",
    "\n",
    "    # 스캐터 플롯의 데이터를 정의\n",
    "    trace = go.Scatter(\n",
    "        x=x_axis_values,  # X축 데이터\n",
    "        y=y_axis_values,  # Y축 데이터\n",
    "        mode='markers',  # 마커만 표시하는 모드\n",
    "        hovertemplate=hover_template,  # 마우스 오버 시 표시할 텍스트 템플릿\n",
    "        marker=dict(\n",
    "            color=marker_color,  # 마커의 색상\n",
    "            size=marker_size,  # 마커의 크기\n",
    "            showscale=True,  # 색상 범례 표시 여부\n",
    "            colorbar=dict(title=\"Percent\"),  # 색상 범례의 제목\n",
    "            opacity=0.7,  # 마커의 투명도\n",
    "            colorscale='RdBu_r'  # 마커의 색상 스케일\n",
    "        )\n",
    "    )\n",
    "\n",
    "    # 레이아웃 정의\n",
    "    layout = go.Layout(\n",
    "        width=900,  # 플롯의 너비\n",
    "        height=950,  # 플롯의 높이\n",
    "        plot_bgcolor=\"#fff\",  # 플롯 배경색\n",
    "        paper_bgcolor=\"#fff\",  # 전체 배경색\n",
    "        showlegend=False,  # 범례 표시 여부 (False로 설정)\n",
    "        title={\n",
    "            'text': f\"<span style='font-size:30px; font-family:Times New Roman'>{title}</span><br><br>\"\n",
    "                    f\"<sup>{subtitle}</sup><br><sup>{subtitle_explain}</sup>\",  # 제목 및 부제목 (HTML 스타일 적용)\n",
    "            'x': 0.5,  # 제목의 가로 정렬 위치 (가운데 정렬)\n",
    "            'xanchor': 'center'\n",
    "        },\n",
    "        font={\"color\": '#7b6b59'},  # 텍스트 색상 스타일\n",
    "        margin=dict(t=170),  # 위쪽 여백\n",
    "    )\n",
    "\n",
    "    # 데이터를 사용해 플롯 생성\n",
    "    fig = go.Figure(data=[trace], layout=layout)\n",
    "\n",
    "    # X축 속성 업데이트\n",
    "    fig.update_xaxes(\n",
    "        showline=False,  # X축 선 표시 여부\n",
    "        linewidth=1,  # 축선의 두께\n",
    "        linecolor='#c9c4c3',  # 축선의 색상\n",
    "        gridcolor='#c9c4c3',  # 격자선 색상\n",
    "        tickfont=dict(size=14, family='Verdana', color='#7b6b59'),  # 축 눈금의 텍스트 스타일\n",
    "        title=\"\",  # X축 제목\n",
    "        title_font=dict(size=14, family='Verdana', color='#f57369'),  # X축 제목의 폰트 스타일\n",
    "        showgrid=False,  # 격자선 표시 여부\n",
    "        tickangle=325  # 눈금 텍스트 회전 각도\n",
    "    )\n",
    "\n",
    "    # Y축 속성 업데이트\n",
    "    fig.update_yaxes(\n",
    "        showline=False,  # Y축 선 표시 여부\n",
    "        linewidth=1,  # 축선의 두께\n",
    "        linecolor='#000',  # 축선의 색상\n",
    "        gridcolor='#fff',  # 격자선 색상\n",
    "        tickfont=dict(size=14, family='Verdana', color='#a43725'),  # 축 눈금의 텍스트 스타일\n",
    "        title=\"\",  # Y축 제목\n",
    "        title_font=dict(size=14, family='Verdana', color='#f57369'),  # Y축 제목의 폰트 스타일\n",
    "        showgrid=False  # 격자선 표시 여부\n",
    "    )\n",
    "\n",
    "    # 플롯 표시\n",
    "    fig.show()\n",
    "    \n",
    "    \n",
    "\"\"\"바 플롯의 트레이스를 생성하는 함수\"\"\"\n",
    "def get_bar_plot_trace(x_values, y_values, display_text, top_n, rest_n, hovertext, orientation=\"h\"):\n",
    "    \n",
    "\n",
    "    # 바 플롯의 데이터 정의\n",
    "    trace = go.Bar(\n",
    "        y=y_values,  # Y축 데이터\n",
    "        x=x_values,  # X축 데이터\n",
    "        name=\"\",  # 이름 없음\n",
    "        orientation=orientation,  # 바의 방향 (기본은 가로)\n",
    "        marker=dict(\n",
    "            color=[\"#E6b6a4\"] * rest_n + [\"#a43725\"] * top_n  # 상위 N개의 색상과 나머지 색상\n",
    "        ),\n",
    "        text=display_text,  # 막대에 표시될 텍스트\n",
    "        texttemplate=\"<b style='color: #fff'>%{text}% </b>\",  # 텍스트 스타일\n",
    "        textposition=[\"outside\"] * rest_n + [\"inside\"] * top_n,  # 텍스트 위치\n",
    "        hovertext=hovertext  # 마우스 오버 시 텍스트\n",
    "    )\n",
    "\n",
    "    return trace  # 생성한 트레이스 반환\n",
    "\n",
    "\n",
    "\n",
    "\"\"\"단일 바 플롯을 생성하는 함수\"\"\"\n",
    "def create_single_bar_plot(x_values, y_values, display_text, top_n, rest_n, hovertext, title, subtitle=\"\", orientation=\"h\"):\n",
    "\n",
    "    # 바 플롯 트레이스를 생성\n",
    "    trace = get_bar_plot_trace(x_values, y_values, display_text, top_n, rest_n, hovertext, orientation)\n",
    "\n",
    "    # 제목 스타일 정의\n",
    "    large_title_format = f\"<span style='font-size:30px; font-family:Times New Roman'>{title}</span>\"\n",
    "\n",
    "    # 레이아웃 정의\n",
    "    layout = dict(\n",
    "        title=large_title_format,  # 제목\n",
    "        font=dict(color='#7b6b59'),  # 텍스트 스타일\n",
    "        margin=dict(t=120),  # 위쪽 여백\n",
    "        yaxis={'categoryorder': 'array', 'categoryarray': x_values},  # Y축 정렬\n",
    "        xaxis=dict(\n",
    "            side=\"top\",  # X축 위치\n",
    "            zerolinecolor=\"#4d4d4d\",  # 0선 색상\n",
    "            zerolinewidth=0.5,  # 0선 두께\n",
    "            gridcolor=\"#e7e7e7\",  # 격자선 색상\n",
    "            tickformat=\",.1%\"  # 눈금 형식\n",
    "        ),\n",
    "        width=800,  # 플롯 너비\n",
    "        height=700,  # 플롯 높이\n",
    "        plot_bgcolor=\"white\"  # 플롯 배경색\n",
    "    )\n",
    "\n",
    "    # 플롯 생성\n",
    "    fig = go.Figure(data=trace, layout=layout)\n",
    "\n",
    "    # 플롯 표시\n",
    "    fig.show()\n",
    "    \n",
    "    \n",
    "\"\"\"박스 플롯을 생성하는 함수\"\"\"\n",
    "def create_box_plot(df, x_column_name, y_column_name, title):\n",
    "    \n",
    "\n",
    "    # Plotly Express를 사용하여 박스 플롯 생성\n",
    "    fig = px.box(\n",
    "        df,  # 데이터프레임\n",
    "        x=x_column_name,  # X축 데이터\n",
    "        y=y_column_name,  # Y축 데이터\n",
    "        title=f\"<span style='font-size:30px; color:#7b6b59; font-family:Times New Roman'>{title}</span>\"  # 제목\n",
    "    )\n",
    "\n",
    "    # 추가 스타일 정의\n",
    "    layout = go.Layout(\n",
    "        xaxis={\"title\": \"\"},  # X축 제목 없음\n",
    "        yaxis={\"title\": \"Compensation in USD\"},  # Y축 제목\n",
    "        font=dict(color='black'),  # 텍스트 색상\n",
    "        paper_bgcolor='rgba(0,0,0,0)',  # 종이 배경 투명\n",
    "        plot_bgcolor='rgba(0,0,0,0)',  # 플롯 배경 투명\n",
    "        height=800,  # 플롯 높이\n",
    "        width=1050  # 플롯 너비\n",
    "    )\n",
    "\n",
    "    # 레이아웃 및 스타일 업데이트\n",
    "    fig.update_layout(layout)\n",
    "    fig.update_yaxes(showline=True, linewidth=1, gridcolor='lightgrey')  # Y축 선 스타일\n",
    "    fig.update_traces(marker_color='#b39a74')  # 마커 색상\n",
    "\n",
    "    # 플롯 표시\n",
    "    fig.show()\n",
    "\n",
    "\n",
    "\n",
    "\"\"\"히트맵을 생성하는 함수\"\"\"\n",
    "def create_heatmap(z, x, y, annotation_text, color_scale, title, subtitle=\"\", xlabel=\"\", ylabel=\"\"):\n",
    "    \n",
    "\n",
    "    # Plotly의 Annotated Heatmap 생성\n",
    "    fig = ff.create_annotated_heatmap(\n",
    "        z,  # Z값 (히트맵 강도)\n",
    "        x=x,  # X축 레이블\n",
    "        y=y,  # Y축 레이블\n",
    "        annotation_text=annotation_text,  # 주석 텍스트\n",
    "        colorscale=color_scale  # 색상 스케일\n",
    "    )\n",
    "\n",
    "    # 제목 정의\n",
    "    large_title_format = f\"<span style='font-size:30px; font-family:Times New Roman'>{title}</span>\"\n",
    "    small_title_format = f\"<span style='font-size:14px; font-family:Helvetica'>{subtitle}</b></span>\"\n",
    "\n",
    "    # 레이아웃 정의\n",
    "    layout = dict(\n",
    "        title=large_title_format + \"<br>\" + small_title_format,  # 제목 및 부제목\n",
    "        font=dict(color='#7b6b59'),  # 텍스트 색상\n",
    "        xaxis={\"title\": xlabel},  # X축 제목\n",
    "        yaxis={\"title\": ylabel},  # Y축 제목\n",
    "    )\n",
    "\n",
    "    # 레이아웃 업데이트\n",
    "    fig['layout'].update(layout)\n",
    "    fig[\"layout\"][\"xaxis\"].update(side=\"bottom\")  # X축 레이블 아래쪽에 표시\n",
    "\n",
    "    # 히트맵 표시\n",
    "    fig.show()\n"
   ]
  },
  {
   "cell_type": "code",
   "execution_count": null,
   "metadata": {},
   "outputs": [],
   "source": [
    "# 머신러닝 채택 상태를 더 일반적인 범주로 분류하는 딕셔너리\n",
    "map_ml_adoption = {\n",
    "    \"No (we do not use ML methods)\": \"Not Started\",  # 머신러닝을 사용하지 않는 경우\n",
    "    \"We are exploring ML methods (and may one day put a model into production)\": \"Exploration Stage\",  # 머신러닝을 탐색 중인 경우\n",
    "    \"We use ML methods for generating insights (but do not put working models into production)\": \"Generating Insights\",  # 머신러닝으로 인사이트만 생성하는 경우\n",
    "    \"We recently started using ML methods (i.e., models in production for less than 2 years)\": \"Models in Production\",  # 최근에 머신러닝 모델을 생산에 도입한 경우\n",
    "    \"We have well established ML methods (i.e., models in production for more than 2 years)\": \"Models in Production\",  # 머신러닝 모델이 잘 정립된 경우\n",
    "    \"I do not know\": \"Not Known\",  # 알 수 없는 상태\n",
    "    np.nan: \"Not Known\"  # 데이터가 없는 경우\n",
    "}\n",
    "\n",
    "# 머신러닝 채택 단계별 색상 지정\n",
    "ml_adoption_color_discrete_map = {\n",
    "    \"Models in Production\": \"#a43725\",  # 생산 단계\n",
    "    \"Generating Insights\": \"#c07156\",  # 인사이트 생성 단계\n",
    "    \"Exploration Stage\": \"#E6b6a4\",  # 탐색 단계\n",
    "    \"Not Started\": \"#e0d5bd\",  # 시작하지 않은 단계\n",
    "    \"Not Known\": \"#beb29e\"  # 알 수 없는 상태\n",
    "}\n",
    "\n",
    "# 머신러닝 채택 상태에 번호를 추가하여 알파벳순 정렬을 쉽게 만든 딕셔너리\n",
    "map_ml_usage = {\n",
    "    \"No (we do not use ML methods)\": \"0. Not Started<br><sup>(No ML)</sup>\", \n",
    "    \"We are exploring ML methods (and may one day put a model into production)\": \"1. Exploration<br><sup>Only Exploring ML</sup>\",\n",
    "    \"We use ML methods for generating insights (but do not put working models into production)\": \"2. Beginner Stage<br><sup>Use ML only for Insights</sup>\", \n",
    "    \"We recently started using ML methods (i.e., models in production for less than 2 years)\": \"3. Intermediate Stage<br><sup>Recently Started Using ML</sup>\",\n",
    "    \"We have well established ML methods (i.e., models in production for more than 2 years)\": \"4. Advance Stage<br><sup>Well Established ML</sup>\",\n",
    "    \"I do not know\": \"Not Known\",\n",
    "    np.nan: \"Not Known\"\n",
    "}\n",
    "\n",
    "# 회사 규모에 번호를 추가하여 정렬 가능한 딕셔너리\n",
    "map_company_size = {\n",
    "    \"0-49 employees\": \"1. 0-49 employees\", \n",
    "    \"50-249 employees\": \"2. 50-249 employees\",\n",
    "    \"250-999 employees\": \"3. 250-999 employees\",\n",
    "    \"1000-9,999 employees\": \"4. 1000-9,999 employees\",\n",
    "    \"10,000 or more employees\": \"5. 10,000 or more employees\",\n",
    "    np.nan: np.nan\n",
    "}\n",
    "\n",
    "# 프로그래밍 경험에 번호를 추가하여 정렬 가능한 딕셔너리\n",
    "map_programming_experience = {\n",
    "    \"I have never written code\": \"1. 0 years\",\n",
    "    \"< 1 years\": \"2. < 1 years\",\n",
    "    \"1-3 years\": \"3. 1-3 years\",\n",
    "    \"3-5 years\": \"4. 3-5 years\",\n",
    "    \"5-10 years\": \"5. 5-10 years\",\n",
    "    \"10-20 years\": \"6. 10-20 years\",\n",
    "    \"20+ years\": \"7. 20+ years\",\n",
    "    np.nan: np.nan\n",
    "}\n",
    "\n",
    "# 머신러닝 경험에 번호를 추가하여 정렬 가능한 딕셔너리\n",
    "map_ml_experience = {\n",
    "    \"I do not use machine learning methods\": \"1. 0 years\",\n",
    "    \"Under 1 year\": \"2. < 1 years\",\n",
    "    \"1-2 years\": \"3. 1-2 years\",\n",
    "    \"2-3 years\": \"4. 2-3 years\",\n",
    "    \"3-4 years\": \"5. 3-4 years\",\n",
    "    \"4-5 years\": \"6. 4-5 years\",\n",
    "    \"5-10 years\": \"7. 5-10 years\",\n",
    "    \"10-20 years\": \"8. 10-20 years\",\n",
    "    \"20+ years\": \"9. 20+ years\",\n",
    "    np.nan: np.nan\n",
    "}\n",
    "\n",
    "# 데이터 사이언스 팀 규모에 번호를 추가하여 정렬 가능한 딕셔너리\n",
    "map_data_team_size = {\n",
    "    \"0\": \"1. 0\",\n",
    "    \"1-2\": \"2. 1-2\",\n",
    "    \"3-4\": \"3. 3-4\",\n",
    "    \"5-9\": \"4. 5-9\",\n",
    "    \"10-14\": \"5. 10-14\",\n",
    "    \"15-19\": \"6. 15-19\",\n",
    "    \"20+\": \"7. 20+\",\n",
    "    np.nan: np.nan\n",
    "}\n",
    "\n",
    "# 국가와 해당 대륙의 매핑\n",
    "countries_df = px.data.gapminder().query(\"year == 2007\")\n",
    "countries_df[\"country\"] = countries_df[\"country\"].str.strip()\n",
    "\n",
    "map_country_continent = {\n",
    "    \"United States of America\": \"Americas\", \n",
    "    \"United Kingdom of Great Britain and Northern Ireland\": \"Europe\",\n",
    "    \"South Korea\": \"Asia\", \n",
    "    \"Russia\": \"Europe\",\n",
    "    \"Viet Nam\": \"Asia\",\n",
    "    \"Hong Kong (S.A.R.)\": \"Asia\",\n",
    "    \"Ukraine\": \"Europe\",\n",
    "    \"United Arab Emirates\": \"Asia\",\n",
    "    \"Iran, Islamic Republic of...\": \"Asia\"\n",
    "}\n",
    "\n",
    "\n",
    "\"\"\"특정 국가를 해당 대륙으로 매핑\"\"\"\n",
    "def fix_map_country_continent(map_countries: dict, country: str, continent: str):\n",
    "    if country in map_countries:\n",
    "        return map_countries[country]\n",
    "    return continent\n",
    "\n",
    "\n",
    "\n",
    "\"\"\"주어진 질문의 응답에서 사용 여부를 확인합니다.\"\"\"\n",
    "def usage_of_a_product_or_service(question_title: str, row: pd.Series, columns_list: list) -> str:\n",
    "    \n",
    "    for col in columns_list:\n",
    "        if col.startswith(question_title):\n",
    "            if not pd.isnull(row[col]) and row[col].strip().lower() != \"none\":\n",
    "                return \"Yes\"\n",
    "    return \"No\"  # 선택지가 비어있으면 \"No\" 반환\n",
    "\n",
    "\n",
    "\n",
    "\n",
    "\"\"\"학력을 일반적인 범주로 분류\"\"\"\n",
    "def categorize_education(education: str) -> str:\n",
    "    if education in [\n",
    "        \"No formal education past high school\", \n",
    "        \"Some college/university study without earning a bachelor’s degree\"\n",
    "    ]:\n",
    "        return \"Lower than Bachelor\"\n",
    "    if education == \"Bachelor’s degree\":\n",
    "        return \"Bachelor\"\n",
    "    if education == \"Master’s degree\":\n",
    "        return \"Master\"\n",
    "    if education in [\"Doctoral degree\", \"Professional doctorate\"]:\n",
    "        return \"Higher than Master\"\n",
    "    return \"Other\"\n",
    "\n",
    "\n",
    "\n",
    "\"\"\"\n",
    "    다중 선택형 질문의 응답을 추출하고 선택지별 빈도를 계산합니다.\n",
    "    예: 컴퓨터 비전 방법(Q19)에 대해 각 선택지를 그룹화하여 빈도와 상대 비율 계산.\n",
    "    \"\"\"\n",
    "def extract_and_count_all_the_multiple_choice_answers(question, df):\n",
    "    choices_list = [choice for choice in df.columns if choice.startswith(question)]\n",
    "    dfs_list = []\n",
    "    for col in choices_list:\n",
    "        dfs_list.append(\n",
    "            df.groupby([col])\n",
    "            .agg({\"Q2\": \"count\"})\n",
    "            .reset_index()\n",
    "            .rename(columns={col: question, \"Q2\": \"counts\"})\n",
    "        )\n",
    "\n",
    "    agg_df = pd.concat(dfs_list)\n",
    "    agg_df[\"relative_percent\"] = agg_df.apply(lambda x: (x[\"counts\"] / df.shape[0]), axis=1)\n",
    "    agg_df = agg_df.sort_values(by=[\"relative_percent\"], ascending=True)\n",
    "\n",
    "    return agg_df\n",
    "\n",
    "\n",
    "\"\"\"서비스 이름에 따라 해당 회사(Google, Microsoft, Amazon 등)를 반환.\"\"\"\n",
    "def assign_label(service: str):\n",
    "    if \"google\" in service.lower():\n",
    "        return \"Google\"\n",
    "    if \"aws\" in service.lower() or \"amazon\" in service.lower():\n",
    "        return \"Amazon\"\n",
    "    if \"azure\" in service.lower() or \"microsoft\" in service.lower():\n",
    "        return \"Microsoft\"\n",
    "    if \"ibm\" in service.lower():\n",
    "        return \"IBM\"\n",
    "    return \"Other\"\n",
    "\n",
    "\n",
    "\"\"\"질문의 응답에서 선택한 항목 수를 반환\"\"\"\n",
    "def extract_the_number_of_responses(question_title: str, row: pd.Series, columns_list: list) -> str:\n",
    "    num_responses = 0\n",
    "    for col in columns_list:\n",
    "        if col.startswith(question_title):\n",
    "            if not pd.isnull(row[col]):\n",
    "                num_responses += 1\n",
    "    return num_responses\n",
    "\n",
    "\"\"\"데이터프레임에 스타일을 적용하고 표시\"\"\"\n",
    "def wrap_df_text(df):\n",
    "    \"\"\"데이터프레임에 스타일을 적용하고 표시\"\"\"\n",
    "    return display(\n",
    "        HTML(\n",
    "            df.style.background_gradient(\n",
    "                axis=0, cmap=\"YlOrBr\", subset=[\"Average number of selected choices\"]\n",
    "            )\n",
    "            .to_html()\n",
    "            .replace(\"\\\\n\", \"<br>\")\n",
    "        )\n",
    "    )"
   ]
  },
  {
   "cell_type": "code",
   "execution_count": null,
   "metadata": {},
   "outputs": [],
   "source": [
    "# 학생이 아닌 응답자 필터링 (Q5 질문에 **No**라고 응답한 경우)\n",
    "# 현재 고용 상태인 응답자 필터링 (Q23 질문에 \"Currently not employed\"라고 응답하지 않은 경우)\n",
    "# 현재 고용된 산업 또는 은퇴자의 최근 고용 정보를 제공한 응답자 필터링 (Q24 질문에 응답이 있는 경우)\n",
    "\n",
    "scope_df = df[\n",
    "    (df[\"Q5\"] == \"No\") &  \n",
    "    (df[\"Q24\"].notnull()) & \n",
    "    (df[\"Q23\"] != \"Currently not employed\")\n",
    "]\n",
    "\n",
    "\n",
    "scope_df[\"ML_adoption_class\"] = scope_df[\"Q27\"].apply(lambda x: map_ml_adoption[x]) ## 파생 변수1\n",
    "\n",
    "\n",
    "scope_df[\"ML_adoption\"] = scope_df[\"Q27\"].apply(lambda x: map_ml_usage[x]) ## 파생 변수2\n",
    "\n",
    "\n",
    "scope_df[\"Q25\"] = scope_df[\"Q25\"].apply(lambda x: map_company_size[x])\n",
    "\n",
    "\n",
    "scope_df[\"Cloud_usage\"] = scope_df.apply(\n",
    "    lambda row: usage_of_a_product_or_service(\"Q31\", row, list(scope_df.columns)), axis=1   ## 파생 변수3\n",
    ")\n",
    "\n",
    "\n",
    "scope_df[\"NLP_methods_usage\"] = scope_df.apply(\n",
    "    lambda row: usage_of_a_product_or_service(\"Q20\", row, list(scope_df.columns)), axis=1   ## 파생 변수4\n",
    ")\n",
    "\n",
    "scope_df[\"CV_methods_usage\"] = scope_df.apply(\n",
    "    lambda row: usage_of_a_product_or_service(\"Q19\", row, list(scope_df.columns)), axis=1   ## 파생 변수5\n",
    ")\n",
    "\n",
    "\n",
    "scope_df[\"GPU_usage\"] = scope_df.apply(\n",
    "    lambda row: usage_of_a_product_or_service(\"Q42\", row, list(scope_df.columns)), axis=1   ## 파생 변수6\n",
    ")\n",
    "\n",
    "\n",
    "scope_df[\"Q11\"] = scope_df[\"Q11\"].apply(lambda x: map_programming_experience[x])\n",
    "\n",
    "\n",
    "scope_df[\"Q16\"] = scope_df[\"Q16\"].apply(lambda x: map_ml_experience[x])\n",
    "\n",
    "\n",
    "scope_df[\"Q26\"] = scope_df[\"Q26\"].apply(lambda x: map_data_team_size[x])\n",
    "\n",
    "# 산업별 응답자 총합 계산\n",
    "industry_totals = scope_df[\"Q24\"].value_counts().to_dict()\n"
   ]
  },
  {
   "cell_type": "code",
   "execution_count": 26,
   "metadata": {},
   "outputs": [
    {
     "data": {
      "text/plain": [
       "Index(['Duration (in seconds)', 'Q2', 'Q3', 'Q4', 'Q5', 'Q6_1', 'Q6_2', 'Q6_3',\n",
       "       'Q6_4', 'Q6_5',\n",
       "       ...\n",
       "       'Q44_3', 'Q44_4', 'Q44_5', 'Q44_6', 'Q44_7', 'Q44_8', 'Q44_9', 'Q44_10',\n",
       "       'Q44_11', 'Q44_12'],\n",
       "      dtype='object', length=296)"
      ]
     },
     "execution_count": 26,
     "metadata": {},
     "output_type": "execute_result"
    }
   ],
   "source": [
    "df[1:].columns"
   ]
  },
  {
   "cell_type": "code",
   "execution_count": 23,
   "metadata": {},
   "outputs": [
    {
     "data": {
      "text/plain": [
       "Index(['Duration (in seconds)', 'Q2', 'Q3', 'Q4', 'Q5', 'Q6_1', 'Q6_2', 'Q6_3',\n",
       "       'Q6_4', 'Q6_5',\n",
       "       ...\n",
       "       'Q44_9', 'Q44_10', 'Q44_11', 'Q44_12', 'ML_adoption_class',\n",
       "       'ML_adoption', 'Cloud_usage', 'NLP_methods_usage', 'CV_methods_usage',\n",
       "       'GPU_usage'],\n",
       "      dtype='object', length=302)"
      ]
     },
     "execution_count": 23,
     "metadata": {},
     "output_type": "execute_result"
    }
   ],
   "source": [
    "scope_df.columns"
   ]
  },
  {
   "cell_type": "markdown",
   "metadata": {},
   "source": [
    "###  -- target data의 볼륨 변화\n",
    "### (23996, 296) --> (9094, 302)"
   ]
  },
  {
   "cell_type": "code",
   "execution_count": null,
   "metadata": {},
   "outputs": [],
   "source": []
  },
  {
   "cell_type": "code",
   "execution_count": 9,
   "metadata": {},
   "outputs": [
    {
     "data": {
      "text/plain": [
       "\"\\n방법론\\n분석을 위한 대표 데이터세트를 최대한 많이 확보하기 위해 전문가, 즉 아래 나열된 기준을 충족하는 응답자만 데이터세트에 보관하겠습니다.\\n\\n현재 학생이 아닙니다(Q5 질문에 아니요라고 답하세요).\\n현재 취업 중입니다. (Q23 질문에 '현재 취업하지 않음'이라고 답하지 않았습니다.)\\n현재 고용된 업계(또는 퇴직한 경우 가장 최근 고용주)에 답변했습니다. - Q24 질문에 답변이 있으며 없음이 아닙니다.\\n아래에서 볼 수 있듯이 전체 응답 중 약 37.9%가 위 기준을 충족하고 있으며, 이러한 응답을 바탕으로 분석이 진행됩니다.\\n\\n\""
      ]
     },
     "execution_count": 9,
     "metadata": {},
     "output_type": "execute_result"
    }
   ],
   "source": [
    "\"\"\"\n",
    "방법론\n",
    "분석을 위한 대표 데이터세트를 최대한 많이 확보하기 위해 전문가, 즉 아래 나열된 기준을 충족하는 응답자만 데이터세트에 보관하겠습니다.\n",
    "\n",
    "현재 학생이 아닙니다(Q5 질문에 아니요라고 답하세요).\n",
    "현재 취업 중입니다. (Q23 질문에 '현재 취업하지 않음'이라고 답하지 않았습니다.)\n",
    "현재 고용된 업계(또는 퇴직한 경우 가장 최근 고용주)에 답변했습니다. - Q24 질문에 답변이 있으며 없음이 아닙니다.\n",
    "아래에서 볼 수 있듯이 전체 응답 중 약 37.9%가 위 기준을 충족하고 있으며, 이러한 응답을 바탕으로 분석이 진행됩니다.\n",
    "\n",
    "\"\"\""
   ]
  },
  {
   "cell_type": "code",
   "execution_count": 10,
   "metadata": {},
   "outputs": [
    {
     "data": {
      "image/png": "[encoded data removed]",
      "text/plain": [
       "<Figure size 500x200 with 1 Axes>"
      ]
     },
     "metadata": {},
     "output_type": "display_data"
    }
   ],
   "source": [
    "# text 시각화 설정? 테스트?\n",
    "\n",
    "mpl.rcParams.update(mpl.rcParamsDefault)\n",
    "\n",
    "fig1 = plt.figure(figsize=(5,2),facecolor='white')\n",
    "\n",
    "ax1 = fig1.add_subplot(1,1,1)\n",
    "font = 'monospace'\n",
    "ax1.text(0.9, 0.8, \"Key figures\",color='#7b6b59',fontsize=26, fontweight='bold', fontfamily=font, ha='center')\n",
    "\n",
    "\n",
    "ax1.text(0, 0.4, \"{:,d}\".format(df.shape[0]), color='#e60000', fontsize=24, fontweight='bold', fontfamily=font, ha='center')\n",
    "ax1.text(0, 0.001, \"# of respondents \\nin the survey\",color='#757575',fontsize=15, fontweight='light', fontfamily=font,ha='center')\n",
    "\n",
    "ax1.text(0.6, 0.4, \"{}\".format(scope_df.shape[0]), color='#e60000', fontsize=24, fontweight='bold', fontfamily=font, ha='center')\n",
    "ax1.text(0.6, 0.001, \"# of professionals\",color='#757575',fontsize=15, fontweight='light', fontfamily=font,ha='center')\n",
    "\n",
    "\n",
    "ax1.text(1.5, 0.4, \"{}\".format(round((scope_df.shape[0]/df.shape[0] )*100, 2))+\"%\", color='#e60000', fontsize=24, fontweight='bold', fontfamily=font, ha='center')\n",
    "ax1.text(1.5, 0.001, \"of the respondents are in the analysis \\nscope\",color='#757575',fontsize=15, fontweight='light', fontfamily=font, ha='center')\n",
    "\n",
    "ax1.set_yticklabels('')\n",
    "ax1.tick_params(axis='y',length=0)\n",
    "ax1.tick_params(axis='x',length=0)\n",
    "ax1.set_xticklabels('')\n",
    "\n",
    "for direction in ['top','right','left','bottom']:\n",
    "    ax1.spines[direction].set_visible(False)\n",
    "\n",
    "fig1.subplots_adjust(top=0.9, bottom=0.2, left=0, hspace=1)\n",
    "\n",
    "fig1.patch.set_linewidth(3)\n",
    "fig1.patch.set_edgecolor('#E6b6a4')\n",
    "fig1.patch.set_facecolor('white')\n",
    "ax1.set_facecolor('white')\n",
    "    \n",
    "plt.show()"
   ]
  },
  {
   "cell_type": "code",
   "execution_count": 33,
   "metadata": {},
   "outputs": [],
   "source": [
    "# 모든 다중 선택 질문을 수집하기 위한 딕셔너리 생성\n",
    "multiple_choice_questions = {}  # 질문별 선택 항목 개수를 저장\n",
    "seen_columns = []  # 이미 처리된 질문을 추적하기 위한 리스트\n",
    "\n",
    "# 데이터프레임의 모든 열을 순회하며 다중 선택 질문을 식별\n",
    "for col in df.columns:\n",
    "    question = col.split(\"_\")[0]  # 열 이름에서 질문 번호 추출 (예: \"Q31_1\" -> \"Q31\")\n",
    "    if question in seen_columns:  # 이미 확인된 질문인 경우\n",
    "        if question not in multiple_choice_questions:  \n",
    "            # 해당 질문이 딕셔너리에 없다면 초기값을 2로 설정\n",
    "            # (현재 열과 기존 열의 두 개 선택지를 포함하므로)\n",
    "            multiple_choice_questions[question] = 2  \n",
    "        else:  \n",
    "            # 이미 딕셔너리에 있다면 선택지 개수를 1 증가\n",
    "            multiple_choice_questions[question] = multiple_choice_questions[question] + 1\n",
    "    else:\n",
    "        # 처음 확인된 질문이라면 `seen_columns`에 추가\n",
    "        seen_columns.append(question)\n",
    "\n",
    "# 다중 선택 질문의 각 질문에 대해 새로운 열 추가\n",
    "# 각 응답자가 해당 질문에서 선택한 답변의 개수를 계산하여 새로운 열로 저장\n",
    "for col in list(multiple_choice_questions.keys()):  # 딕셔너리에서 질문 번호만 추출\n",
    "    # `scope_df`에 새로운 열을 추가하여 응답자의 선택지 개수를 저장\n",
    "    scope_df[f\"{col}_number_of_responses\"] = scope_df.apply(\n",
    "        lambda x: extract_the_number_of_responses(col, x, df.columns), axis=1\n",
    "    )\n"
   ]
  },
  {
   "cell_type": "code",
   "execution_count": 34,
   "metadata": {},
   "outputs": [
    {
     "data": {
      "text/html": [
       "<style type=\"text/css\">\n",
       "#T_03fee_row0_col2, #T_03fee_row6_col2 {\n",
       "  background-color: #ffffe5;\n",
       "  color: #000000;\n",
       "}\n",
       "#T_03fee_row1_col2 {\n",
       "  background-color: #fa8f24;\n",
       "  color: #f1f1f1;\n",
       "}\n",
       "#T_03fee_row2_col2 {\n",
       "  background-color: #e46710;\n",
       "  color: #f1f1f1;\n",
       "}\n",
       "#T_03fee_row3_col2 {\n",
       "  background-color: #fec550;\n",
       "  color: #000000;\n",
       "}\n",
       "#T_03fee_row4_col2 {\n",
       "  background-color: #feba46;\n",
       "  color: #000000;\n",
       "}\n",
       "#T_03fee_row5_col2 {\n",
       "  background-color: #662506;\n",
       "  color: #f1f1f1;\n",
       "}\n",
       "</style>\n",
       "<table id=\"T_03fee\">\n",
       "  <thead>\n",
       "    <tr>\n",
       "      <th class=\"blank level0\" >&nbsp;</th>\n",
       "      <th id=\"T_03fee_level0_col0\" class=\"col_heading level0 col0\" >Years of Machine Learning Experience</th>\n",
       "      <th id=\"T_03fee_level0_col1\" class=\"col_heading level0 col1\" >Nbr of respondents</th>\n",
       "      <th id=\"T_03fee_level0_col2\" class=\"col_heading level0 col2\" >%</th>\n",
       "    </tr>\n",
       "  </thead>\n",
       "  <tbody>\n",
       "    <tr>\n",
       "      <th id=\"T_03fee_level0_row0\" class=\"row_heading level0 row0\" >0</th>\n",
       "      <td id=\"T_03fee_row0_col0\" class=\"data row0 col0\" >2. < 1 years</td>\n",
       "      <td id=\"T_03fee_row0_col1\" class=\"data row0 col1\" >11</td>\n",
       "      <td id=\"T_03fee_row0_col2\" class=\"data row0 col2\" >6.400000</td>\n",
       "    </tr>\n",
       "    <tr>\n",
       "      <th id=\"T_03fee_level0_row1\" class=\"row_heading level0 row1\" >1</th>\n",
       "      <td id=\"T_03fee_row1_col0\" class=\"data row1 col0\" >3. 1-2 years</td>\n",
       "      <td id=\"T_03fee_row1_col1\" class=\"data row1 col1\" >28</td>\n",
       "      <td id=\"T_03fee_row1_col2\" class=\"data row1 col2\" >16.280000</td>\n",
       "    </tr>\n",
       "    <tr>\n",
       "      <th id=\"T_03fee_level0_row2\" class=\"row_heading level0 row2\" >2</th>\n",
       "      <td id=\"T_03fee_row2_col0\" class=\"data row2 col0\" >4. 2-3 years</td>\n",
       "      <td id=\"T_03fee_row2_col1\" class=\"data row2 col1\" >32</td>\n",
       "      <td id=\"T_03fee_row2_col2\" class=\"data row2 col2\" >18.600000</td>\n",
       "    </tr>\n",
       "    <tr>\n",
       "      <th id=\"T_03fee_level0_row3\" class=\"row_heading level0 row3\" >3</th>\n",
       "      <td id=\"T_03fee_row3_col0\" class=\"data row3 col0\" >5. 3-4 years</td>\n",
       "      <td id=\"T_03fee_row3_col1\" class=\"data row3 col1\" >23</td>\n",
       "      <td id=\"T_03fee_row3_col2\" class=\"data row3 col2\" >13.370000</td>\n",
       "    </tr>\n",
       "    <tr>\n",
       "      <th id=\"T_03fee_level0_row4\" class=\"row_heading level0 row4\" >4</th>\n",
       "      <td id=\"T_03fee_row4_col0\" class=\"data row4 col0\" >6. 4-5 years</td>\n",
       "      <td id=\"T_03fee_row4_col1\" class=\"data row4 col1\" >24</td>\n",
       "      <td id=\"T_03fee_row4_col2\" class=\"data row4 col2\" >13.950000</td>\n",
       "    </tr>\n",
       "    <tr>\n",
       "      <th id=\"T_03fee_level0_row5\" class=\"row_heading level0 row5\" >5</th>\n",
       "      <td id=\"T_03fee_row5_col0\" class=\"data row5 col0\" >7. 5-10 years</td>\n",
       "      <td id=\"T_03fee_row5_col1\" class=\"data row5 col1\" >43</td>\n",
       "      <td id=\"T_03fee_row5_col2\" class=\"data row5 col2\" >25.000000</td>\n",
       "    </tr>\n",
       "    <tr>\n",
       "      <th id=\"T_03fee_level0_row6\" class=\"row_heading level0 row6\" >6</th>\n",
       "      <td id=\"T_03fee_row6_col0\" class=\"data row6 col0\" >8. 10-20 years</td>\n",
       "      <td id=\"T_03fee_row6_col1\" class=\"data row6 col1\" >11</td>\n",
       "      <td id=\"T_03fee_row6_col2\" class=\"data row6 col2\" >6.400000</td>\n",
       "    </tr>\n",
       "  </tbody>\n",
       "</table>\n"
      ],
      "text/plain": [
       "<pandas.io.formats.style.Styler at 0x2448e178400>"
      ]
     },
     "execution_count": 34,
     "metadata": {},
     "output_type": "execute_result"
    }
   ],
   "source": [
    "# 응답자별 평균 다중 선택 응답 수를 계산\n",
    "# 행(axis=1) 단위로 평균 계산 (응답자가 선택한 전체 질문의 평균 응답 수)\n",
    "respondents_mean_responses = scope_df[\n",
    "    [f\"{col}_number_of_responses\" for col in list(multiple_choice_questions.keys())]  # 다중 선택 질문별 응답 수 컬럼 선택\n",
    "].mean(axis=1).reset_index().rename(columns={0: \"Mean number of responses\"})  # 새로운 데이터프레임의 열 이름 설정\n",
    "\n",
    "# 평균 응답 수가 3개를 초과하는 응답자의 비율 계산 (주석 처리된 코드):\n",
    "# respondents_mean_responses[\"Mean number of responses\"].mean(): 전체 응답자들의 평균 선택 수 계산\n",
    "# (respondents_mean_responses[\n",
    "#     respondents_mean_responses[\"Mean number of responses\"] > 3\n",
    "# ].shape[0]/scope_df.shape[0])*100: 평균 응답 수가 3을 초과하는 응답자의 비율 계산\n",
    "\n",
    "# 평균 응답 수가 3개를 초과하는 응답자들만 추출 (이상치로 간주)\n",
    "outliers = scope_df.filter(\n",
    "    items=respondents_mean_responses[\n",
    "        respondents_mean_responses[\"Mean number of responses\"] > 3  # 평균 응답 수가 3을 초과하는 응답자들의 인덱스\n",
    "    ][\"index\"].to_list(),  # 인덱스 리스트 추출\n",
    "    axis=0  # 행 단위로 필터링\n",
    ")\n",
    "\n",
    "# 이상치 응답자 그룹을 Machine Learning 경험(\"Q16\")별로 그룹화하고, 각 그룹의 응답자 수 계산\n",
    "outliers = outliers.groupby(\n",
    "    [\"Q16\"]  # \"Q16\" (Machine Learning 경험 연수) 기준으로 그룹화\n",
    ").agg(\n",
    "    {\"Q2\": \"count\"}  # 각 그룹의 응답자 수 계산\n",
    ").reset_index().rename(\n",
    "    columns={\"Q2\": \"Nbr of respondents\", \"Q16\": \"Years of Machine Learning Experience\"}  # 열 이름 변경\n",
    ").sort_values(by=[\"Years of Machine Learning Experience\"])  # 경험 연수 기준으로 정렬\n",
    "\n",
    "# 각 그룹의 응답자 수를 총 응답자 수 대비 백분율로 변환\n",
    "outliers[\"%\"] = outliers.apply(\n",
    "    lambda x: x[\"Nbr of respondents\"] / outliers[\"Nbr of respondents\"].sum(), axis=1\n",
    ")  # 그룹별 응답자 수를 총 응답자 수로 나누어 비율 계산\n",
    "outliers[\"%\"] = np.round(outliers[\"%\"] * 100, 2)  # 백분율 값 소수점 둘째 자리까지 반올림\n",
    "\n",
    "# 결과를 스타일링하여 시각적으로 강조 (백분율 \"%\", \"YlOrBr\" 컬러맵 사용)\n",
    "outliers.style.background_gradient(\n",
    "    axis=0, cmap=\"YlOrBr\", subset=[\"%\"]  # \"%\"(백분율) 열에 대해 색상 강조\n",
    ")\n"
   ]
  },
  {
   "cell_type": "code",
   "execution_count": null,
   "metadata": {},
   "outputs": [
    {
     "data": {
      "text/html": [
       "<style type=\"text/css\">\n",
       "#T_d5669_row0_col2 {\n",
       "  background-color: #ffffe5;\n",
       "  color: #000000;\n",
       "}\n",
       "#T_d5669_row1_col2 {\n",
       "  background-color: #f07818;\n",
       "  color: #f1f1f1;\n",
       "}\n",
       "#T_d5669_row2_col2, #T_d5669_row5_col2 {\n",
       "  background-color: #feb23f;\n",
       "  color: #000000;\n",
       "}\n",
       "#T_d5669_row3_col2 {\n",
       "  background-color: #662506;\n",
       "  color: #f1f1f1;\n",
       "}\n",
       "#T_d5669_row4_col2 {\n",
       "  background-color: #cd4d03;\n",
       "  color: #f1f1f1;\n",
       "}\n",
       "</style>\n",
       "<table id=\"T_d5669\">\n",
       "  <thead>\n",
       "    <tr>\n",
       "      <th class=\"blank level0\" >&nbsp;</th>\n",
       "      <th id=\"T_d5669_level0_col0\" class=\"col_heading level0 col0\" >Years of Coding Experience</th>\n",
       "      <th id=\"T_d5669_level0_col1\" class=\"col_heading level0 col1\" >Nbr of respondents</th>\n",
       "      <th id=\"T_d5669_level0_col2\" class=\"col_heading level0 col2\" >%</th>\n",
       "    </tr>\n",
       "  </thead>\n",
       "  <tbody>\n",
       "    <tr>\n",
       "      <th id=\"T_d5669_level0_row0\" class=\"row_heading level0 row0\" >0</th>\n",
       "      <td id=\"T_d5669_row0_col0\" class=\"data row0 col0\" >2. < 1 years</td>\n",
       "      <td id=\"T_d5669_row0_col1\" class=\"data row0 col1\" >10</td>\n",
       "      <td id=\"T_d5669_row0_col2\" class=\"data row0 col2\" >5.810000</td>\n",
       "    </tr>\n",
       "    <tr>\n",
       "      <th id=\"T_d5669_level0_row1\" class=\"row_heading level0 row1\" >1</th>\n",
       "      <td id=\"T_d5669_row1_col0\" class=\"data row1 col0\" >3. 1-3 years</td>\n",
       "      <td id=\"T_d5669_row1_col1\" class=\"data row1 col1\" >31</td>\n",
       "      <td id=\"T_d5669_row1_col2\" class=\"data row1 col2\" >18.020000</td>\n",
       "    </tr>\n",
       "    <tr>\n",
       "      <th id=\"T_d5669_level0_row2\" class=\"row_heading level0 row2\" >2</th>\n",
       "      <td id=\"T_d5669_row2_col0\" class=\"data row2 col0\" >4. 3-5 years</td>\n",
       "      <td id=\"T_d5669_row2_col1\" class=\"data row2 col1\" >25</td>\n",
       "      <td id=\"T_d5669_row2_col2\" class=\"data row2 col2\" >14.530000</td>\n",
       "    </tr>\n",
       "    <tr>\n",
       "      <th id=\"T_d5669_level0_row3\" class=\"row_heading level0 row3\" >3</th>\n",
       "      <td id=\"T_d5669_row3_col0\" class=\"data row3 col0\" >5. 5-10 years</td>\n",
       "      <td id=\"T_d5669_row3_col1\" class=\"data row3 col1\" >45</td>\n",
       "      <td id=\"T_d5669_row3_col2\" class=\"data row3 col2\" >26.160000</td>\n",
       "    </tr>\n",
       "    <tr>\n",
       "      <th id=\"T_d5669_level0_row4\" class=\"row_heading level0 row4\" >4</th>\n",
       "      <td id=\"T_d5669_row4_col0\" class=\"data row4 col0\" >6. 10-20 years</td>\n",
       "      <td id=\"T_d5669_row4_col1\" class=\"data row4 col1\" >36</td>\n",
       "      <td id=\"T_d5669_row4_col2\" class=\"data row4 col2\" >20.930000</td>\n",
       "    </tr>\n",
       "    <tr>\n",
       "      <th id=\"T_d5669_level0_row5\" class=\"row_heading level0 row5\" >5</th>\n",
       "      <td id=\"T_d5669_row5_col0\" class=\"data row5 col0\" >7. 20+ years</td>\n",
       "      <td id=\"T_d5669_row5_col1\" class=\"data row5 col1\" >25</td>\n",
       "      <td id=\"T_d5669_row5_col2\" class=\"data row5 col2\" >14.530000</td>\n",
       "    </tr>\n",
       "  </tbody>\n",
       "</table>\n"
      ],
      "text/plain": [
       "<pandas.io.formats.style.Styler at 0x2448f210a60>"
      ]
     },
     "execution_count": 37,
     "metadata": {},
     "output_type": "execute_result"
    }
   ],
   "source": [
    "# 평균 응답 수가 3개를 초과하는 응답자들만 추출 (이상치로 간주)\n",
    "outliers = scope_df.filter(\n",
    "    items=respondents_mean_responses[\n",
    "        respondents_mean_responses[\"Mean number of responses\"] > 3  # 평균 응답 수가 3을 초과하는 응답자들의 인덱스\n",
    "    ][\"index\"].to_list(),  # 인덱스 리스트 추출\n",
    "    axis=0  # 행 단위로 필터링\n",
    ")\n",
    "\n",
    "# 이상치 응답자 그룹을 Coding 경험(\"Q11\")별로 그룹화하고, 각 그룹의 응답자 수 계산\n",
    "outliers = outliers.groupby(\n",
    "    [\"Q11\"]  # \"Q11\" (코딩 경험 연수) 기준으로 그룹화\n",
    ").agg(\n",
    "    {\"Q2\": \"count\"}  # 각 그룹의 응답자 수 계산\n",
    ").reset_index().rename(\n",
    "    columns={\"Q2\": \"Nbr of respondents\", \"Q11\": \"Years of Coding Experience\"}  # 열 이름 변경\n",
    ").sort_values(by=[\"Years of Coding Experience\"])  # 경험 연수 기준으로 정렬\n",
    "\n",
    "# 각 그룹의 응답자 수를 총 응답자 수 대비 백분율로 변환\n",
    "outliers[\"%\"] = outliers.apply(\n",
    "    lambda x: x[\"Nbr of respondents\"] / outliers[\"Nbr of respondents\"].sum(), axis=1\n",
    ")  # 그룹별 응답자 수를 총 응답자 수로 나누어 비율 계산\n",
    "outliers[\"%\"] = np.round(outliers[\"%\"] * 100, 2)  # 백분율 값 소수점 둘째 자리까지 반올림\n",
    "\n",
    "# 결과를 스타일링하여 시각적으로 강조 (백분율 \"%\", \"YlOrBr\" 컬러맵 사용)\n",
    "outliers.style.background_gradient(\n",
    "    axis=0, cmap=\"YlOrBr\", subset=[\"%\"]  # \"%\" 백분율 열 색상 강조\n",
    ")\n"
   ]
  },
  {
   "cell_type": "code",
   "execution_count": null,
   "metadata": {},
   "outputs": [
    {
     "data": {
      "text/plain": [
       "'\\n아래 표에서는 응답자가 각 객관식 질문에 대해 선택한 평균 선택 수를 확인할 수 있으며 다음과 같은 결론을 내릴 수 있습니다.\\n\\n설문조사에 참여한 전문가들은 평균 2개의 프로그래밍 언어를 정기적으로 사용하고 있으며, 3개의 머신러닝 알고리즘과 2개의 머신러닝 프레임워크를 사용하고 있습니다.\\n또한 일반적으로 Word 임베딩/벡터(GLoVe, fastText, word2vec), 인코더-디코더 모델(seq2seq, 바닐라 변환기), 상황화된 임베딩 또는 Transformer 언어 모델과 같은 자연어 처리(NLP) 방법을 사용하지 않습니다.\\n'"
      ]
     },
     "execution_count": 14,
     "metadata": {},
     "output_type": "execute_result"
    }
   ],
   "source": [
    "\"\"\"\n",
    "아래 표에서는 응답자가 각 객관식 질문에 대해 선택한 평균 선택 수를 확인할 수 있으며 다음과 같은 결론을 내릴 수 있다.\n",
    "\n",
    "설문조사에 참여한 전문가들은 평균 2개의 프로그래밍 언어를 정기적으로 사용하고 있으며, 3개의 머신러닝 알고리즘과 2개의 머신러닝 프레임워크를 사용하고 있다.\n",
    "또한 일반적으로 Word 임베딩/벡터(GLoVe, fastText, word2vec), 인코더-디코더 모델(seq2seq, 바닐라 변환기), 상황화된 임베딩 또는 Transformer 언어 모델과 같은 자연어 처리(NLP) 방법을 사용하지 않는다.\n",
    "\"\"\""
   ]
  },
  {
   "cell_type": "code",
   "execution_count": 36,
   "metadata": {},
   "outputs": [
    {
     "data": {
      "text/html": [
       "<style type=\"text/css\">\n",
       "#T_2e02c_row0_col3, #T_2e02c_row1_col3, #T_2e02c_row3_col3, #T_2e02c_row6_col3, #T_2e02c_row7_col3, #T_2e02c_row12_col3 {\n",
       "  background-color: #e1640e;\n",
       "  color: #f1f1f1;\n",
       "}\n",
       "#T_2e02c_row2_col3, #T_2e02c_row10_col3, #T_2e02c_row20_col3, #T_2e02c_row22_col3, #T_2e02c_row23_col3 {\n",
       "  background-color: #ffffe5;\n",
       "  color: #000000;\n",
       "}\n",
       "#T_2e02c_row4_col3, #T_2e02c_row8_col3, #T_2e02c_row24_col3 {\n",
       "  background-color: #662506;\n",
       "  color: #f1f1f1;\n",
       "}\n",
       "#T_2e02c_row5_col3, #T_2e02c_row9_col3, #T_2e02c_row11_col3, #T_2e02c_row13_col3, #T_2e02c_row14_col3, #T_2e02c_row15_col3, #T_2e02c_row16_col3, #T_2e02c_row17_col3, #T_2e02c_row18_col3, #T_2e02c_row19_col3, #T_2e02c_row21_col3 {\n",
       "  background-color: #fece65;\n",
       "  color: #000000;\n",
       "}\n",
       "</style>\n",
       "<table id=\"T_2e02c\">\n",
       "  <thead>\n",
       "    <tr>\n",
       "      <th class=\"blank level0\" >&nbsp;</th>\n",
       "      <th id=\"T_2e02c_level0_col0\" class=\"col_heading level0 col0\" >Question</th>\n",
       "      <th id=\"T_2e02c_level0_col1\" class=\"col_heading level0 col1\" >Question Title</th>\n",
       "      <th id=\"T_2e02c_level0_col2\" class=\"col_heading level0 col2\" >Nbr of available Choices</th>\n",
       "      <th id=\"T_2e02c_level0_col3\" class=\"col_heading level0 col3\" >Average number of selected choices</th>\n",
       "    </tr>\n",
       "  </thead>\n",
       "  <tbody>\n",
       "    <tr>\n",
       "      <th id=\"T_2e02c_level0_row0\" class=\"row_heading level0 row0\" >0</th>\n",
       "      <td id=\"T_2e02c_row0_col0\" class=\"data row0 col0\" >Q6</td>\n",
       "      <td id=\"T_2e02c_row0_col1\" class=\"data row0 col1\" >On which platforms have you begun or completed data science courses?</td>\n",
       "      <td id=\"T_2e02c_row0_col2\" class=\"data row0 col2\" >12</td>\n",
       "      <td id=\"T_2e02c_row0_col3\" class=\"data row0 col3\" >2</td>\n",
       "    </tr>\n",
       "    <tr>\n",
       "      <th id=\"T_2e02c_level0_row1\" class=\"row_heading level0 row1\" >1</th>\n",
       "      <td id=\"T_2e02c_row1_col0\" class=\"data row1 col0\" >Q7</td>\n",
       "      <td id=\"T_2e02c_row1_col1\" class=\"data row1 col1\" >What products or platforms did you find to be most helpful when you first\n",
       "started studying data science?</td>\n",
       "      <td id=\"T_2e02c_row1_col2\" class=\"data row1 col2\" >7</td>\n",
       "      <td id=\"T_2e02c_row1_col3\" class=\"data row1 col3\" >2</td>\n",
       "    </tr>\n",
       "    <tr>\n",
       "      <th id=\"T_2e02c_level0_row2\" class=\"row_heading level0 row2\" >2</th>\n",
       "      <td id=\"T_2e02c_row2_col0\" class=\"data row2 col0\" >Q10</td>\n",
       "      <td id=\"T_2e02c_row2_col1\" class=\"data row2 col1\" >Did your research make use of machine learning? - Yes, the research made\n",
       "advances related to some novel machine learning method (theoretical research)</td>\n",
       "      <td id=\"T_2e02c_row2_col2\" class=\"data row2 col2\" >3</td>\n",
       "      <td id=\"T_2e02c_row2_col3\" class=\"data row2 col3\" >0</td>\n",
       "    </tr>\n",
       "    <tr>\n",
       "      <th id=\"T_2e02c_level0_row3\" class=\"row_heading level0 row3\" >3</th>\n",
       "      <td id=\"T_2e02c_row3_col0\" class=\"data row3 col0\" >Q12</td>\n",
       "      <td id=\"T_2e02c_row3_col1\" class=\"data row3 col1\" >What programming languages do you use on a regular basis?</td>\n",
       "      <td id=\"T_2e02c_row3_col2\" class=\"data row3 col2\" >15</td>\n",
       "      <td id=\"T_2e02c_row3_col3\" class=\"data row3 col3\" >2</td>\n",
       "    </tr>\n",
       "    <tr>\n",
       "      <th id=\"T_2e02c_level0_row4\" class=\"row_heading level0 row4\" >4</th>\n",
       "      <td id=\"T_2e02c_row4_col0\" class=\"data row4 col0\" >Q13</td>\n",
       "      <td id=\"T_2e02c_row4_col1\" class=\"data row4 col1\" >Which of the following integrated development environments (IDE's) do you use on\n",
       "a regular basis?</td>\n",
       "      <td id=\"T_2e02c_row4_col2\" class=\"data row4 col2\" >14</td>\n",
       "      <td id=\"T_2e02c_row4_col3\" class=\"data row4 col3\" >3</td>\n",
       "    </tr>\n",
       "    <tr>\n",
       "      <th id=\"T_2e02c_level0_row5\" class=\"row_heading level0 row5\" >5</th>\n",
       "      <td id=\"T_2e02c_row5_col0\" class=\"data row5 col0\" >Q14</td>\n",
       "      <td id=\"T_2e02c_row5_col1\" class=\"data row5 col1\" >Do you use any of the following hosted notebook products?</td>\n",
       "      <td id=\"T_2e02c_row5_col2\" class=\"data row5 col2\" >16</td>\n",
       "      <td id=\"T_2e02c_row5_col3\" class=\"data row5 col3\" >1</td>\n",
       "    </tr>\n",
       "    <tr>\n",
       "      <th id=\"T_2e02c_level0_row6\" class=\"row_heading level0 row6\" >6</th>\n",
       "      <td id=\"T_2e02c_row6_col0\" class=\"data row6 col0\" >Q15</td>\n",
       "      <td id=\"T_2e02c_row6_col1\" class=\"data row6 col1\" >Do you use any of the following data visualization libraries on a regular basis?</td>\n",
       "      <td id=\"T_2e02c_row6_col2\" class=\"data row6 col2\" >15</td>\n",
       "      <td id=\"T_2e02c_row6_col3\" class=\"data row6 col3\" >2</td>\n",
       "    </tr>\n",
       "    <tr>\n",
       "      <th id=\"T_2e02c_level0_row7\" class=\"row_heading level0 row7\" >7</th>\n",
       "      <td id=\"T_2e02c_row7_col0\" class=\"data row7 col0\" >Q17</td>\n",
       "      <td id=\"T_2e02c_row7_col1\" class=\"data row7 col1\" >Which of the following machine learning frameworks do you use on a regular\n",
       "basis?</td>\n",
       "      <td id=\"T_2e02c_row7_col2\" class=\"data row7 col2\" >15</td>\n",
       "      <td id=\"T_2e02c_row7_col3\" class=\"data row7 col3\" >2</td>\n",
       "    </tr>\n",
       "    <tr>\n",
       "      <th id=\"T_2e02c_level0_row8\" class=\"row_heading level0 row8\" >8</th>\n",
       "      <td id=\"T_2e02c_row8_col0\" class=\"data row8 col0\" >Q18</td>\n",
       "      <td id=\"T_2e02c_row8_col1\" class=\"data row8 col1\" >Which of the following ML algorithms do you use on a regular basis?</td>\n",
       "      <td id=\"T_2e02c_row8_col2\" class=\"data row8 col2\" >14</td>\n",
       "      <td id=\"T_2e02c_row8_col3\" class=\"data row8 col3\" >3</td>\n",
       "    </tr>\n",
       "    <tr>\n",
       "      <th id=\"T_2e02c_level0_row9\" class=\"row_heading level0 row9\" >9</th>\n",
       "      <td id=\"T_2e02c_row9_col0\" class=\"data row9 col0\" >Q19</td>\n",
       "      <td id=\"T_2e02c_row9_col1\" class=\"data row9 col1\" >Which categories of computer vision methods do you use on a regular basis?</td>\n",
       "      <td id=\"T_2e02c_row9_col2\" class=\"data row9 col2\" >8</td>\n",
       "      <td id=\"T_2e02c_row9_col3\" class=\"data row9 col3\" >1</td>\n",
       "    </tr>\n",
       "    <tr>\n",
       "      <th id=\"T_2e02c_level0_row10\" class=\"row_heading level0 row10\" >10</th>\n",
       "      <td id=\"T_2e02c_row10_col0\" class=\"data row10 col0\" >Q20</td>\n",
       "      <td id=\"T_2e02c_row10_col1\" class=\"data row10 col1\" >Which of the following natural language processing (NLP) methods do you use on a\n",
       "regular basis?</td>\n",
       "      <td id=\"T_2e02c_row10_col2\" class=\"data row10 col2\" >6</td>\n",
       "      <td id=\"T_2e02c_row10_col3\" class=\"data row10 col3\" >0</td>\n",
       "    </tr>\n",
       "    <tr>\n",
       "      <th id=\"T_2e02c_level0_row11\" class=\"row_heading level0 row11\" >11</th>\n",
       "      <td id=\"T_2e02c_row11_col0\" class=\"data row11 col0\" >Q21</td>\n",
       "      <td id=\"T_2e02c_row11_col1\" class=\"data row11 col1\" >Do you download pre-trained model weights from any of the following services?</td>\n",
       "      <td id=\"T_2e02c_row11_col2\" class=\"data row11 col2\" >10</td>\n",
       "      <td id=\"T_2e02c_row11_col3\" class=\"data row11 col3\" >1</td>\n",
       "    </tr>\n",
       "    <tr>\n",
       "      <th id=\"T_2e02c_level0_row12\" class=\"row_heading level0 row12\" >12</th>\n",
       "      <td id=\"T_2e02c_row12_col0\" class=\"data row12 col0\" >Q28</td>\n",
       "      <td id=\"T_2e02c_row12_col1\" class=\"data row12 col1\" >Select any activities that make up an important part of your role at work:</td>\n",
       "      <td id=\"T_2e02c_row12_col2\" class=\"data row12 col2\" >8</td>\n",
       "      <td id=\"T_2e02c_row12_col3\" class=\"data row12 col3\" >2</td>\n",
       "    </tr>\n",
       "    <tr>\n",
       "      <th id=\"T_2e02c_level0_row13\" class=\"row_heading level0 row13\" >13</th>\n",
       "      <td id=\"T_2e02c_row13_col0\" class=\"data row13 col0\" >Q31</td>\n",
       "      <td id=\"T_2e02c_row13_col1\" class=\"data row13 col1\" >Which of the following cloud computing platforms do you use?</td>\n",
       "      <td id=\"T_2e02c_row13_col2\" class=\"data row13 col2\" >12</td>\n",
       "      <td id=\"T_2e02c_row13_col3\" class=\"data row13 col3\" >1</td>\n",
       "    </tr>\n",
       "    <tr>\n",
       "      <th id=\"T_2e02c_level0_row14\" class=\"row_heading level0 row14\" >14</th>\n",
       "      <td id=\"T_2e02c_row14_col0\" class=\"data row14 col0\" >Q33</td>\n",
       "      <td id=\"T_2e02c_row14_col1\" class=\"data row14 col1\" >Do you use any of the following cloud computing products?</td>\n",
       "      <td id=\"T_2e02c_row14_col2\" class=\"data row14 col2\" >5</td>\n",
       "      <td id=\"T_2e02c_row14_col3\" class=\"data row14 col3\" >1</td>\n",
       "    </tr>\n",
       "    <tr>\n",
       "      <th id=\"T_2e02c_level0_row15\" class=\"row_heading level0 row15\" >15</th>\n",
       "      <td id=\"T_2e02c_row15_col0\" class=\"data row15 col0\" >Q34</td>\n",
       "      <td id=\"T_2e02c_row15_col1\" class=\"data row15 col1\" >Do you use any of the following data storage products?</td>\n",
       "      <td id=\"T_2e02c_row15_col2\" class=\"data row15 col2\" >8</td>\n",
       "      <td id=\"T_2e02c_row15_col3\" class=\"data row15 col3\" >1</td>\n",
       "    </tr>\n",
       "    <tr>\n",
       "      <th id=\"T_2e02c_level0_row16\" class=\"row_heading level0 row16\" >16</th>\n",
       "      <td id=\"T_2e02c_row16_col0\" class=\"data row16 col0\" >Q35</td>\n",
       "      <td id=\"T_2e02c_row16_col1\" class=\"data row16 col1\" >Do you use any of the following data products (relational databases, data\n",
       "warehouses, data lakes, or similar)?</td>\n",
       "      <td id=\"T_2e02c_row16_col2\" class=\"data row16 col2\" >16</td>\n",
       "      <td id=\"T_2e02c_row16_col3\" class=\"data row16 col3\" >1</td>\n",
       "    </tr>\n",
       "    <tr>\n",
       "      <th id=\"T_2e02c_level0_row17\" class=\"row_heading level0 row17\" >17</th>\n",
       "      <td id=\"T_2e02c_row17_col0\" class=\"data row17 col0\" >Q36</td>\n",
       "      <td id=\"T_2e02c_row17_col1\" class=\"data row17 col1\" >Do you use any of the following business intelligence tools?</td>\n",
       "      <td id=\"T_2e02c_row17_col2\" class=\"data row17 col2\" >15</td>\n",
       "      <td id=\"T_2e02c_row17_col3\" class=\"data row17 col3\" >1</td>\n",
       "    </tr>\n",
       "    <tr>\n",
       "      <th id=\"T_2e02c_level0_row18\" class=\"row_heading level0 row18\" >18</th>\n",
       "      <td id=\"T_2e02c_row18_col0\" class=\"data row18 col0\" >Q37</td>\n",
       "      <td id=\"T_2e02c_row18_col1\" class=\"data row18 col1\" >Do you use any of the following managed machine learning products on a regular\n",
       "basis?</td>\n",
       "      <td id=\"T_2e02c_row18_col2\" class=\"data row18 col2\" >13</td>\n",
       "      <td id=\"T_2e02c_row18_col3\" class=\"data row18 col3\" >1</td>\n",
       "    </tr>\n",
       "    <tr>\n",
       "      <th id=\"T_2e02c_level0_row19\" class=\"row_heading level0 row19\" >19</th>\n",
       "      <td id=\"T_2e02c_row19_col0\" class=\"data row19 col0\" >Q38</td>\n",
       "      <td id=\"T_2e02c_row19_col1\" class=\"data row19 col1\" >Do you use any of the following automated machine learning tools?</td>\n",
       "      <td id=\"T_2e02c_row19_col2\" class=\"data row19 col2\" >8</td>\n",
       "      <td id=\"T_2e02c_row19_col3\" class=\"data row19 col3\" >1</td>\n",
       "    </tr>\n",
       "    <tr>\n",
       "      <th id=\"T_2e02c_level0_row20\" class=\"row_heading level0 row20\" >20</th>\n",
       "      <td id=\"T_2e02c_row20_col0\" class=\"data row20 col0\" >Q39</td>\n",
       "      <td id=\"T_2e02c_row20_col1\" class=\"data row20 col1\" >Do you use any of the following products to serve your machine learning models?</td>\n",
       "      <td id=\"T_2e02c_row20_col2\" class=\"data row20 col2\" >12</td>\n",
       "      <td id=\"T_2e02c_row20_col3\" class=\"data row20 col3\" >0</td>\n",
       "    </tr>\n",
       "    <tr>\n",
       "      <th id=\"T_2e02c_level0_row21\" class=\"row_heading level0 row21\" >21</th>\n",
       "      <td id=\"T_2e02c_row21_col0\" class=\"data row21 col0\" >Q40</td>\n",
       "      <td id=\"T_2e02c_row21_col1\" class=\"data row21 col1\" >Do you use any tools to help monitor your machine learning models and/or\n",
       "experiments?</td>\n",
       "      <td id=\"T_2e02c_row21_col2\" class=\"data row21 col2\" >15</td>\n",
       "      <td id=\"T_2e02c_row21_col3\" class=\"data row21 col3\" >1</td>\n",
       "    </tr>\n",
       "    <tr>\n",
       "      <th id=\"T_2e02c_level0_row22\" class=\"row_heading level0 row22\" >22</th>\n",
       "      <td id=\"T_2e02c_row22_col0\" class=\"data row22 col0\" >Q41</td>\n",
       "      <td id=\"T_2e02c_row22_col1\" class=\"data row22 col1\" >Do you use any of the following responsible or ethical AI products in your\n",
       "machine learning practices?</td>\n",
       "      <td id=\"T_2e02c_row22_col2\" class=\"data row22 col2\" >9</td>\n",
       "      <td id=\"T_2e02c_row22_col3\" class=\"data row22 col3\" >0</td>\n",
       "    </tr>\n",
       "    <tr>\n",
       "      <th id=\"T_2e02c_level0_row23\" class=\"row_heading level0 row23\" >23</th>\n",
       "      <td id=\"T_2e02c_row23_col0\" class=\"data row23 col0\" >Q42</td>\n",
       "      <td id=\"T_2e02c_row23_col1\" class=\"data row23 col1\" >Do you use any of the following types of specialized hardware when training\n",
       "machine learning models?</td>\n",
       "      <td id=\"T_2e02c_row23_col2\" class=\"data row23 col2\" >9</td>\n",
       "      <td id=\"T_2e02c_row23_col3\" class=\"data row23 col3\" >0</td>\n",
       "    </tr>\n",
       "    <tr>\n",
       "      <th id=\"T_2e02c_level0_row24\" class=\"row_heading level0 row24\" >24</th>\n",
       "      <td id=\"T_2e02c_row24_col0\" class=\"data row24 col0\" >Q44</td>\n",
       "      <td id=\"T_2e02c_row24_col1\" class=\"data row24 col1\" >Who/what are your favorite media sources that report on data science topics?</td>\n",
       "      <td id=\"T_2e02c_row24_col2\" class=\"data row24 col2\" >12</td>\n",
       "      <td id=\"T_2e02c_row24_col3\" class=\"data row24 col3\" >3</td>\n",
       "    </tr>\n",
       "  </tbody>\n",
       "</table>\n"
      ],
      "text/plain": [
       "<IPython.core.display.HTML object>"
      ]
     },
     "metadata": {},
     "output_type": "display_data"
    }
   ],
   "source": [
    "outlier_analysis = []\n",
    "\n",
    "for col in list(multiple_choice_questions.keys()):\n",
    "    mean_responses = round(scope_df[f\"{col}_number_of_responses\"].mean())\n",
    "    outlier_analysis.append([\n",
    "        col,\n",
    "        multiple_choice_questions[col], \n",
    "        mean_responses,\n",
    "    ])\n",
    "    \n",
    "average_responses = pd.DataFrame(outlier_analysis, columns = [\"Question\", \"Nbr of available Choices\", \"Average number of selected choices\"])\n",
    "average_responses[\"Question Title\"] = questions_titles[[f\"{col}_1\" for col in list(multiple_choice_questions.keys())]].loc[0].to_list()\n",
    "average_responses[\"Question Title\"] = average_responses[\"Question Title\"].apply(lambda x : x.split(\"(Select\")[0].strip())\n",
    "\n",
    "# 데이터프레임\n",
    "scope_df.drop([f\"{col}_number_of_responses\" for col in list(multiple_choice_questions.keys())], axis = 1, inplace=True)\n",
    "\n",
    "average_responses[\"Question Title\"] = average_responses['Question Title'].str.wrap(80)\n",
    "average_responses = average_responses[[\"Question\", \"Question Title\", \"Nbr of available Choices\", \"Average number of selected choices\"]]\n",
    "wrap_df_text(average_responses)"
   ]
  },
  {
   "cell_type": "code",
   "execution_count": null,
   "metadata": {},
   "outputs": [],
   "source": []
  },
  {
   "cell_type": "markdown",
   "metadata": {},
   "source": [
    "### 오늘날 다양한 업계의 머신러닝 도입 현황\n",
    "#### 9000여명 대상으로 했고, 25%는 기술기업, 15%는 학술기업에 나머진 분포되어있다"
   ]
  },
  {
   "cell_type": "code",
   "execution_count": 38,
   "metadata": {},
   "outputs": [
    {
     "data": {
      "image/png": "[encoded data removed]",
      "text/plain": [
       "<Figure size 1000x500 with 1 Axes>"
      ]
     },
     "metadata": {},
     "output_type": "display_data"
    }
   ],
   "source": [
    "# get_label_rotation 함수: 각도에 따른 텍스트 회전값과 정렬을 계산\n",
    "def get_label_rotation(angle, offset):\n",
    "    \"\"\"\n",
    "    각도(angle)와 오프셋(offset)을 기반으로 텍스트의 회전값(rotation)과 정렬(alignment)을 반환.\n",
    "    \"\"\"\n",
    "    rotation = np.rad2deg(angle + offset)  # 라디안 단위의 각도를 도(degree)로 변환\n",
    "    if angle <= np.pi:  # 각도가 π 이하인 경우\n",
    "        alignment = \"right\"  # 텍스트 정렬을 오른쪽으로 설정\n",
    "        rotation = rotation + 180  # 회전값에 180도 추가\n",
    "    else:  # 각도가 π 초과인 경우\n",
    "        alignment = \"left\"  # 텍스트 정렬을 왼쪽으로 설정\n",
    "    return rotation, alignment\n",
    "\n",
    "\n",
    "# add_labels 함수: 차트의 라벨 추가\n",
    "def add_labels(angles, values, labels, offset, ax):\n",
    "    \"\"\"\n",
    "    원형 차트(Polar Chart)에서 각도, 값, 라벨을 기반으로 텍스트 라벨을 추가.\n",
    "    \"\"\"\n",
    "    padding = 6  # 라벨과 막대 사이의 간격\n",
    "\n",
    "    for angle, value, label in zip(angles, values, labels):  # 각 각도, 값, 라벨에 대해 반복\n",
    "        rotation, alignment = get_label_rotation(angle, offset)  # 회전값과 정렬 계산\n",
    "        y = value + padding  # 텍스트 라벨 위치를 막대의 끝에서 padding만큼 위로 설정\n",
    "\n",
    "        ax.text(\n",
    "            x=angle,  # 라벨의 각도 위치\n",
    "            y=y,  # 라벨의 반지름 위치\n",
    "            s=label,  # 라벨 텍스트\n",
    "            ha=alignment,  # 수평 정렬\n",
    "            va=\"center\",  # 수직 정렬\n",
    "            rotation=rotation,  # 텍스트 회전\n",
    "            rotation_mode=\"anchor\",  # 텍스트 회전 기준을 앵커로 설정\n",
    "        )\n",
    "\n",
    "\n",
    "# 원형 차트를 위한 데이터 준비\n",
    "ANGLES = np.linspace(0, 2 * np.pi, scope_df[\"Q24\"].nunique(), endpoint=False)  # 데이터 분포에 따른 각도 계산\n",
    "VALUES = np.round(scope_df[\"Q24\"].value_counts(normalize=True).values, 2) * 400  # 비율 값에 따른 막대 크기 계산\n",
    "LABELS = scope_df[\"Q24\"].value_counts().index  # 라벨 (산업 이름)\n",
    "\n",
    "WIDTH = 2 * np.pi / len(VALUES)  # 각 막대의 너비 계산\n",
    "OFFSET = np.pi / 2  # 차트 회전 오프셋 설정\n",
    "\n",
    "# 차트 설정\n",
    "fig, ax = plt.subplots(figsize=(10, 5), subplot_kw={\"projection\": \"polar\"})  # 원형 차트 생성 (Polar Projection)\n",
    "\n",
    "ax.set_theta_offset(OFFSET)  # 차트 회전 오프셋 설정\n",
    "ax.set_ylim(-100, 100)  # 반지름 범위 설정\n",
    "ax.set_frame_on(False)  # 차트 외곽선 제거\n",
    "\n",
    "ax.xaxis.grid(False)  # x축 그리드 제거\n",
    "ax.yaxis.grid(False)  # y축 그리드 제거\n",
    "ax.set_xticks([])  # x축 눈금 제거\n",
    "ax.set_yticks([])  # y축 눈금 제거\n",
    "\n",
    "# 막대(bar) 추가\n",
    "ax.bar(\n",
    "    ANGLES, VALUES, width=WIDTH, linewidth=2,  # 막대 너비 및 테두리 두께 설정\n",
    "    color=\"#a43725\", edgecolor=\"white\"  # 막대 색상과 테두리 색상 설정\n",
    ")\n",
    "\n",
    "# 라벨 텍스트 생성\n",
    "final_labels = []  # 최종 라벨 저장 리스트\n",
    "test = list(np.round(scope_df[\"Q24\"].value_counts(normalize=True).values * 100, 2))  # 비율 계산\n",
    "count = 0  # 카운터 초기화\n",
    "for label in LABELS:  # 각 라벨에 대해 반복\n",
    "    final_labels.append(f\"{label}: {test[count]}%\")  # 라벨 텍스트 생성 (산업 이름과 비율)\n",
    "    count += 1  # 카운터 증가\n",
    "\n",
    "np.array(final_labels)  # 최종 라벨 리스트를 NumPy 배열로 변환\n",
    "\n",
    "# 차트에 라벨 추가\n",
    "add_labels(ANGLES, VALUES, final_labels, OFFSET, ax)\n",
    "\n",
    "# 차트 출력\n",
    "plt.show()\n"
   ]
  },
  {
   "cell_type": "markdown",
   "metadata": {},
   "source": [
    "#### 데이터에 따르면 응답자의 약 33%가 조직에서 머신 러닝 모델을 생산 중이라고 답했고, 10.2%는 인사이트를 생성하기 위해 ML 방법을 사용한다고 함. \n",
    "#### 그러나 응답자의 상당 부분인 21.7%는 회사에서 아직 AI 및 ML 기술을 사용하기 시작하지 않았다고 답했으며, 17.1%는 이 새로운 기술의 기능을 탐색하기 시작했다고 답했다."
   ]
  },
  {
   "cell_type": "code",
   "execution_count": 39,
   "metadata": {},
   "outputs": [
    {
     "data": {
      "application/vnd.plotly.v1+json": {
       "config": {
        "plotlyServerURL": "https://plot.ly"
       },
       "data": [
        {
         "hole": 0.4,
         "labels": [
          "Models in Production",
          "Not Started",
          "Not Known",
          "Exploration Stage",
          "Generating Insights"
         ],
         "type": "pie",
         "values": [
          2987,
          1970,
          1660,
          1552,
          925
         ]
        }
       ],
       "layout": {
        "font": {
         "color": "#7b6b59"
        },
        "margin": {
         "pad": 0,
         "t": 80
        },
        "showlegend": true,
        "template": {
         "data": {
          "bar": [
           {
            "error_x": {
             "color": "#2a3f5f"
            },
            "error_y": {
             "color": "#2a3f5f"
            },
            "marker": {
             "line": {
              "color": "#E5ECF6",
              "width": 0.5
             },
             "pattern": {
              "fillmode": "overlay",
              "size": 10,
              "solidity": 0.2
             }
            },
            "type": "bar"
           }
          ],
          "barpolar": [
           {
            "marker": {
             "line": {
              "color": "#E5ECF6",
              "width": 0.5
             },
             "pattern": {
              "fillmode": "overlay",
              "size": 10,
              "solidity": 0.2
             }
            },
            "type": "barpolar"
           }
          ],
          "carpet": [
           {
            "aaxis": {
             "endlinecolor": "#2a3f5f",
             "gridcolor": "white",
             "linecolor": "white",
             "minorgridcolor": "white",
             "startlinecolor": "#2a3f5f"
            },
            "baxis": {
             "endlinecolor": "#2a3f5f",
             "gridcolor": "white",
             "linecolor": "white",
             "minorgridcolor": "white",
             "startlinecolor": "#2a3f5f"
            },
            "type": "carpet"
           }
          ],
          "choropleth": [
           {
            "colorbar": {
             "outlinewidth": 0,
             "ticks": ""
            },
            "type": "choropleth"
           }
          ],
          "contour": [
           {
            "colorbar": {
             "outlinewidth": 0,
             "ticks": ""
            },
            "colorscale": [
             [
              0,
              "#0d0887"
             ],
             [
              0.1111111111111111,
              "#46039f"
             ],
             [
              0.2222222222222222,
              "#7201a8"
             ],
             [
              0.3333333333333333,
              "#9c179e"
             ],
             [
              0.4444444444444444,
              "#bd3786"
             ],
             [
              0.5555555555555556,
              "#d8576b"
             ],
             [
              0.6666666666666666,
              "#ed7953"
             ],
             [
              0.7777777777777778,
              "#fb9f3a"
             ],
             [
              0.8888888888888888,
              "#fdca26"
             ],
             [
              1,
              "#f0f921"
             ]
            ],
            "type": "contour"
           }
          ],
          "contourcarpet": [
           {
            "colorbar": {
             "outlinewidth": 0,
             "ticks": ""
            },
            "type": "contourcarpet"
           }
          ],
          "heatmap": [
           {
            "colorbar": {
             "outlinewidth": 0,
             "ticks": ""
            },
            "colorscale": [
             [
              0,
              "#0d0887"
             ],
             [
              0.1111111111111111,
              "#46039f"
             ],
             [
              0.2222222222222222,
              "#7201a8"
             ],
             [
              0.3333333333333333,
              "#9c179e"
             ],
             [
              0.4444444444444444,
              "#bd3786"
             ],
             [
              0.5555555555555556,
              "#d8576b"
             ],
             [
              0.6666666666666666,
              "#ed7953"
             ],
             [
              0.7777777777777778,
              "#fb9f3a"
             ],
             [
              0.8888888888888888,
              "#fdca26"
             ],
             [
              1,
              "#f0f921"
             ]
            ],
            "type": "heatmap"
           }
          ],
          "heatmapgl": [
           {
            "colorbar": {
             "outlinewidth": 0,
             "ticks": ""
            },
            "colorscale": [
             [
              0,
              "#0d0887"
             ],
             [
              0.1111111111111111,
              "#46039f"
             ],
             [
              0.2222222222222222,
              "#7201a8"
             ],
             [
              0.3333333333333333,
              "#9c179e"
             ],
             [
              0.4444444444444444,
              "#bd3786"
             ],
             [
              0.5555555555555556,
              "#d8576b"
             ],
             [
              0.6666666666666666,
              "#ed7953"
             ],
             [
              0.7777777777777778,
              "#fb9f3a"
             ],
             [
              0.8888888888888888,
              "#fdca26"
             ],
             [
              1,
              "#f0f921"
             ]
            ],
            "type": "heatmapgl"
           }
          ],
          "histogram": [
           {
            "marker": {
             "pattern": {
              "fillmode": "overlay",
              "size": 10,
              "solidity": 0.2
             }
            },
            "type": "histogram"
           }
          ],
          "histogram2d": [
           {
            "colorbar": {
             "outlinewidth": 0,
             "ticks": ""
            },
            "colorscale": [
             [
              0,
              "#0d0887"
             ],
             [
              0.1111111111111111,
              "#46039f"
             ],
             [
              0.2222222222222222,
              "#7201a8"
             ],
             [
              0.3333333333333333,
              "#9c179e"
             ],
             [
              0.4444444444444444,
              "#bd3786"
             ],
             [
              0.5555555555555556,
              "#d8576b"
             ],
             [
              0.6666666666666666,
              "#ed7953"
             ],
             [
              0.7777777777777778,
              "#fb9f3a"
             ],
             [
              0.8888888888888888,
              "#fdca26"
             ],
             [
              1,
              "#f0f921"
             ]
            ],
            "type": "histogram2d"
           }
          ],
          "histogram2dcontour": [
           {
            "colorbar": {
             "outlinewidth": 0,
             "ticks": ""
            },
            "colorscale": [
             [
              0,
              "#0d0887"
             ],
             [
              0.1111111111111111,
              "#46039f"
             ],
             [
              0.2222222222222222,
              "#7201a8"
             ],
             [
              0.3333333333333333,
              "#9c179e"
             ],
             [
              0.4444444444444444,
              "#bd3786"
             ],
             [
              0.5555555555555556,
              "#d8576b"
             ],
             [
              0.6666666666666666,
              "#ed7953"
             ],
             [
              0.7777777777777778,
              "#fb9f3a"
             ],
             [
              0.8888888888888888,
              "#fdca26"
             ],
             [
              1,
              "#f0f921"
             ]
            ],
            "type": "histogram2dcontour"
           }
          ],
          "mesh3d": [
           {
            "colorbar": {
             "outlinewidth": 0,
             "ticks": ""
            },
            "type": "mesh3d"
           }
          ],
          "parcoords": [
           {
            "line": {
             "colorbar": {
              "outlinewidth": 0,
              "ticks": ""
             }
            },
            "type": "parcoords"
           }
          ],
          "pie": [
           {
            "automargin": true,
            "type": "pie"
           }
          ],
          "scatter": [
           {
            "fillpattern": {
             "fillmode": "overlay",
             "size": 10,
             "solidity": 0.2
            },
            "type": "scatter"
           }
          ],
          "scatter3d": [
           {
            "line": {
             "colorbar": {
              "outlinewidth": 0,
              "ticks": ""
             }
            },
            "marker": {
             "colorbar": {
              "outlinewidth": 0,
              "ticks": ""
             }
            },
            "type": "scatter3d"
           }
          ],
          "scattercarpet": [
           {
            "marker": {
             "colorbar": {
              "outlinewidth": 0,
              "ticks": ""
             }
            },
            "type": "scattercarpet"
           }
          ],
          "scattergeo": [
           {
            "marker": {
             "colorbar": {
              "outlinewidth": 0,
              "ticks": ""
             }
            },
            "type": "scattergeo"
           }
          ],
          "scattergl": [
           {
            "marker": {
             "colorbar": {
              "outlinewidth": 0,
              "ticks": ""
             }
            },
            "type": "scattergl"
           }
          ],
          "scattermapbox": [
           {
            "marker": {
             "colorbar": {
              "outlinewidth": 0,
              "ticks": ""
             }
            },
            "type": "scattermapbox"
           }
          ],
          "scatterpolar": [
           {
            "marker": {
             "colorbar": {
              "outlinewidth": 0,
              "ticks": ""
             }
            },
            "type": "scatterpolar"
           }
          ],
          "scatterpolargl": [
           {
            "marker": {
             "colorbar": {
              "outlinewidth": 0,
              "ticks": ""
             }
            },
            "type": "scatterpolargl"
           }
          ],
          "scatterternary": [
           {
            "marker": {
             "colorbar": {
              "outlinewidth": 0,
              "ticks": ""
             }
            },
            "type": "scatterternary"
           }
          ],
          "surface": [
           {
            "colorbar": {
             "outlinewidth": 0,
             "ticks": ""
            },
            "colorscale": [
             [
              0,
              "#0d0887"
             ],
             [
              0.1111111111111111,
              "#46039f"
             ],
             [
              0.2222222222222222,
              "#7201a8"
             ],
             [
              0.3333333333333333,
              "#9c179e"
             ],
             [
              0.4444444444444444,
              "#bd3786"
             ],
             [
              0.5555555555555556,
              "#d8576b"
             ],
             [
              0.6666666666666666,
              "#ed7953"
             ],
             [
              0.7777777777777778,
              "#fb9f3a"
             ],
             [
              0.8888888888888888,
              "#fdca26"
             ],
             [
              1,
              "#f0f921"
             ]
            ],
            "type": "surface"
           }
          ],
          "table": [
           {
            "cells": {
             "fill": {
              "color": "#EBF0F8"
             },
             "line": {
              "color": "white"
             }
            },
            "header": {
             "fill": {
              "color": "#C8D4E3"
             },
             "line": {
              "color": "white"
             }
            },
            "type": "table"
           }
          ]
         },
         "layout": {
          "annotationdefaults": {
           "arrowcolor": "#2a3f5f",
           "arrowhead": 0,
           "arrowwidth": 1
          },
          "autotypenumbers": "strict",
          "coloraxis": {
           "colorbar": {
            "outlinewidth": 0,
            "ticks": ""
           }
          },
          "colorscale": {
           "diverging": [
            [
             0,
             "#8e0152"
            ],
            [
             0.1,
             "#c51b7d"
            ],
            [
             0.2,
             "#de77ae"
            ],
            [
             0.3,
             "#f1b6da"
            ],
            [
             0.4,
             "#fde0ef"
            ],
            [
             0.5,
             "#f7f7f7"
            ],
            [
             0.6,
             "#e6f5d0"
            ],
            [
             0.7,
             "#b8e186"
            ],
            [
             0.8,
             "#7fbc41"
            ],
            [
             0.9,
             "#4d9221"
            ],
            [
             1,
             "#276419"
            ]
           ],
           "sequential": [
            [
             0,
             "#0d0887"
            ],
            [
             0.1111111111111111,
             "#46039f"
            ],
            [
             0.2222222222222222,
             "#7201a8"
            ],
            [
             0.3333333333333333,
             "#9c179e"
            ],
            [
             0.4444444444444444,
             "#bd3786"
            ],
            [
             0.5555555555555556,
             "#d8576b"
            ],
            [
             0.6666666666666666,
             "#ed7953"
            ],
            [
             0.7777777777777778,
             "#fb9f3a"
            ],
            [
             0.8888888888888888,
             "#fdca26"
            ],
            [
             1,
             "#f0f921"
            ]
           ],
           "sequentialminus": [
            [
             0,
             "#0d0887"
            ],
            [
             0.1111111111111111,
             "#46039f"
            ],
            [
             0.2222222222222222,
             "#7201a8"
            ],
            [
             0.3333333333333333,
             "#9c179e"
            ],
            [
             0.4444444444444444,
             "#bd3786"
            ],
            [
             0.5555555555555556,
             "#d8576b"
            ],
            [
             0.6666666666666666,
             "#ed7953"
            ],
            [
             0.7777777777777778,
             "#fb9f3a"
            ],
            [
             0.8888888888888888,
             "#fdca26"
            ],
            [
             1,
             "#f0f921"
            ]
           ]
          },
          "colorway": [
           "#636efa",
           "#EF553B",
           "#00cc96",
           "#ab63fa",
           "#FFA15A",
           "#19d3f3",
           "#FF6692",
           "#B6E880",
           "#FF97FF",
           "#FECB52"
          ],
          "font": {
           "color": "#2a3f5f"
          },
          "geo": {
           "bgcolor": "white",
           "lakecolor": "white",
           "landcolor": "#E5ECF6",
           "showlakes": true,
           "showland": true,
           "subunitcolor": "white"
          },
          "hoverlabel": {
           "align": "left"
          },
          "hovermode": "closest",
          "mapbox": {
           "style": "light"
          },
          "paper_bgcolor": "white",
          "plot_bgcolor": "#E5ECF6",
          "polar": {
           "angularaxis": {
            "gridcolor": "white",
            "linecolor": "white",
            "ticks": ""
           },
           "bgcolor": "#E5ECF6",
           "radialaxis": {
            "gridcolor": "white",
            "linecolor": "white",
            "ticks": ""
           }
          },
          "scene": {
           "xaxis": {
            "backgroundcolor": "#E5ECF6",
            "gridcolor": "white",
            "gridwidth": 2,
            "linecolor": "white",
            "showbackground": true,
            "ticks": "",
            "zerolinecolor": "white"
           },
           "yaxis": {
            "backgroundcolor": "#E5ECF6",
            "gridcolor": "white",
            "gridwidth": 2,
            "linecolor": "white",
            "showbackground": true,
            "ticks": "",
            "zerolinecolor": "white"
           },
           "zaxis": {
            "backgroundcolor": "#E5ECF6",
            "gridcolor": "white",
            "gridwidth": 2,
            "linecolor": "white",
            "showbackground": true,
            "ticks": "",
            "zerolinecolor": "white"
           }
          },
          "shapedefaults": {
           "line": {
            "color": "#2a3f5f"
           }
          },
          "ternary": {
           "aaxis": {
            "gridcolor": "white",
            "linecolor": "white",
            "ticks": ""
           },
           "baxis": {
            "gridcolor": "white",
            "linecolor": "white",
            "ticks": ""
           },
           "bgcolor": "#E5ECF6",
           "caxis": {
            "gridcolor": "white",
            "linecolor": "white",
            "ticks": ""
           }
          },
          "title": {
           "x": 0.05
          },
          "xaxis": {
           "automargin": true,
           "gridcolor": "white",
           "linecolor": "white",
           "ticks": "",
           "title": {
            "standoff": 15
           },
           "zerolinecolor": "white",
           "zerolinewidth": 2
          },
          "yaxis": {
           "automargin": true,
           "gridcolor": "white",
           "linecolor": "white",
           "ticks": "",
           "title": {
            "standoff": 15
           },
           "zerolinecolor": "white",
           "zerolinewidth": 2
          }
         }
        },
        "title": {
         "text": "<span style='font-size:30px; font-family:Times New Roman'>The State of the ML Adoption in Industry in 2022</span><br><span style='font-size:14px; font-family:Helvetica'></b></span>"
        }
       }
      }
     },
     "metadata": {},
     "output_type": "display_data"
    },
    {
     "data": {
      "application/vnd.plotly.v1+json": {
       "config": {
        "plotlyServerURL": "https://plot.ly"
       },
       "data": [
        {
         "branchvalues": "total",
         "customdata": [
          [
           "Not Started"
          ],
          [
           "Exploration Stage"
          ],
          [
           "Generating Insights"
          ],
          [
           "Models in Production"
          ],
          [
           "Models in Production"
          ],
          [
           "Not Known"
          ],
          [
           "Exploration Stage"
          ],
          [
           "Generating Insights"
          ],
          [
           "Models in Production"
          ],
          [
           "Not Known"
          ],
          [
           "Not Started"
          ]
         ],
         "domain": {
          "x": [
           0,
           1
          ],
          "y": [
           0,
           1
          ]
         },
         "hovertemplate": "labels=%{label}<br>counts=%{value}<br>parent=%{parent}<br>id=%{id}<br>ML_adoption_class=%{customdata[0]}<extra></extra>",
         "ids": [
          "Not Started/0. Not Started<br><sup>(No ML)</sup>",
          "Exploration Stage/1. Exploration<br><sup>Only Exploring ML</sup>",
          "Generating Insights/2. Beginner Stage<br><sup>Use ML only for Insights</sup>",
          "Models in Production/3. Intermediate Stage<br><sup>Recently Started Using ML</sup>",
          "Models in Production/4. Advance Stage<br><sup>Well Established ML</sup>",
          "Not Known/Not Known",
          "Exploration Stage",
          "Generating Insights",
          "Models in Production",
          "Not Known",
          "Not Started"
         ],
         "labels": [
          "0. Not Started<br><sup>(No ML)</sup>",
          "1. Exploration<br><sup>Only Exploring ML</sup>",
          "2. Beginner Stage<br><sup>Use ML only for Insights</sup>",
          "3. Intermediate Stage<br><sup>Recently Started Using ML</sup>",
          "4. Advance Stage<br><sup>Well Established ML</sup>",
          "Not Known",
          "Exploration Stage",
          "Generating Insights",
          "Models in Production",
          "Not Known",
          "Not Started"
         ],
         "marker": {
          "colors": [
           "#e0d5bd",
           "#E6b6a4",
           "#c07156",
           "#a43725",
           "#a43725",
           "#beb29e",
           "#E6b6a4",
           "#c07156",
           "#a43725",
           "#beb29e",
           "#e0d5bd"
          ]
         },
         "name": "",
         "parents": [
          "Not Started",
          "Exploration Stage",
          "Generating Insights",
          "Models in Production",
          "Models in Production",
          "Not Known",
          "",
          "",
          "",
          "",
          ""
         ],
         "type": "sunburst",
         "values": [
          1970,
          1552,
          925,
          1209,
          1778,
          1660,
          1552,
          925,
          2987,
          1660,
          1970
         ]
        }
       ],
       "layout": {
        "legend": {
         "tracegroupgap": 0
        },
        "margin": {
         "l": 0,
         "pad": 0,
         "t": 80
        },
        "showlegend": false,
        "template": {
         "data": {
          "bar": [
           {
            "error_x": {
             "color": "#2a3f5f"
            },
            "error_y": {
             "color": "#2a3f5f"
            },
            "marker": {
             "line": {
              "color": "#E5ECF6",
              "width": 0.5
             },
             "pattern": {
              "fillmode": "overlay",
              "size": 10,
              "solidity": 0.2
             }
            },
            "type": "bar"
           }
          ],
          "barpolar": [
           {
            "marker": {
             "line": {
              "color": "#E5ECF6",
              "width": 0.5
             },
             "pattern": {
              "fillmode": "overlay",
              "size": 10,
              "solidity": 0.2
             }
            },
            "type": "barpolar"
           }
          ],
          "carpet": [
           {
            "aaxis": {
             "endlinecolor": "#2a3f5f",
             "gridcolor": "white",
             "linecolor": "white",
             "minorgridcolor": "white",
             "startlinecolor": "#2a3f5f"
            },
            "baxis": {
             "endlinecolor": "#2a3f5f",
             "gridcolor": "white",
             "linecolor": "white",
             "minorgridcolor": "white",
             "startlinecolor": "#2a3f5f"
            },
            "type": "carpet"
           }
          ],
          "choropleth": [
           {
            "colorbar": {
             "outlinewidth": 0,
             "ticks": ""
            },
            "type": "choropleth"
           }
          ],
          "contour": [
           {
            "colorbar": {
             "outlinewidth": 0,
             "ticks": ""
            },
            "colorscale": [
             [
              0,
              "#0d0887"
             ],
             [
              0.1111111111111111,
              "#46039f"
             ],
             [
              0.2222222222222222,
              "#7201a8"
             ],
             [
              0.3333333333333333,
              "#9c179e"
             ],
             [
              0.4444444444444444,
              "#bd3786"
             ],
             [
              0.5555555555555556,
              "#d8576b"
             ],
             [
              0.6666666666666666,
              "#ed7953"
             ],
             [
              0.7777777777777778,
              "#fb9f3a"
             ],
             [
              0.8888888888888888,
              "#fdca26"
             ],
             [
              1,
              "#f0f921"
             ]
            ],
            "type": "contour"
           }
          ],
          "contourcarpet": [
           {
            "colorbar": {
             "outlinewidth": 0,
             "ticks": ""
            },
            "type": "contourcarpet"
           }
          ],
          "heatmap": [
           {
            "colorbar": {
             "outlinewidth": 0,
             "ticks": ""
            },
            "colorscale": [
             [
              0,
              "#0d0887"
             ],
             [
              0.1111111111111111,
              "#46039f"
             ],
             [
              0.2222222222222222,
              "#7201a8"
             ],
             [
              0.3333333333333333,
              "#9c179e"
             ],
             [
              0.4444444444444444,
              "#bd3786"
             ],
             [
              0.5555555555555556,
              "#d8576b"
             ],
             [
              0.6666666666666666,
              "#ed7953"
             ],
             [
              0.7777777777777778,
              "#fb9f3a"
             ],
             [
              0.8888888888888888,
              "#fdca26"
             ],
             [
              1,
              "#f0f921"
             ]
            ],
            "type": "heatmap"
           }
          ],
          "heatmapgl": [
           {
            "colorbar": {
             "outlinewidth": 0,
             "ticks": ""
            },
            "colorscale": [
             [
              0,
              "#0d0887"
             ],
             [
              0.1111111111111111,
              "#46039f"
             ],
             [
              0.2222222222222222,
              "#7201a8"
             ],
             [
              0.3333333333333333,
              "#9c179e"
             ],
             [
              0.4444444444444444,
              "#bd3786"
             ],
             [
              0.5555555555555556,
              "#d8576b"
             ],
             [
              0.6666666666666666,
              "#ed7953"
             ],
             [
              0.7777777777777778,
              "#fb9f3a"
             ],
             [
              0.8888888888888888,
              "#fdca26"
             ],
             [
              1,
              "#f0f921"
             ]
            ],
            "type": "heatmapgl"
           }
          ],
          "histogram": [
           {
            "marker": {
             "pattern": {
              "fillmode": "overlay",
              "size": 10,
              "solidity": 0.2
             }
            },
            "type": "histogram"
           }
          ],
          "histogram2d": [
           {
            "colorbar": {
             "outlinewidth": 0,
             "ticks": ""
            },
            "colorscale": [
             [
              0,
              "#0d0887"
             ],
             [
              0.1111111111111111,
              "#46039f"
             ],
             [
              0.2222222222222222,
              "#7201a8"
             ],
             [
              0.3333333333333333,
              "#9c179e"
             ],
             [
              0.4444444444444444,
              "#bd3786"
             ],
             [
              0.5555555555555556,
              "#d8576b"
             ],
             [
              0.6666666666666666,
              "#ed7953"
             ],
             [
              0.7777777777777778,
              "#fb9f3a"
             ],
             [
              0.8888888888888888,
              "#fdca26"
             ],
             [
              1,
              "#f0f921"
             ]
            ],
            "type": "histogram2d"
           }
          ],
          "histogram2dcontour": [
           {
            "colorbar": {
             "outlinewidth": 0,
             "ticks": ""
            },
            "colorscale": [
             [
              0,
              "#0d0887"
             ],
             [
              0.1111111111111111,
              "#46039f"
             ],
             [
              0.2222222222222222,
              "#7201a8"
             ],
             [
              0.3333333333333333,
              "#9c179e"
             ],
             [
              0.4444444444444444,
              "#bd3786"
             ],
             [
              0.5555555555555556,
              "#d8576b"
             ],
             [
              0.6666666666666666,
              "#ed7953"
             ],
             [
              0.7777777777777778,
              "#fb9f3a"
             ],
             [
              0.8888888888888888,
              "#fdca26"
             ],
             [
              1,
              "#f0f921"
             ]
            ],
            "type": "histogram2dcontour"
           }
          ],
          "mesh3d": [
           {
            "colorbar": {
             "outlinewidth": 0,
             "ticks": ""
            },
            "type": "mesh3d"
           }
          ],
          "parcoords": [
           {
            "line": {
             "colorbar": {
              "outlinewidth": 0,
              "ticks": ""
             }
            },
            "type": "parcoords"
           }
          ],
          "pie": [
           {
            "automargin": true,
            "type": "pie"
           }
          ],
          "scatter": [
           {
            "fillpattern": {
             "fillmode": "overlay",
             "size": 10,
             "solidity": 0.2
            },
            "type": "scatter"
           }
          ],
          "scatter3d": [
           {
            "line": {
             "colorbar": {
              "outlinewidth": 0,
              "ticks": ""
             }
            },
            "marker": {
             "colorbar": {
              "outlinewidth": 0,
              "ticks": ""
             }
            },
            "type": "scatter3d"
           }
          ],
          "scattercarpet": [
           {
            "marker": {
             "colorbar": {
              "outlinewidth": 0,
              "ticks": ""
             }
            },
            "type": "scattercarpet"
           }
          ],
          "scattergeo": [
           {
            "marker": {
             "colorbar": {
              "outlinewidth": 0,
              "ticks": ""
             }
            },
            "type": "scattergeo"
           }
          ],
          "scattergl": [
           {
            "marker": {
             "colorbar": {
              "outlinewidth": 0,
              "ticks": ""
             }
            },
            "type": "scattergl"
           }
          ],
          "scattermapbox": [
           {
            "marker": {
             "colorbar": {
              "outlinewidth": 0,
              "ticks": ""
             }
            },
            "type": "scattermapbox"
           }
          ],
          "scatterpolar": [
           {
            "marker": {
             "colorbar": {
              "outlinewidth": 0,
              "ticks": ""
             }
            },
            "type": "scatterpolar"
           }
          ],
          "scatterpolargl": [
           {
            "marker": {
             "colorbar": {
              "outlinewidth": 0,
              "ticks": ""
             }
            },
            "type": "scatterpolargl"
           }
          ],
          "scatterternary": [
           {
            "marker": {
             "colorbar": {
              "outlinewidth": 0,
              "ticks": ""
             }
            },
            "type": "scatterternary"
           }
          ],
          "surface": [
           {
            "colorbar": {
             "outlinewidth": 0,
             "ticks": ""
            },
            "colorscale": [
             [
              0,
              "#0d0887"
             ],
             [
              0.1111111111111111,
              "#46039f"
             ],
             [
              0.2222222222222222,
              "#7201a8"
             ],
             [
              0.3333333333333333,
              "#9c179e"
             ],
             [
              0.4444444444444444,
              "#bd3786"
             ],
             [
              0.5555555555555556,
              "#d8576b"
             ],
             [
              0.6666666666666666,
              "#ed7953"
             ],
             [
              0.7777777777777778,
              "#fb9f3a"
             ],
             [
              0.8888888888888888,
              "#fdca26"
             ],
             [
              1,
              "#f0f921"
             ]
            ],
            "type": "surface"
           }
          ],
          "table": [
           {
            "cells": {
             "fill": {
              "color": "#EBF0F8"
             },
             "line": {
              "color": "white"
             }
            },
            "header": {
             "fill": {
              "color": "#C8D4E3"
             },
             "line": {
              "color": "white"
             }
            },
            "type": "table"
           }
          ]
         },
         "layout": {
          "annotationdefaults": {
           "arrowcolor": "#2a3f5f",
           "arrowhead": 0,
           "arrowwidth": 1
          },
          "autotypenumbers": "strict",
          "coloraxis": {
           "colorbar": {
            "outlinewidth": 0,
            "ticks": ""
           }
          },
          "colorscale": {
           "diverging": [
            [
             0,
             "#8e0152"
            ],
            [
             0.1,
             "#c51b7d"
            ],
            [
             0.2,
             "#de77ae"
            ],
            [
             0.3,
             "#f1b6da"
            ],
            [
             0.4,
             "#fde0ef"
            ],
            [
             0.5,
             "#f7f7f7"
            ],
            [
             0.6,
             "#e6f5d0"
            ],
            [
             0.7,
             "#b8e186"
            ],
            [
             0.8,
             "#7fbc41"
            ],
            [
             0.9,
             "#4d9221"
            ],
            [
             1,
             "#276419"
            ]
           ],
           "sequential": [
            [
             0,
             "#0d0887"
            ],
            [
             0.1111111111111111,
             "#46039f"
            ],
            [
             0.2222222222222222,
             "#7201a8"
            ],
            [
             0.3333333333333333,
             "#9c179e"
            ],
            [
             0.4444444444444444,
             "#bd3786"
            ],
            [
             0.5555555555555556,
             "#d8576b"
            ],
            [
             0.6666666666666666,
             "#ed7953"
            ],
            [
             0.7777777777777778,
             "#fb9f3a"
            ],
            [
             0.8888888888888888,
             "#fdca26"
            ],
            [
             1,
             "#f0f921"
            ]
           ],
           "sequentialminus": [
            [
             0,
             "#0d0887"
            ],
            [
             0.1111111111111111,
             "#46039f"
            ],
            [
             0.2222222222222222,
             "#7201a8"
            ],
            [
             0.3333333333333333,
             "#9c179e"
            ],
            [
             0.4444444444444444,
             "#bd3786"
            ],
            [
             0.5555555555555556,
             "#d8576b"
            ],
            [
             0.6666666666666666,
             "#ed7953"
            ],
            [
             0.7777777777777778,
             "#fb9f3a"
            ],
            [
             0.8888888888888888,
             "#fdca26"
            ],
            [
             1,
             "#f0f921"
            ]
           ]
          },
          "colorway": [
           "#636efa",
           "#EF553B",
           "#00cc96",
           "#ab63fa",
           "#FFA15A",
           "#19d3f3",
           "#FF6692",
           "#B6E880",
           "#FF97FF",
           "#FECB52"
          ],
          "font": {
           "color": "#2a3f5f"
          },
          "geo": {
           "bgcolor": "white",
           "lakecolor": "white",
           "landcolor": "#E5ECF6",
           "showlakes": true,
           "showland": true,
           "subunitcolor": "white"
          },
          "hoverlabel": {
           "align": "left"
          },
          "hovermode": "closest",
          "mapbox": {
           "style": "light"
          },
          "paper_bgcolor": "white",
          "plot_bgcolor": "#E5ECF6",
          "polar": {
           "angularaxis": {
            "gridcolor": "white",
            "linecolor": "white",
            "ticks": ""
           },
           "bgcolor": "#E5ECF6",
           "radialaxis": {
            "gridcolor": "white",
            "linecolor": "white",
            "ticks": ""
           }
          },
          "scene": {
           "xaxis": {
            "backgroundcolor": "#E5ECF6",
            "gridcolor": "white",
            "gridwidth": 2,
            "linecolor": "white",
            "showbackground": true,
            "ticks": "",
            "zerolinecolor": "white"
           },
           "yaxis": {
            "backgroundcolor": "#E5ECF6",
            "gridcolor": "white",
            "gridwidth": 2,
            "linecolor": "white",
            "showbackground": true,
            "ticks": "",
            "zerolinecolor": "white"
           },
           "zaxis": {
            "backgroundcolor": "#E5ECF6",
            "gridcolor": "white",
            "gridwidth": 2,
            "linecolor": "white",
            "showbackground": true,
            "ticks": "",
            "zerolinecolor": "white"
           }
          },
          "shapedefaults": {
           "line": {
            "color": "#2a3f5f"
           }
          },
          "ternary": {
           "aaxis": {
            "gridcolor": "white",
            "linecolor": "white",
            "ticks": ""
           },
           "baxis": {
            "gridcolor": "white",
            "linecolor": "white",
            "ticks": ""
           },
           "bgcolor": "#E5ECF6",
           "caxis": {
            "gridcolor": "white",
            "linecolor": "white",
            "ticks": ""
           }
          },
          "title": {
           "x": 0.05
          },
          "xaxis": {
           "automargin": true,
           "gridcolor": "white",
           "linecolor": "white",
           "ticks": "",
           "title": {
            "standoff": 15
           },
           "zerolinecolor": "white",
           "zerolinewidth": 2
          },
          "yaxis": {
           "automargin": true,
           "gridcolor": "white",
           "linecolor": "white",
           "ticks": "",
           "title": {
            "standoff": 15
           },
           "zerolinecolor": "white",
           "zerolinewidth": 2
          }
         }
        }
       }
      }
     },
     "metadata": {},
     "output_type": "display_data"
    }
   ],
   "source": [
    "# ML Adoption 데이터 집계 및 처리\n",
    "ml_adoption = scope_df.groupby(\n",
    "    [\"ML_adoption_class\", \"ML_adoption\"]  # 머신러닝 채택 수준과 해당 상태별로 그룹화\n",
    ").agg(\n",
    "    {\"Q2\": \"count\"}  # 응답자 수를 집계\n",
    ").reset_index().rename(\n",
    "    columns={\"Q2\": \"counts\"}  # \"Q2\" 열을 \"counts\"로 이름 변경\n",
    ")\n",
    "\n",
    "# 첫 번째 그래프: 도넛 차트 (Pie Chart)\n",
    "fig = go.Figure(data=[go.Pie(\n",
    "    labels=scope_df[\"ML_adoption_class\"].value_counts().index.to_list(),  # 라벨: ML 채택 수준\n",
    "    values=list(scope_df[\"ML_adoption_class\"].value_counts().values),  # 값: 각 수준의 응답자 수\n",
    "    hole=.4  # 차트 가운데의 빈 공간 크기 설정 (도넛 모양)\n",
    ")])\n",
    "\n",
    "# (선택 사항) 차트 색상 설정\n",
    "# fig.update_traces(marker=dict(colors=['#a43725', '#e0d5bd', '#beb29e', '#E6b6a4', '#c07156']))\n",
    "\n",
    "# 도넛 차트 제목 스타일 설정\n",
    "large_title_format = \"<span style='font-size:30px; font-family:Times New Roman'>The State of the ML Adoption in Industry in 2022</span>\"\n",
    "small_title_format = \"<span style='font-size:14px; font-family:Helvetica'></b></span>\"\n",
    "\n",
    "# 차트 레이아웃 설정\n",
    "layout = dict(\n",
    "    title=large_title_format + \"<br>\" + small_title_format,  # 제목 설정\n",
    "    font=dict(color='#7b6b59'),  # 제목 및 텍스트 색상 설정\n",
    "    showlegend=True,  # 범례 표시\n",
    "    margin=dict(t=80, pad=0),  # 상단 여백 설정\n",
    ")\n",
    "\n",
    "# 설정된 레이아웃을 차트에 반영\n",
    "fig[\"layout\"].update(layout)\n",
    "\n",
    "# 도넛 차트 표시\n",
    "fig.show()\n",
    "\n",
    "# 두 번째 그래프: Sunburst 차트\n",
    "fig = px.sunburst(\n",
    "    ml_adoption,  # 데이터프레임 사용\n",
    "    path=[\"ML_adoption_class\", \"ML_adoption\"],  # Sunburst 계층 경로 설정 (채택 수준 -> 채택 상태)\n",
    "    values=\"counts\",  # 각 노드의 값: 응답자 수\n",
    "    color=\"ML_adoption_class\",  # 색상 기준: ML 채택 수준\n",
    "    color_discrete_map=ml_adoption_color_discrete_map  # 사용자 정의 색상 맵\n",
    ")\n",
    "\n",
    "# Sunburst 차트 레이아웃 설정\n",
    "layout = dict(\n",
    "    showlegend=False,  # 범례 숨기기\n",
    "    margin=dict(t=80, pad=0, l=0),  # 여백 설정\n",
    ")\n",
    "\n",
    "# 설정된 레이아웃을 차트에 반영\n",
    "fig[\"layout\"].update(layout)\n",
    "\n",
    "# Sunburst 차트 표시\n",
    "fig.show()\n"
   ]
  },
  {
   "cell_type": "code",
   "execution_count": null,
   "metadata": {},
   "outputs": [],
   "source": [
    "### pip install nbformat==5.1.2\n",
    "### nbformat.__version__"
   ]
  },
  {
   "cell_type": "code",
   "execution_count": null,
   "metadata": {},
   "outputs": [],
   "source": [
    "\"\"\"\n",
    "이제 설문조사 결과에서 인사이트를 추출하여 답변함.\n",
    "\n",
    "다음 차트에서 인터넷 기반 서비스를 제공하는 기업은 기계 학습 및 데이터 과학을 더 잘 채택, \n",
    "비영리 단체와 정부 부문은 의심할 여지없이 다양한 AI 관련 기술을 채택하고 있다는 사실을 알 수 있다. \n",
    "정부와 비영리 단체의 AI 채택률이 낮은 주요 이유는 관료주의와 너무 오래 걸리는 기존 프로세스 때문..\n",
    "\n",
    "민간 부문에서는 고용주가 실험, 혁신, 성장에 중점을 두는 경향이 있다. \n",
    "예를 들어, 인터넷 기반 서비스를 제공하는 기업은 사용자의 온라인 활동에서 많은 데이터를 수집할 수 있으며, \n",
    "직원은 회사가 제공하는 서비스를 개선하기 위해 분석 및 기타 혁신적인 아이디어를 적용할 수 있다. \n",
    "\n",
    "보험 부문에서도 보험 자문, 보험금 청구 처리 인수, 사기 방지, 위험 관리, 다이렉트 마케팅에 AI 기술을 활용하고 있다. \n",
    "고객 행동과 기술의 발전으로 보험 시장에서 AI가 가치를 창출하고, 비용을 절감하고, 효율성을 높이며, 더 높은 고객 만족과 신뢰를 얻을 수 있는 문이 열렸다. \n",
    "리테일은 전체 전문가의 27%가 AI 기술을 도입했고, 리테일 부문에서 근무하는 전문가들은 자사가 생산 분야에서 머신러닝 방법을 잘 구축하고 있다고 말함.\n",
    "\n",
    "\"\"\""
   ]
  },
  {
   "cell_type": "code",
   "execution_count": null,
   "metadata": {},
   "outputs": [
    {
     "data": {
      "application/vnd.plotly.v1+json": {
       "config": {
        "plotlyServerURL": "https://plot.ly"
       },
       "data": [
        {
         "hovertemplate": "Industry: %{x}<br>AI Adoption Stage: %{y}<br>Percentage: %{marker.size:,}<extra></extra>",
         "marker": {
          "color": [
           28.74913614374568,
           17.622667588113337,
           11.264685556323428,
           9.606081548030408,
           5.9433310297166555,
           16.58354114713217,
           17.70573566084788,
           10.349127182044887,
           13.840399002493767,
           25.43640897755611,
           20.11173184357542,
           13.966480446927374,
           12.290502793296088,
           16.201117318435752,
           23.463687150837988,
           14.691943127962084,
           16.889271865575182,
           10.21111589831969,
           14.433433864713486,
           27.358897027143474,
           29.062500000000004,
           16.5625,
           10.625,
           15.312500000000002,
           16.5625,
           32.2,
           20,
           8,
           13.200000000000001,
           11.600000000000001,
           9.375,
           16.796875,
           12.5,
           14.84375,
           28.90625,
           31.372549019607842,
           20.677361853832444,
           9.090909090909092,
           13.903743315508022,
           10.51693404634581,
           21.544715447154474,
           17.073170731707318,
           11.788617886178862,
           20.32520325203252,
           19.51219512195122,
           18.860510805500983,
           17.288801571709232,
           11.591355599214145,
           14.931237721021612,
           20.039292730844792,
           39.175257731958766,
           17.525773195876287,
           9.278350515463918,
           8.762886597938143,
           5.154639175257731,
           13.015184381778742,
           17.570498915401302,
           9.97830802603037,
           11.496746203904555,
           36.00867678958785,
           24.133333333333333,
           14.399999999999999,
           7.733333333333333,
           11.733333333333333,
           14.399999999999999,
           23.366834170854272,
           12.562814070351758,
           9.296482412060302,
           14.572864321608039,
           27.1356783919598,
           20.666666666666668,
           15.333333333333332,
           10.666666666666668,
           14.666666666666666,
           16.666666666666664
          ],
          "colorbar": {
           "title": {
            "text": "Percent"
           }
          },
          "colorscale": [
           [
            0,
            "rgb(5,48,97)"
           ],
           [
            0.1,
            "rgb(33,102,172)"
           ],
           [
            0.2,
            "rgb(67,147,195)"
           ],
           [
            0.3,
            "rgb(146,197,222)"
           ],
           [
            0.4,
            "rgb(209,229,240)"
           ],
           [
            0.5,
            "rgb(247,247,247)"
           ],
           [
            0.6,
            "rgb(253,219,199)"
           ],
           [
            0.7,
            "rgb(244,165,130)"
           ],
           [
            0.8,
            "rgb(214,96,77)"
           ],
           [
            0.9,
            "rgb(178,24,43)"
           ],
           [
            1,
            "rgb(103,0,31)"
           ]
          ],
          "opacity": 0.7,
          "showscale": true,
          "size": [
           28.74913614374568,
           17.622667588113337,
           11.264685556323428,
           9.606081548030408,
           5.9433310297166555,
           16.58354114713217,
           17.70573566084788,
           10.349127182044887,
           13.840399002493767,
           25.43640897755611,
           20.11173184357542,
           13.966480446927374,
           12.290502793296088,
           16.201117318435752,
           23.463687150837988,
           14.691943127962084,
           16.889271865575182,
           10.21111589831969,
           14.433433864713486,
           27.358897027143474,
           29.062500000000004,
           16.5625,
           10.625,
           15.312500000000002,
           16.5625,
           32.2,
           20,
           8,
           13.200000000000001,
           11.600000000000001,
           9.375,
           16.796875,
           12.5,
           14.84375,
           28.90625,
           31.372549019607842,
           20.677361853832444,
           9.090909090909092,
           13.903743315508022,
           10.51693404634581,
           21.544715447154474,
           17.073170731707318,
           11.788617886178862,
           20.32520325203252,
           19.51219512195122,
           18.860510805500983,
           17.288801571709232,
           11.591355599214145,
           14.931237721021612,
           20.039292730844792,
           39.175257731958766,
           17.525773195876287,
           9.278350515463918,
           8.762886597938143,
           5.154639175257731,
           13.015184381778742,
           17.570498915401302,
           9.97830802603037,
           11.496746203904555,
           36.00867678958785,
           24.133333333333333,
           14.399999999999999,
           7.733333333333333,
           11.733333333333333,
           14.399999999999999,
           23.366834170854272,
           12.562814070351758,
           9.296482412060302,
           14.572864321608039,
           27.1356783919598,
           20.666666666666668,
           15.333333333333332,
           10.666666666666668,
           14.666666666666666,
           16.666666666666664
          ]
         },
         "mode": "markers",
         "type": "scatter",
         "x": [
          "Academics/Education",
          "Academics/Education",
          "Academics/Education",
          "Academics/Education",
          "Academics/Education",
          "Accounting/Finance",
          "Accounting/Finance",
          "Accounting/Finance",
          "Accounting/Finance",
          "Accounting/Finance",
          "Broadcasting/Communications",
          "Broadcasting/Communications",
          "Broadcasting/Communications",
          "Broadcasting/Communications",
          "Broadcasting/Communications",
          "Computers/Technology",
          "Computers/Technology",
          "Computers/Technology",
          "Computers/Technology",
          "Computers/Technology",
          "Energy/Mining",
          "Energy/Mining",
          "Energy/Mining",
          "Energy/Mining",
          "Energy/Mining",
          "Government/Public Service",
          "Government/Public Service",
          "Government/Public Service",
          "Government/Public Service",
          "Government/Public Service",
          "Insurance/Risk Assessment",
          "Insurance/Risk Assessment",
          "Insurance/Risk Assessment",
          "Insurance/Risk Assessment",
          "Insurance/Risk Assessment",
          "Manufacturing/Fabrication",
          "Manufacturing/Fabrication",
          "Manufacturing/Fabrication",
          "Manufacturing/Fabrication",
          "Manufacturing/Fabrication",
          "Marketing/CRM",
          "Marketing/CRM",
          "Marketing/CRM",
          "Marketing/CRM",
          "Marketing/CRM",
          "Medical/Pharmaceutical",
          "Medical/Pharmaceutical",
          "Medical/Pharmaceutical",
          "Medical/Pharmaceutical",
          "Medical/Pharmaceutical",
          "Non-profit/Service",
          "Non-profit/Service",
          "Non-profit/Service",
          "Non-profit/Service",
          "Non-profit/Service",
          "Online Service/Internet-based Services",
          "Online Service/Internet-based Services",
          "Online Service/Internet-based Services",
          "Online Service/Internet-based Services",
          "Online Service/Internet-based Services",
          "Other",
          "Other",
          "Other",
          "Other",
          "Other",
          "Retail/Sales",
          "Retail/Sales",
          "Retail/Sales",
          "Retail/Sales",
          "Retail/Sales",
          "Shipping/Transportation",
          "Shipping/Transportation",
          "Shipping/Transportation",
          "Shipping/Transportation",
          "Shipping/Transportation"
         ],
         "y": [
          " Not Started<br><sup>(No ML)</sup>",
          " Exploration<br><sup>Only Exploring ML</sup>",
          " Beginner Stage<br><sup>Use ML only for Insights</sup>",
          " Intermediate Stage<br><sup>Recently Started Using ML</sup>",
          " Advance Stage<br><sup>Well Established ML</sup>",
          " Not Started<br><sup>(No ML)</sup>",
          " Exploration<br><sup>Only Exploring ML</sup>",
          " Beginner Stage<br><sup>Use ML only for Insights</sup>",
          " Intermediate Stage<br><sup>Recently Started Using ML</sup>",
          " Advance Stage<br><sup>Well Established ML</sup>",
          " Not Started<br><sup>(No ML)</sup>",
          " Exploration<br><sup>Only Exploring ML</sup>",
          " Beginner Stage<br><sup>Use ML only for Insights</sup>",
          " Intermediate Stage<br><sup>Recently Started Using ML</sup>",
          " Advance Stage<br><sup>Well Established ML</sup>",
          " Not Started<br><sup>(No ML)</sup>",
          " Exploration<br><sup>Only Exploring ML</sup>",
          " Beginner Stage<br><sup>Use ML only for Insights</sup>",
          " Intermediate Stage<br><sup>Recently Started Using ML</sup>",
          " Advance Stage<br><sup>Well Established ML</sup>",
          " Not Started<br><sup>(No ML)</sup>",
          " Exploration<br><sup>Only Exploring ML</sup>",
          " Beginner Stage<br><sup>Use ML only for Insights</sup>",
          " Intermediate Stage<br><sup>Recently Started Using ML</sup>",
          " Advance Stage<br><sup>Well Established ML</sup>",
          " Not Started<br><sup>(No ML)</sup>",
          " Exploration<br><sup>Only Exploring ML</sup>",
          " Beginner Stage<br><sup>Use ML only for Insights</sup>",
          " Intermediate Stage<br><sup>Recently Started Using ML</sup>",
          " Advance Stage<br><sup>Well Established ML</sup>",
          " Not Started<br><sup>(No ML)</sup>",
          " Exploration<br><sup>Only Exploring ML</sup>",
          " Beginner Stage<br><sup>Use ML only for Insights</sup>",
          " Intermediate Stage<br><sup>Recently Started Using ML</sup>",
          " Advance Stage<br><sup>Well Established ML</sup>",
          " Not Started<br><sup>(No ML)</sup>",
          " Exploration<br><sup>Only Exploring ML</sup>",
          " Beginner Stage<br><sup>Use ML only for Insights</sup>",
          " Intermediate Stage<br><sup>Recently Started Using ML</sup>",
          " Advance Stage<br><sup>Well Established ML</sup>",
          " Not Started<br><sup>(No ML)</sup>",
          " Exploration<br><sup>Only Exploring ML</sup>",
          " Beginner Stage<br><sup>Use ML only for Insights</sup>",
          " Intermediate Stage<br><sup>Recently Started Using ML</sup>",
          " Advance Stage<br><sup>Well Established ML</sup>",
          " Not Started<br><sup>(No ML)</sup>",
          " Exploration<br><sup>Only Exploring ML</sup>",
          " Beginner Stage<br><sup>Use ML only for Insights</sup>",
          " Intermediate Stage<br><sup>Recently Started Using ML</sup>",
          " Advance Stage<br><sup>Well Established ML</sup>",
          " Not Started<br><sup>(No ML)</sup>",
          " Exploration<br><sup>Only Exploring ML</sup>",
          " Beginner Stage<br><sup>Use ML only for Insights</sup>",
          " Intermediate Stage<br><sup>Recently Started Using ML</sup>",
          " Advance Stage<br><sup>Well Established ML</sup>",
          " Not Started<br><sup>(No ML)</sup>",
          " Exploration<br><sup>Only Exploring ML</sup>",
          " Beginner Stage<br><sup>Use ML only for Insights</sup>",
          " Intermediate Stage<br><sup>Recently Started Using ML</sup>",
          " Advance Stage<br><sup>Well Established ML</sup>",
          " Not Started<br><sup>(No ML)</sup>",
          " Exploration<br><sup>Only Exploring ML</sup>",
          " Beginner Stage<br><sup>Use ML only for Insights</sup>",
          " Intermediate Stage<br><sup>Recently Started Using ML</sup>",
          " Advance Stage<br><sup>Well Established ML</sup>",
          " Not Started<br><sup>(No ML)</sup>",
          " Exploration<br><sup>Only Exploring ML</sup>",
          " Beginner Stage<br><sup>Use ML only for Insights</sup>",
          " Intermediate Stage<br><sup>Recently Started Using ML</sup>",
          " Advance Stage<br><sup>Well Established ML</sup>",
          " Not Started<br><sup>(No ML)</sup>",
          " Exploration<br><sup>Only Exploring ML</sup>",
          " Beginner Stage<br><sup>Use ML only for Insights</sup>",
          " Intermediate Stage<br><sup>Recently Started Using ML</sup>",
          " Advance Stage<br><sup>Well Established ML</sup>"
         ]
        }
       ],
       "layout": {
        "font": {
         "color": "#7b6b59"
        },
        "height": 950,
        "margin": {
         "t": 170
        },
        "paper_bgcolor": "#fff",
        "plot_bgcolor": "#fff",
        "showlegend": false,
        "template": {
         "data": {
          "bar": [
           {
            "error_x": {
             "color": "#2a3f5f"
            },
            "error_y": {
             "color": "#2a3f5f"
            },
            "marker": {
             "line": {
              "color": "#E5ECF6",
              "width": 0.5
             },
             "pattern": {
              "fillmode": "overlay",
              "size": 10,
              "solidity": 0.2
             }
            },
            "type": "bar"
           }
          ],
          "barpolar": [
           {
            "marker": {
             "line": {
              "color": "#E5ECF6",
              "width": 0.5
             },
             "pattern": {
              "fillmode": "overlay",
              "size": 10,
              "solidity": 0.2
             }
            },
            "type": "barpolar"
           }
          ],
          "carpet": [
           {
            "aaxis": {
             "endlinecolor": "#2a3f5f",
             "gridcolor": "white",
             "linecolor": "white",
             "minorgridcolor": "white",
             "startlinecolor": "#2a3f5f"
            },
            "baxis": {
             "endlinecolor": "#2a3f5f",
             "gridcolor": "white",
             "linecolor": "white",
             "minorgridcolor": "white",
             "startlinecolor": "#2a3f5f"
            },
            "type": "carpet"
           }
          ],
          "choropleth": [
           {
            "colorbar": {
             "outlinewidth": 0,
             "ticks": ""
            },
            "type": "choropleth"
           }
          ],
          "contour": [
           {
            "colorbar": {
             "outlinewidth": 0,
             "ticks": ""
            },
            "colorscale": [
             [
              0,
              "#0d0887"
             ],
             [
              0.1111111111111111,
              "#46039f"
             ],
             [
              0.2222222222222222,
              "#7201a8"
             ],
             [
              0.3333333333333333,
              "#9c179e"
             ],
             [
              0.4444444444444444,
              "#bd3786"
             ],
             [
              0.5555555555555556,
              "#d8576b"
             ],
             [
              0.6666666666666666,
              "#ed7953"
             ],
             [
              0.7777777777777778,
              "#fb9f3a"
             ],
             [
              0.8888888888888888,
              "#fdca26"
             ],
             [
              1,
              "#f0f921"
             ]
            ],
            "type": "contour"
           }
          ],
          "contourcarpet": [
           {
            "colorbar": {
             "outlinewidth": 0,
             "ticks": ""
            },
            "type": "contourcarpet"
           }
          ],
          "heatmap": [
           {
            "colorbar": {
             "outlinewidth": 0,
             "ticks": ""
            },
            "colorscale": [
             [
              0,
              "#0d0887"
             ],
             [
              0.1111111111111111,
              "#46039f"
             ],
             [
              0.2222222222222222,
              "#7201a8"
             ],
             [
              0.3333333333333333,
              "#9c179e"
             ],
             [
              0.4444444444444444,
              "#bd3786"
             ],
             [
              0.5555555555555556,
              "#d8576b"
             ],
             [
              0.6666666666666666,
              "#ed7953"
             ],
             [
              0.7777777777777778,
              "#fb9f3a"
             ],
             [
              0.8888888888888888,
              "#fdca26"
             ],
             [
              1,
              "#f0f921"
             ]
            ],
            "type": "heatmap"
           }
          ],
          "heatmapgl": [
           {
            "colorbar": {
             "outlinewidth": 0,
             "ticks": ""
            },
            "colorscale": [
             [
              0,
              "#0d0887"
             ],
             [
              0.1111111111111111,
              "#46039f"
             ],
             [
              0.2222222222222222,
              "#7201a8"
             ],
             [
              0.3333333333333333,
              "#9c179e"
             ],
             [
              0.4444444444444444,
              "#bd3786"
             ],
             [
              0.5555555555555556,
              "#d8576b"
             ],
             [
              0.6666666666666666,
              "#ed7953"
             ],
             [
              0.7777777777777778,
              "#fb9f3a"
             ],
             [
              0.8888888888888888,
              "#fdca26"
             ],
             [
              1,
              "#f0f921"
             ]
            ],
            "type": "heatmapgl"
           }
          ],
          "histogram": [
           {
            "marker": {
             "pattern": {
              "fillmode": "overlay",
              "size": 10,
              "solidity": 0.2
             }
            },
            "type": "histogram"
           }
          ],
          "histogram2d": [
           {
            "colorbar": {
             "outlinewidth": 0,
             "ticks": ""
            },
            "colorscale": [
             [
              0,
              "#0d0887"
             ],
             [
              0.1111111111111111,
              "#46039f"
             ],
             [
              0.2222222222222222,
              "#7201a8"
             ],
             [
              0.3333333333333333,
              "#9c179e"
             ],
             [
              0.4444444444444444,
              "#bd3786"
             ],
             [
              0.5555555555555556,
              "#d8576b"
             ],
             [
              0.6666666666666666,
              "#ed7953"
             ],
             [
              0.7777777777777778,
              "#fb9f3a"
             ],
             [
              0.8888888888888888,
              "#fdca26"
             ],
             [
              1,
              "#f0f921"
             ]
            ],
            "type": "histogram2d"
           }
          ],
          "histogram2dcontour": [
           {
            "colorbar": {
             "outlinewidth": 0,
             "ticks": ""
            },
            "colorscale": [
             [
              0,
              "#0d0887"
             ],
             [
              0.1111111111111111,
              "#46039f"
             ],
             [
              0.2222222222222222,
              "#7201a8"
             ],
             [
              0.3333333333333333,
              "#9c179e"
             ],
             [
              0.4444444444444444,
              "#bd3786"
             ],
             [
              0.5555555555555556,
              "#d8576b"
             ],
             [
              0.6666666666666666,
              "#ed7953"
             ],
             [
              0.7777777777777778,
              "#fb9f3a"
             ],
             [
              0.8888888888888888,
              "#fdca26"
             ],
             [
              1,
              "#f0f921"
             ]
            ],
            "type": "histogram2dcontour"
           }
          ],
          "mesh3d": [
           {
            "colorbar": {
             "outlinewidth": 0,
             "ticks": ""
            },
            "type": "mesh3d"
           }
          ],
          "parcoords": [
           {
            "line": {
             "colorbar": {
              "outlinewidth": 0,
              "ticks": ""
             }
            },
            "type": "parcoords"
           }
          ],
          "pie": [
           {
            "automargin": true,
            "type": "pie"
           }
          ],
          "scatter": [
           {
            "fillpattern": {
             "fillmode": "overlay",
             "size": 10,
             "solidity": 0.2
            },
            "type": "scatter"
           }
          ],
          "scatter3d": [
           {
            "line": {
             "colorbar": {
              "outlinewidth": 0,
              "ticks": ""
             }
            },
            "marker": {
             "colorbar": {
              "outlinewidth": 0,
              "ticks": ""
             }
            },
            "type": "scatter3d"
           }
          ],
          "scattercarpet": [
           {
            "marker": {
             "colorbar": {
              "outlinewidth": 0,
              "ticks": ""
             }
            },
            "type": "scattercarpet"
           }
          ],
          "scattergeo": [
           {
            "marker": {
             "colorbar": {
              "outlinewidth": 0,
              "ticks": ""
             }
            },
            "type": "scattergeo"
           }
          ],
          "scattergl": [
           {
            "marker": {
             "colorbar": {
              "outlinewidth": 0,
              "ticks": ""
             }
            },
            "type": "scattergl"
           }
          ],
          "scattermapbox": [
           {
            "marker": {
             "colorbar": {
              "outlinewidth": 0,
              "ticks": ""
             }
            },
            "type": "scattermapbox"
           }
          ],
          "scatterpolar": [
           {
            "marker": {
             "colorbar": {
              "outlinewidth": 0,
              "ticks": ""
             }
            },
            "type": "scatterpolar"
           }
          ],
          "scatterpolargl": [
           {
            "marker": {
             "colorbar": {
              "outlinewidth": 0,
              "ticks": ""
             }
            },
            "type": "scatterpolargl"
           }
          ],
          "scatterternary": [
           {
            "marker": {
             "colorbar": {
              "outlinewidth": 0,
              "ticks": ""
             }
            },
            "type": "scatterternary"
           }
          ],
          "surface": [
           {
            "colorbar": {
             "outlinewidth": 0,
             "ticks": ""
            },
            "colorscale": [
             [
              0,
              "#0d0887"
             ],
             [
              0.1111111111111111,
              "#46039f"
             ],
             [
              0.2222222222222222,
              "#7201a8"
             ],
             [
              0.3333333333333333,
              "#9c179e"
             ],
             [
              0.4444444444444444,
              "#bd3786"
             ],
             [
              0.5555555555555556,
              "#d8576b"
             ],
             [
              0.6666666666666666,
              "#ed7953"
             ],
             [
              0.7777777777777778,
              "#fb9f3a"
             ],
             [
              0.8888888888888888,
              "#fdca26"
             ],
             [
              1,
              "#f0f921"
             ]
            ],
            "type": "surface"
           }
          ],
          "table": [
           {
            "cells": {
             "fill": {
              "color": "#EBF0F8"
             },
             "line": {
              "color": "white"
             }
            },
            "header": {
             "fill": {
              "color": "#C8D4E3"
             },
             "line": {
              "color": "white"
             }
            },
            "type": "table"
           }
          ]
         },
         "layout": {
          "annotationdefaults": {
           "arrowcolor": "#2a3f5f",
           "arrowhead": 0,
           "arrowwidth": 1
          },
          "autotypenumbers": "strict",
          "coloraxis": {
           "colorbar": {
            "outlinewidth": 0,
            "ticks": ""
           }
          },
          "colorscale": {
           "diverging": [
            [
             0,
             "#8e0152"
            ],
            [
             0.1,
             "#c51b7d"
            ],
            [
             0.2,
             "#de77ae"
            ],
            [
             0.3,
             "#f1b6da"
            ],
            [
             0.4,
             "#fde0ef"
            ],
            [
             0.5,
             "#f7f7f7"
            ],
            [
             0.6,
             "#e6f5d0"
            ],
            [
             0.7,
             "#b8e186"
            ],
            [
             0.8,
             "#7fbc41"
            ],
            [
             0.9,
             "#4d9221"
            ],
            [
             1,
             "#276419"
            ]
           ],
           "sequential": [
            [
             0,
             "#0d0887"
            ],
            [
             0.1111111111111111,
             "#46039f"
            ],
            [
             0.2222222222222222,
             "#7201a8"
            ],
            [
             0.3333333333333333,
             "#9c179e"
            ],
            [
             0.4444444444444444,
             "#bd3786"
            ],
            [
             0.5555555555555556,
             "#d8576b"
            ],
            [
             0.6666666666666666,
             "#ed7953"
            ],
            [
             0.7777777777777778,
             "#fb9f3a"
            ],
            [
             0.8888888888888888,
             "#fdca26"
            ],
            [
             1,
             "#f0f921"
            ]
           ],
           "sequentialminus": [
            [
             0,
             "#0d0887"
            ],
            [
             0.1111111111111111,
             "#46039f"
            ],
            [
             0.2222222222222222,
             "#7201a8"
            ],
            [
             0.3333333333333333,
             "#9c179e"
            ],
            [
             0.4444444444444444,
             "#bd3786"
            ],
            [
             0.5555555555555556,
             "#d8576b"
            ],
            [
             0.6666666666666666,
             "#ed7953"
            ],
            [
             0.7777777777777778,
             "#fb9f3a"
            ],
            [
             0.8888888888888888,
             "#fdca26"
            ],
            [
             1,
             "#f0f921"
            ]
           ]
          },
          "colorway": [
           "#636efa",
           "#EF553B",
           "#00cc96",
           "#ab63fa",
           "#FFA15A",
           "#19d3f3",
           "#FF6692",
           "#B6E880",
           "#FF97FF",
           "#FECB52"
          ],
          "font": {
           "color": "#2a3f5f"
          },
          "geo": {
           "bgcolor": "white",
           "lakecolor": "white",
           "landcolor": "#E5ECF6",
           "showlakes": true,
           "showland": true,
           "subunitcolor": "white"
          },
          "hoverlabel": {
           "align": "left"
          },
          "hovermode": "closest",
          "mapbox": {
           "style": "light"
          },
          "paper_bgcolor": "white",
          "plot_bgcolor": "#E5ECF6",
          "polar": {
           "angularaxis": {
            "gridcolor": "white",
            "linecolor": "white",
            "ticks": ""
           },
           "bgcolor": "#E5ECF6",
           "radialaxis": {
            "gridcolor": "white",
            "linecolor": "white",
            "ticks": ""
           }
          },
          "scene": {
           "xaxis": {
            "backgroundcolor": "#E5ECF6",
            "gridcolor": "white",
            "gridwidth": 2,
            "linecolor": "white",
            "showbackground": true,
            "ticks": "",
            "zerolinecolor": "white"
           },
           "yaxis": {
            "backgroundcolor": "#E5ECF6",
            "gridcolor": "white",
            "gridwidth": 2,
            "linecolor": "white",
            "showbackground": true,
            "ticks": "",
            "zerolinecolor": "white"
           },
           "zaxis": {
            "backgroundcolor": "#E5ECF6",
            "gridcolor": "white",
            "gridwidth": 2,
            "linecolor": "white",
            "showbackground": true,
            "ticks": "",
            "zerolinecolor": "white"
           }
          },
          "shapedefaults": {
           "line": {
            "color": "#2a3f5f"
           }
          },
          "ternary": {
           "aaxis": {
            "gridcolor": "white",
            "linecolor": "white",
            "ticks": ""
           },
           "baxis": {
            "gridcolor": "white",
            "linecolor": "white",
            "ticks": ""
           },
           "bgcolor": "#E5ECF6",
           "caxis": {
            "gridcolor": "white",
            "linecolor": "white",
            "ticks": ""
           }
          },
          "title": {
           "x": 0.05
          },
          "xaxis": {
           "automargin": true,
           "gridcolor": "white",
           "linecolor": "white",
           "ticks": "",
           "title": {
            "standoff": 15
           },
           "zerolinecolor": "white",
           "zerolinewidth": 2
          },
          "yaxis": {
           "automargin": true,
           "gridcolor": "white",
           "linecolor": "white",
           "ticks": "",
           "title": {
            "standoff": 15
           },
           "zerolinecolor": "white",
           "zerolinewidth": 2
          }
         }
        },
        "title": {
         "text": "<span style='font-size:30px; font-family:Times New Roman'>The State of Machine Learning Adoption by Industry</span><br><br><sup>Questions Data: Industry (Q24) and ML Adoption State (Q27)</sup><br><sup>Size,Color: Percentage of Respondents - <br>The number of respondents of the related sector that chose the relevant adoption stage of their company <br>divided by the total number of respondents working in that sector.</sup>",
         "x": 0.5,
         "xanchor": "center"
        },
        "width": 900,
        "xaxis": {
         "gridcolor": "#c9c4c3",
         "linecolor": "#c9c4c3",
         "linewidth": 1,
         "showgrid": false,
         "showline": false,
         "tickangle": -35,
         "tickfont": {
          "color": "#7b6b59",
          "family": "Verdana",
          "size": 14
         },
         "title": {
          "font": {
           "color": "#f57369",
           "family": "Verdana",
           "size": 14
          },
          "text": ""
         }
        },
        "yaxis": {
         "gridcolor": "#fff",
         "linecolor": "#000",
         "linewidth": 1,
         "showgrid": false,
         "showline": false,
         "tickfont": {
          "color": "#a43725",
          "family": "Verdana",
          "size": 14
         },
         "title": {
          "font": {
           "color": "#f57369",
           "family": "Verdana",
           "size": 14
          },
          "text": ""
         }
        }
       }
      }
     },
     "metadata": {},
     "output_type": "display_data"
    }
   ],
   "source": [
    "# 각 산업의 발생 건수 파악\n",
    "ai_adoption_totals = scope_df[\"Q24\"].value_counts().to_dict()\n",
    "\n",
    "# 산업별 ML 도입 단계별 발생 건수 파악\n",
    "ai_adoption = scope_df.groupby([\"Q24\", \"ML_adoption\"]).agg({\"Q2\" : \"count\"}).reset_index().rename(columns={\"Q2\": \"counts\"})\n",
    "\n",
    "# 상대 비율 가져오기\n",
    "ai_adoption[\"relative_percent\"] = ai_adoption.apply(lambda x : x[\"counts\"] / ai_adoption_totals[x[\"Q24\"]], axis = 1)\n",
    "\n",
    "# 알 수 없는 다른 범주 및 상태 등은 무시\n",
    "ai_adoption = ai_adoption[ai_adoption[\"ML_adoption\"]!= \"Not Known\"]\n",
    "\n",
    "hover_template = \"Industry: %{x}<br>\" + \"AI Adoption Stage: %{y}<br>\" + \"Percentage: %{marker.size:,}\" + \"<extra></extra>\"\n",
    "\n",
    "create_scatter_plot(\n",
    "    ai_adoption[\"Q24\"],\n",
    "    ai_adoption[\"ML_adoption\"].apply(lambda x : x.split(\".\")[-1]), \n",
    "    hover_template,\n",
    "    ai_adoption['relative_percent']*100, \n",
    "    ai_adoption['relative_percent']*100, \n",
    "    \"The State of Machine Learning Adoption by Industry\",\n",
    "    \"Questions Data: Industry (Q24) and ML Adoption State (Q27)\",\n",
    "    \"Size,Color: Percentage of Respondents - <br>The number of respondents of the related sector that chose the relevant adoption stage of their company <br>divided by the total number of respondents working in that sector.\"\n",
    ")"
   ]
  },
  {
   "cell_type": "code",
   "execution_count": null,
   "metadata": {},
   "outputs": [
    {
     "data": {
      "application/vnd.plotly.v1+json": {
       "config": {
        "plotlyServerURL": "https://plot.ly"
       },
       "data": [
        {
         "fill": "toself",
         "name": "Models in Production",
         "r": [
          505,
          429,
          413,
          681,
          959
         ],
         "theta": [
          "1. 0-49 employees",
          "2. 50-249 employees",
          "3. 250-999 employees",
          "4. 1000-9,999 employees",
          "5. 10,000 or more employees"
         ],
         "type": "scatterpolar"
        },
        {
         "fill": "toself",
         "name": "Exploration Stage",
         "r": [
          458,
          299,
          238,
          294,
          263
         ],
         "theta": [
          "1. 0-49 employees",
          "2. 50-249 employees",
          "3. 250-999 employees",
          "4. 1000-9,999 employees",
          "5. 10,000 or more employees"
         ],
         "type": "scatterpolar"
        },
        {
         "fill": "toself",
         "name": "Generating Insights",
         "r": [
          232,
          180,
          145,
          187,
          181
         ],
         "theta": [
          "1. 0-49 employees",
          "2. 50-249 employees",
          "3. 250-999 employees",
          "4. 1000-9,999 employees",
          "5. 10,000 or more employees"
         ],
         "type": "scatterpolar"
        },
        {
         "fill": "toself",
         "name": "Not Started",
         "r": [
          603,
          447,
          331,
          334,
          255
         ],
         "theta": [
          "1. 0-49 employees",
          "2. 50-249 employees",
          "3. 250-999 employees",
          "4. 1000-9,999 employees",
          "5. 10,000 or more employees"
         ],
         "type": "scatterpolar"
        }
       ],
       "layout": {
        "font": {
         "color": "#7b6b59"
        },
        "margin": {
         "pad": 6,
         "t": 80
        },
        "showlegend": true,
        "template": {
         "data": {
          "bar": [
           {
            "error_x": {
             "color": "#2a3f5f"
            },
            "error_y": {
             "color": "#2a3f5f"
            },
            "marker": {
             "line": {
              "color": "#E5ECF6",
              "width": 0.5
             },
             "pattern": {
              "fillmode": "overlay",
              "size": 10,
              "solidity": 0.2
             }
            },
            "type": "bar"
           }
          ],
          "barpolar": [
           {
            "marker": {
             "line": {
              "color": "#E5ECF6",
              "width": 0.5
             },
             "pattern": {
              "fillmode": "overlay",
              "size": 10,
              "solidity": 0.2
             }
            },
            "type": "barpolar"
           }
          ],
          "carpet": [
           {
            "aaxis": {
             "endlinecolor": "#2a3f5f",
             "gridcolor": "white",
             "linecolor": "white",
             "minorgridcolor": "white",
             "startlinecolor": "#2a3f5f"
            },
            "baxis": {
             "endlinecolor": "#2a3f5f",
             "gridcolor": "white",
             "linecolor": "white",
             "minorgridcolor": "white",
             "startlinecolor": "#2a3f5f"
            },
            "type": "carpet"
           }
          ],
          "choropleth": [
           {
            "colorbar": {
             "outlinewidth": 0,
             "ticks": ""
            },
            "type": "choropleth"
           }
          ],
          "contour": [
           {
            "colorbar": {
             "outlinewidth": 0,
             "ticks": ""
            },
            "colorscale": [
             [
              0,
              "#0d0887"
             ],
             [
              0.1111111111111111,
              "#46039f"
             ],
             [
              0.2222222222222222,
              "#7201a8"
             ],
             [
              0.3333333333333333,
              "#9c179e"
             ],
             [
              0.4444444444444444,
              "#bd3786"
             ],
             [
              0.5555555555555556,
              "#d8576b"
             ],
             [
              0.6666666666666666,
              "#ed7953"
             ],
             [
              0.7777777777777778,
              "#fb9f3a"
             ],
             [
              0.8888888888888888,
              "#fdca26"
             ],
             [
              1,
              "#f0f921"
             ]
            ],
            "type": "contour"
           }
          ],
          "contourcarpet": [
           {
            "colorbar": {
             "outlinewidth": 0,
             "ticks": ""
            },
            "type": "contourcarpet"
           }
          ],
          "heatmap": [
           {
            "colorbar": {
             "outlinewidth": 0,
             "ticks": ""
            },
            "colorscale": [
             [
              0,
              "#0d0887"
             ],
             [
              0.1111111111111111,
              "#46039f"
             ],
             [
              0.2222222222222222,
              "#7201a8"
             ],
             [
              0.3333333333333333,
              "#9c179e"
             ],
             [
              0.4444444444444444,
              "#bd3786"
             ],
             [
              0.5555555555555556,
              "#d8576b"
             ],
             [
              0.6666666666666666,
              "#ed7953"
             ],
             [
              0.7777777777777778,
              "#fb9f3a"
             ],
             [
              0.8888888888888888,
              "#fdca26"
             ],
             [
              1,
              "#f0f921"
             ]
            ],
            "type": "heatmap"
           }
          ],
          "heatmapgl": [
           {
            "colorbar": {
             "outlinewidth": 0,
             "ticks": ""
            },
            "colorscale": [
             [
              0,
              "#0d0887"
             ],
             [
              0.1111111111111111,
              "#46039f"
             ],
             [
              0.2222222222222222,
              "#7201a8"
             ],
             [
              0.3333333333333333,
              "#9c179e"
             ],
             [
              0.4444444444444444,
              "#bd3786"
             ],
             [
              0.5555555555555556,
              "#d8576b"
             ],
             [
              0.6666666666666666,
              "#ed7953"
             ],
             [
              0.7777777777777778,
              "#fb9f3a"
             ],
             [
              0.8888888888888888,
              "#fdca26"
             ],
             [
              1,
              "#f0f921"
             ]
            ],
            "type": "heatmapgl"
           }
          ],
          "histogram": [
           {
            "marker": {
             "pattern": {
              "fillmode": "overlay",
              "size": 10,
              "solidity": 0.2
             }
            },
            "type": "histogram"
           }
          ],
          "histogram2d": [
           {
            "colorbar": {
             "outlinewidth": 0,
             "ticks": ""
            },
            "colorscale": [
             [
              0,
              "#0d0887"
             ],
             [
              0.1111111111111111,
              "#46039f"
             ],
             [
              0.2222222222222222,
              "#7201a8"
             ],
             [
              0.3333333333333333,
              "#9c179e"
             ],
             [
              0.4444444444444444,
              "#bd3786"
             ],
             [
              0.5555555555555556,
              "#d8576b"
             ],
             [
              0.6666666666666666,
              "#ed7953"
             ],
             [
              0.7777777777777778,
              "#fb9f3a"
             ],
             [
              0.8888888888888888,
              "#fdca26"
             ],
             [
              1,
              "#f0f921"
             ]
            ],
            "type": "histogram2d"
           }
          ],
          "histogram2dcontour": [
           {
            "colorbar": {
             "outlinewidth": 0,
             "ticks": ""
            },
            "colorscale": [
             [
              0,
              "#0d0887"
             ],
             [
              0.1111111111111111,
              "#46039f"
             ],
             [
              0.2222222222222222,
              "#7201a8"
             ],
             [
              0.3333333333333333,
              "#9c179e"
             ],
             [
              0.4444444444444444,
              "#bd3786"
             ],
             [
              0.5555555555555556,
              "#d8576b"
             ],
             [
              0.6666666666666666,
              "#ed7953"
             ],
             [
              0.7777777777777778,
              "#fb9f3a"
             ],
             [
              0.8888888888888888,
              "#fdca26"
             ],
             [
              1,
              "#f0f921"
             ]
            ],
            "type": "histogram2dcontour"
           }
          ],
          "mesh3d": [
           {
            "colorbar": {
             "outlinewidth": 0,
             "ticks": ""
            },
            "type": "mesh3d"
           }
          ],
          "parcoords": [
           {
            "line": {
             "colorbar": {
              "outlinewidth": 0,
              "ticks": ""
             }
            },
            "type": "parcoords"
           }
          ],
          "pie": [
           {
            "automargin": true,
            "type": "pie"
           }
          ],
          "scatter": [
           {
            "fillpattern": {
             "fillmode": "overlay",
             "size": 10,
             "solidity": 0.2
            },
            "type": "scatter"
           }
          ],
          "scatter3d": [
           {
            "line": {
             "colorbar": {
              "outlinewidth": 0,
              "ticks": ""
             }
            },
            "marker": {
             "colorbar": {
              "outlinewidth": 0,
              "ticks": ""
             }
            },
            "type": "scatter3d"
           }
          ],
          "scattercarpet": [
           {
            "marker": {
             "colorbar": {
              "outlinewidth": 0,
              "ticks": ""
             }
            },
            "type": "scattercarpet"
           }
          ],
          "scattergeo": [
           {
            "marker": {
             "colorbar": {
              "outlinewidth": 0,
              "ticks": ""
             }
            },
            "type": "scattergeo"
           }
          ],
          "scattergl": [
           {
            "marker": {
             "colorbar": {
              "outlinewidth": 0,
              "ticks": ""
             }
            },
            "type": "scattergl"
           }
          ],
          "scattermapbox": [
           {
            "marker": {
             "colorbar": {
              "outlinewidth": 0,
              "ticks": ""
             }
            },
            "type": "scattermapbox"
           }
          ],
          "scatterpolar": [
           {
            "marker": {
             "colorbar": {
              "outlinewidth": 0,
              "ticks": ""
             }
            },
            "type": "scatterpolar"
           }
          ],
          "scatterpolargl": [
           {
            "marker": {
             "colorbar": {
              "outlinewidth": 0,
              "ticks": ""
             }
            },
            "type": "scatterpolargl"
           }
          ],
          "scatterternary": [
           {
            "marker": {
             "colorbar": {
              "outlinewidth": 0,
              "ticks": ""
             }
            },
            "type": "scatterternary"
           }
          ],
          "surface": [
           {
            "colorbar": {
             "outlinewidth": 0,
             "ticks": ""
            },
            "colorscale": [
             [
              0,
              "#0d0887"
             ],
             [
              0.1111111111111111,
              "#46039f"
             ],
             [
              0.2222222222222222,
              "#7201a8"
             ],
             [
              0.3333333333333333,
              "#9c179e"
             ],
             [
              0.4444444444444444,
              "#bd3786"
             ],
             [
              0.5555555555555556,
              "#d8576b"
             ],
             [
              0.6666666666666666,
              "#ed7953"
             ],
             [
              0.7777777777777778,
              "#fb9f3a"
             ],
             [
              0.8888888888888888,
              "#fdca26"
             ],
             [
              1,
              "#f0f921"
             ]
            ],
            "type": "surface"
           }
          ],
          "table": [
           {
            "cells": {
             "fill": {
              "color": "#EBF0F8"
             },
             "line": {
              "color": "white"
             }
            },
            "header": {
             "fill": {
              "color": "#C8D4E3"
             },
             "line": {
              "color": "white"
             }
            },
            "type": "table"
           }
          ]
         },
         "layout": {
          "annotationdefaults": {
           "arrowcolor": "#2a3f5f",
           "arrowhead": 0,
           "arrowwidth": 1
          },
          "autotypenumbers": "strict",
          "coloraxis": {
           "colorbar": {
            "outlinewidth": 0,
            "ticks": ""
           }
          },
          "colorscale": {
           "diverging": [
            [
             0,
             "#8e0152"
            ],
            [
             0.1,
             "#c51b7d"
            ],
            [
             0.2,
             "#de77ae"
            ],
            [
             0.3,
             "#f1b6da"
            ],
            [
             0.4,
             "#fde0ef"
            ],
            [
             0.5,
             "#f7f7f7"
            ],
            [
             0.6,
             "#e6f5d0"
            ],
            [
             0.7,
             "#b8e186"
            ],
            [
             0.8,
             "#7fbc41"
            ],
            [
             0.9,
             "#4d9221"
            ],
            [
             1,
             "#276419"
            ]
           ],
           "sequential": [
            [
             0,
             "#0d0887"
            ],
            [
             0.1111111111111111,
             "#46039f"
            ],
            [
             0.2222222222222222,
             "#7201a8"
            ],
            [
             0.3333333333333333,
             "#9c179e"
            ],
            [
             0.4444444444444444,
             "#bd3786"
            ],
            [
             0.5555555555555556,
             "#d8576b"
            ],
            [
             0.6666666666666666,
             "#ed7953"
            ],
            [
             0.7777777777777778,
             "#fb9f3a"
            ],
            [
             0.8888888888888888,
             "#fdca26"
            ],
            [
             1,
             "#f0f921"
            ]
           ],
           "sequentialminus": [
            [
             0,
             "#0d0887"
            ],
            [
             0.1111111111111111,
             "#46039f"
            ],
            [
             0.2222222222222222,
             "#7201a8"
            ],
            [
             0.3333333333333333,
             "#9c179e"
            ],
            [
             0.4444444444444444,
             "#bd3786"
            ],
            [
             0.5555555555555556,
             "#d8576b"
            ],
            [
             0.6666666666666666,
             "#ed7953"
            ],
            [
             0.7777777777777778,
             "#fb9f3a"
            ],
            [
             0.8888888888888888,
             "#fdca26"
            ],
            [
             1,
             "#f0f921"
            ]
           ]
          },
          "colorway": [
           "#636efa",
           "#EF553B",
           "#00cc96",
           "#ab63fa",
           "#FFA15A",
           "#19d3f3",
           "#FF6692",
           "#B6E880",
           "#FF97FF",
           "#FECB52"
          ],
          "font": {
           "color": "#2a3f5f"
          },
          "geo": {
           "bgcolor": "white",
           "lakecolor": "white",
           "landcolor": "#E5ECF6",
           "showlakes": true,
           "showland": true,
           "subunitcolor": "white"
          },
          "hoverlabel": {
           "align": "left"
          },
          "hovermode": "closest",
          "mapbox": {
           "style": "light"
          },
          "paper_bgcolor": "white",
          "plot_bgcolor": "#E5ECF6",
          "polar": {
           "angularaxis": {
            "gridcolor": "white",
            "linecolor": "white",
            "ticks": ""
           },
           "bgcolor": "#E5ECF6",
           "radialaxis": {
            "gridcolor": "white",
            "linecolor": "white",
            "ticks": ""
           }
          },
          "scene": {
           "xaxis": {
            "backgroundcolor": "#E5ECF6",
            "gridcolor": "white",
            "gridwidth": 2,
            "linecolor": "white",
            "showbackground": true,
            "ticks": "",
            "zerolinecolor": "white"
           },
           "yaxis": {
            "backgroundcolor": "#E5ECF6",
            "gridcolor": "white",
            "gridwidth": 2,
            "linecolor": "white",
            "showbackground": true,
            "ticks": "",
            "zerolinecolor": "white"
           },
           "zaxis": {
            "backgroundcolor": "#E5ECF6",
            "gridcolor": "white",
            "gridwidth": 2,
            "linecolor": "white",
            "showbackground": true,
            "ticks": "",
            "zerolinecolor": "white"
           }
          },
          "shapedefaults": {
           "line": {
            "color": "#2a3f5f"
           }
          },
          "ternary": {
           "aaxis": {
            "gridcolor": "white",
            "linecolor": "white",
            "ticks": ""
           },
           "baxis": {
            "gridcolor": "white",
            "linecolor": "white",
            "ticks": ""
           },
           "bgcolor": "#E5ECF6",
           "caxis": {
            "gridcolor": "white",
            "linecolor": "white",
            "ticks": ""
           }
          },
          "title": {
           "x": 0.05
          },
          "xaxis": {
           "automargin": true,
           "gridcolor": "white",
           "linecolor": "white",
           "ticks": "",
           "title": {
            "standoff": 15
           },
           "zerolinecolor": "white",
           "zerolinewidth": 2
          },
          "yaxis": {
           "automargin": true,
           "gridcolor": "white",
           "linecolor": "white",
           "ticks": "",
           "title": {
            "standoff": 15
           },
           "zerolinecolor": "white",
           "zerolinewidth": 2
          }
         }
        },
        "title": {
         "text": "<span style='font-size:30px; font-family:Times New Roman'>Productionization of ML models by Company's size</span><br><span style='font-size:14px; font-family:Helvetica'></b></span>"
        }
       }
      }
     },
     "metadata": {},
     "output_type": "display_data"
    }
   ],
   "source": [
    "# 머신러닝 채택 수준과 회사 규모별 데이터 집계\n",
    "adoption_per_company_size = scope_df.groupby(\n",
    "    [\"Q25\", \"ML_adoption_class\"]  # 회사 규모(Q25)와 ML 채택 수준(ML_adoption_class) 기준으로 그룹화\n",
    ").agg({\n",
    "    \"Q2\": \"count\"  # 응답자 수 집계\n",
    "}).reset_index().rename(columns={\n",
    "    \"Q2\": \"counts\"  # 집계된 값의 열 이름을 \"counts\"로 변경\n",
    "})\n",
    "adoption_per_company_size\n",
    "\n",
    "fig = go.Figure()\n",
    "\n",
    "# \"Models in Production\" 수준의 데이터를 Polar 차트에 추가\n",
    "fig.add_trace(go.Scatterpolar(\n",
    "      r=adoption_per_company_size[adoption_per_company_size[\"ML_adoption_class\"] == \"Models in Production\"].sort_values(by=[\"Q25\"])[\"counts\"].to_list(),  # 반경(r): 각 회사 규모별 응답자 수\n",
    "      theta=adoption_per_company_size[adoption_per_company_size[\"ML_adoption_class\"] == \"Models in Production\"].sort_values(by=[\"Q25\"])[\"Q25\"].to_list(),  # 각도(theta): 회사 규모\n",
    "      fill='toself',  # 영역 채우기\n",
    "      name='Models in Production'  # 범례 이름\n",
    "))\n",
    "\n",
    "# \"Exploration Stage\" 수준의 데이터를 Polar 차트에 추가\n",
    "fig.add_trace(go.Scatterpolar(\n",
    "      r=adoption_per_company_size[adoption_per_company_size[\"ML_adoption_class\"] == \"Exploration Stage\"].sort_values(by=[\"Q25\"])[\"counts\"].to_list(),\n",
    "      theta=adoption_per_company_size[adoption_per_company_size[\"ML_adoption_class\"] == \"Exploration Stage\"].sort_values(by=[\"Q25\"])[\"Q25\"].to_list(),\n",
    "      fill='toself',\n",
    "      name='Exploration Stage'\n",
    "))\n",
    "\n",
    "# \"Generating Insights\" 수준의 데이터를 Polar 차트에 추가\n",
    "fig.add_trace(go.Scatterpolar(\n",
    "      r=adoption_per_company_size[adoption_per_company_size[\"ML_adoption_class\"] == \"Generating Insights\"].sort_values(by=[\"Q25\"])[\"counts\"].to_list(),\n",
    "      theta=adoption_per_company_size[adoption_per_company_size[\"ML_adoption_class\"] == \"Generating Insights\"].sort_values(by=[\"Q25\"])[\"Q25\"].to_list(),\n",
    "      fill='toself',\n",
    "      name='Generating Insights'\n",
    "))\n",
    "\n",
    "# \"Not Started\" 수준의 데이터를 Polar 차트에 추가\n",
    "fig.add_trace(go.Scatterpolar(\n",
    "      r=adoption_per_company_size[adoption_per_company_size[\"ML_adoption_class\"] == \"Not Started\"].sort_values(by=[\"Q25\"])[\"counts\"].to_list(),\n",
    "      theta=adoption_per_company_size[adoption_per_company_size[\"ML_adoption_class\"] == \"Not Started\"].sort_values(by=[\"Q25\"])[\"Q25\"].to_list(),\n",
    "      fill='toself',\n",
    "      name='Not Started'\n",
    "))\n",
    "\n",
    "# 차트 제목 및 스타일 설정\n",
    "large_title_format = \"<span style='font-size:30px; font-family:Times New Roman'>Productionization of ML models by Company's size</span>\"\n",
    "small_title_format = \"<span style='font-size:14px; font-family:Helvetica'></b></span>\"\n",
    "\n",
    "# 레이아웃 설정\n",
    "layout = dict(\n",
    "    title=large_title_format + \"<br>\" + small_title_format,  # 제목 설정\n",
    "    font=dict(color='#7b6b59'),  # 제목 및 텍스트 색상 설정\n",
    "    showlegend=True,  # 범례 표시\n",
    "    margin=dict(t=80, pad=6),  # 상단 여백 및 패딩 설정\n",
    ")\n",
    "\n",
    "# 설정된 레이아웃을 차트에 반영\n",
    "fig[\"layout\"].update(layout)\n",
    "fig.show()\n"
   ]
  },
  {
   "cell_type": "code",
   "execution_count": null,
   "metadata": {},
   "outputs": [],
   "source": [
    "\"\"\"\n",
    "대기업이 AI도입을 주도하고 있다.\n",
    "결과에 따르면 직원 수가 1,000~9,999명 또는 10,000명 이상인 대기업이 AI 도입을 주도하고 있는 것으로 나타남.\n",
    "- 대기업은 대형 시장에 서비스를 제공하는 경향이 있기 때문에 더 많은 매출보다 AI 생산 기술을 사용할 때 발생하는 높은 고정 비용을 더 잘 점차적으로 감소시킬 수 있다.\n",
    "- 대기업은 더 높은 임금과 더 많은 혜택을 제공, AI 인재 풀을 확장함.\n",
    "- AI 시스템 공급업체는 가장 큰 소비자 기반을 갖춘 기업에 공급함으로써 혜택을 받기 때문에 공급업체는 대기업과의 관계 및 계약을 체결, 이러한 기업이 비즈니스에 가져올 수 있는 가치에 더 많이 노출될 수 있도록 하는 데 집중할 수 있다.\n",
    "\n",
    "<다음 섹션에서는 설문조사 응답에 따라 머신러닝 및 데이터 과학 프로젝트를 위한 적응 가능한 인프라를 구축하기 위해 \n",
    "시장에서 사용되는 도구와 관행을 살펴볼 것.>\n",
    "\n",
    "\"\"\""
   ]
  },
  {
   "cell_type": "markdown",
   "metadata": {},
   "source": [
    "## -- Overview of the enterprise AI technology stack --"
   ]
  },
  {
   "cell_type": "code",
   "execution_count": null,
   "metadata": {},
   "outputs": [],
   "source": [
    "\"\"\"\n",
    "머신 러닝은 얼마 전까지만 해도 엔터프라이즈 시장에서 주로 실험 단계에 있었습니다. \n",
    "데이터 사이언스 팀은 항상 개념 증명(POC) 접근 방식으로 시작하여 모델이 달성한 비즈니스 결과로 인해 표준화되지 않은 프로덕션 배포 프로세스에서도 결국 주목을 받습니다. \n",
    "재사용 가능성과 안정성으로 이 솔루션을 성공적으로 확장하려면 컴퓨팅, 메모리, 네트워킹의 아키텍처 영역에서 하드웨어와 소프트웨어를 최적화해야 합니다.\n",
    "\n",
    "\n",
    "<클라우드 컴퓨팅 플랫폼 사용>\n",
    "2022년 클라우드 컴퓨팅 시장에 대한 여러 보고서에 따르면 클라우드 기술의 채택은 계속 가속화되고 있습니다. \n",
    "클라우드 컴퓨팅은 머신 러닝과 인공 지능의 부상에 영향을 미쳤습니다. \n",
    "저렴한 스토리지, GPU의 가용성, 빠른 AI 교육 및 추론 성능, 낮은 비용, 공격에 대한 보호와 같은 요인으로 인해 머신 러닝에 접근할 수 있고 기업이 저렴하게 이용할 수 있게 되었습니다. \n",
    "대부분의 기업은 AI 애플리케이션을 직접 구현할 수 있는 인프라와 전문 지식이 부족합니다.\n",
    "\n",
    "다음 레이더 차트에서 볼 수 있듯이, 생산 모델을 보유한 기업도 클라우드 컴퓨팅 플랫폼을 사용하는데, \n",
    "클라우드를 사용하면 기업이 머신 러닝 기능을 실험하고 프로젝트가 생산되고 수요가 증가함에 따라 확장하기 쉽기 때문에 합리적입니다.\n",
    "\n",
    "\"\"\""
   ]
  },
  {
   "cell_type": "code",
   "execution_count": 41,
   "metadata": {},
   "outputs": [
    {
     "data": {
      "text/html": [
       "<style type=\"text/css\">\n",
       "#T_87123_row0_col1, #T_87123_row0_col2 {\n",
       "  background-color: #08306b;\n",
       "  color: #f1f1f1;\n",
       "}\n",
       "#T_87123_row1_col1, #T_87123_row1_col2 {\n",
       "  background-color: #f7fbff;\n",
       "  color: #000000;\n",
       "}\n",
       "</style>\n",
       "<table id=\"T_87123\">\n",
       "  <thead>\n",
       "    <tr>\n",
       "      <th class=\"blank level0\" >&nbsp;</th>\n",
       "      <th id=\"T_87123_level0_col0\" class=\"col_heading level0 col0\" >Usage of Cloud Computing Platforms</th>\n",
       "      <th id=\"T_87123_level0_col1\" class=\"col_heading level0 col1\" >Nbr of respondents</th>\n",
       "      <th id=\"T_87123_level0_col2\" class=\"col_heading level0 col2\" >%</th>\n",
       "    </tr>\n",
       "  </thead>\n",
       "  <tbody>\n",
       "    <tr>\n",
       "      <th id=\"T_87123_level0_row0\" class=\"row_heading level0 row0\" >0</th>\n",
       "      <td id=\"T_87123_row0_col0\" class=\"data row0 col0\" >No</td>\n",
       "      <td id=\"T_87123_row0_col1\" class=\"data row0 col1\" >4994</td>\n",
       "      <td id=\"T_87123_row0_col2\" class=\"data row0 col2\" >54.920000</td>\n",
       "    </tr>\n",
       "    <tr>\n",
       "      <th id=\"T_87123_level0_row1\" class=\"row_heading level0 row1\" >1</th>\n",
       "      <td id=\"T_87123_row1_col0\" class=\"data row1 col0\" >Yes</td>\n",
       "      <td id=\"T_87123_row1_col1\" class=\"data row1 col1\" >4100</td>\n",
       "      <td id=\"T_87123_row1_col2\" class=\"data row1 col2\" >45.080000</td>\n",
       "    </tr>\n",
       "  </tbody>\n",
       "</table>\n"
      ],
      "text/plain": [
       "<pandas.io.formats.style.Styler at 0x2448f2ce170>"
      ]
     },
     "execution_count": 41,
     "metadata": {},
     "output_type": "execute_result"
    }
   ],
   "source": [
    "# 클라우드 컴퓨팅 플랫폼 사용 데이터 집계\n",
    "cloud_usage = scope_df.groupby(\n",
    "    [\"Cloud_usage\"]  # 클라우드 컴퓨팅 플랫폼 사용 여부(Cloud_usage) 기준으로 그룹화\n",
    ").agg({\n",
    "    \"Q2\": \"count\"  # 각 그룹별 응답자 수 집계\n",
    "}).reset_index().rename(columns={\n",
    "    \"Q2\": \"Nbr of respondents\",  # 열 이름을 \"Nbr of respondents\"로 변경\n",
    "    \"Cloud_usage\": \"Usage of Cloud Computing Platforms\"  # 열 이름을 \"Usage of Cloud Computing Platforms\"로 변경\n",
    "})\n",
    "\n",
    "# 각 그룹의 응답자 비율 계산 (퍼센트)\n",
    "cloud_usage[\"%\"] = np.round((cloud_usage[\"Nbr of respondents\"] / scope_df.shape[0]) * 100, 2)\n",
    "\n",
    "# 테이블 스타일 설정: 퍼센트 값에 따라 파란색 그라데이션 배경 추가\n",
    "cloud_usage.style.background_gradient(axis=0, cmap='Blues')\n"
   ]
  },
  {
   "cell_type": "code",
   "execution_count": null,
   "metadata": {},
   "outputs": [
    {
     "data": {
      "application/vnd.plotly.v1+json": {
       "config": {
        "plotlyServerURL": "https://plot.ly"
       },
       "data": [
        {
         "fill": "toself",
         "name": "Cloud Usage: Yes",
         "r": [
          555,
          812,
          543,
          741,
          1110,
          339
         ],
         "theta": [
          "0. Not Started<br><sup>(No ML)</sup>",
          "1. Exploration<br><sup>Only Exploring ML</sup>",
          "2. Beginner Stage<br><sup>Use ML only for Insights</sup>",
          "3. Intermediate Stage<br><sup>Recently Started Using ML</sup>",
          "4. Advance Stage<br><sup>Well Established ML</sup>",
          "Not Known"
         ],
         "type": "scatterpolar"
        },
        {
         "fill": "toself",
         "name": "Cloud Usage: No",
         "r": [
          1415,
          740,
          382,
          468,
          668,
          1321
         ],
         "theta": [
          "0. Not Started<br><sup>(No ML)</sup>",
          "1. Exploration<br><sup>Only Exploring ML</sup>",
          "2. Beginner Stage<br><sup>Use ML only for Insights</sup>",
          "3. Intermediate Stage<br><sup>Recently Started Using ML</sup>",
          "4. Advance Stage<br><sup>Well Established ML</sup>",
          "Not Known"
         ],
         "type": "scatterpolar"
        }
       ],
       "layout": {
        "font": {
         "color": "#7b6b59"
        },
        "margin": {
         "pad": 6,
         "t": 80
        },
        "showlegend": true,
        "template": {
         "data": {
          "bar": [
           {
            "error_x": {
             "color": "#2a3f5f"
            },
            "error_y": {
             "color": "#2a3f5f"
            },
            "marker": {
             "line": {
              "color": "#E5ECF6",
              "width": 0.5
             },
             "pattern": {
              "fillmode": "overlay",
              "size": 10,
              "solidity": 0.2
             }
            },
            "type": "bar"
           }
          ],
          "barpolar": [
           {
            "marker": {
             "line": {
              "color": "#E5ECF6",
              "width": 0.5
             },
             "pattern": {
              "fillmode": "overlay",
              "size": 10,
              "solidity": 0.2
             }
            },
            "type": "barpolar"
           }
          ],
          "carpet": [
           {
            "aaxis": {
             "endlinecolor": "#2a3f5f",
             "gridcolor": "white",
             "linecolor": "white",
             "minorgridcolor": "white",
             "startlinecolor": "#2a3f5f"
            },
            "baxis": {
             "endlinecolor": "#2a3f5f",
             "gridcolor": "white",
             "linecolor": "white",
             "minorgridcolor": "white",
             "startlinecolor": "#2a3f5f"
            },
            "type": "carpet"
           }
          ],
          "choropleth": [
           {
            "colorbar": {
             "outlinewidth": 0,
             "ticks": ""
            },
            "type": "choropleth"
           }
          ],
          "contour": [
           {
            "colorbar": {
             "outlinewidth": 0,
             "ticks": ""
            },
            "colorscale": [
             [
              0,
              "#0d0887"
             ],
             [
              0.1111111111111111,
              "#46039f"
             ],
             [
              0.2222222222222222,
              "#7201a8"
             ],
             [
              0.3333333333333333,
              "#9c179e"
             ],
             [
              0.4444444444444444,
              "#bd3786"
             ],
             [
              0.5555555555555556,
              "#d8576b"
             ],
             [
              0.6666666666666666,
              "#ed7953"
             ],
             [
              0.7777777777777778,
              "#fb9f3a"
             ],
             [
              0.8888888888888888,
              "#fdca26"
             ],
             [
              1,
              "#f0f921"
             ]
            ],
            "type": "contour"
           }
          ],
          "contourcarpet": [
           {
            "colorbar": {
             "outlinewidth": 0,
             "ticks": ""
            },
            "type": "contourcarpet"
           }
          ],
          "heatmap": [
           {
            "colorbar": {
             "outlinewidth": 0,
             "ticks": ""
            },
            "colorscale": [
             [
              0,
              "#0d0887"
             ],
             [
              0.1111111111111111,
              "#46039f"
             ],
             [
              0.2222222222222222,
              "#7201a8"
             ],
             [
              0.3333333333333333,
              "#9c179e"
             ],
             [
              0.4444444444444444,
              "#bd3786"
             ],
             [
              0.5555555555555556,
              "#d8576b"
             ],
             [
              0.6666666666666666,
              "#ed7953"
             ],
             [
              0.7777777777777778,
              "#fb9f3a"
             ],
             [
              0.8888888888888888,
              "#fdca26"
             ],
             [
              1,
              "#f0f921"
             ]
            ],
            "type": "heatmap"
           }
          ],
          "heatmapgl": [
           {
            "colorbar": {
             "outlinewidth": 0,
             "ticks": ""
            },
            "colorscale": [
             [
              0,
              "#0d0887"
             ],
             [
              0.1111111111111111,
              "#46039f"
             ],
             [
              0.2222222222222222,
              "#7201a8"
             ],
             [
              0.3333333333333333,
              "#9c179e"
             ],
             [
              0.4444444444444444,
              "#bd3786"
             ],
             [
              0.5555555555555556,
              "#d8576b"
             ],
             [
              0.6666666666666666,
              "#ed7953"
             ],
             [
              0.7777777777777778,
              "#fb9f3a"
             ],
             [
              0.8888888888888888,
              "#fdca26"
             ],
             [
              1,
              "#f0f921"
             ]
            ],
            "type": "heatmapgl"
           }
          ],
          "histogram": [
           {
            "marker": {
             "pattern": {
              "fillmode": "overlay",
              "size": 10,
              "solidity": 0.2
             }
            },
            "type": "histogram"
           }
          ],
          "histogram2d": [
           {
            "colorbar": {
             "outlinewidth": 0,
             "ticks": ""
            },
            "colorscale": [
             [
              0,
              "#0d0887"
             ],
             [
              0.1111111111111111,
              "#46039f"
             ],
             [
              0.2222222222222222,
              "#7201a8"
             ],
             [
              0.3333333333333333,
              "#9c179e"
             ],
             [
              0.4444444444444444,
              "#bd3786"
             ],
             [
              0.5555555555555556,
              "#d8576b"
             ],
             [
              0.6666666666666666,
              "#ed7953"
             ],
             [
              0.7777777777777778,
              "#fb9f3a"
             ],
             [
              0.8888888888888888,
              "#fdca26"
             ],
             [
              1,
              "#f0f921"
             ]
            ],
            "type": "histogram2d"
           }
          ],
          "histogram2dcontour": [
           {
            "colorbar": {
             "outlinewidth": 0,
             "ticks": ""
            },
            "colorscale": [
             [
              0,
              "#0d0887"
             ],
             [
              0.1111111111111111,
              "#46039f"
             ],
             [
              0.2222222222222222,
              "#7201a8"
             ],
             [
              0.3333333333333333,
              "#9c179e"
             ],
             [
              0.4444444444444444,
              "#bd3786"
             ],
             [
              0.5555555555555556,
              "#d8576b"
             ],
             [
              0.6666666666666666,
              "#ed7953"
             ],
             [
              0.7777777777777778,
              "#fb9f3a"
             ],
             [
              0.8888888888888888,
              "#fdca26"
             ],
             [
              1,
              "#f0f921"
             ]
            ],
            "type": "histogram2dcontour"
           }
          ],
          "mesh3d": [
           {
            "colorbar": {
             "outlinewidth": 0,
             "ticks": ""
            },
            "type": "mesh3d"
           }
          ],
          "parcoords": [
           {
            "line": {
             "colorbar": {
              "outlinewidth": 0,
              "ticks": ""
             }
            },
            "type": "parcoords"
           }
          ],
          "pie": [
           {
            "automargin": true,
            "type": "pie"
           }
          ],
          "scatter": [
           {
            "fillpattern": {
             "fillmode": "overlay",
             "size": 10,
             "solidity": 0.2
            },
            "type": "scatter"
           }
          ],
          "scatter3d": [
           {
            "line": {
             "colorbar": {
              "outlinewidth": 0,
              "ticks": ""
             }
            },
            "marker": {
             "colorbar": {
              "outlinewidth": 0,
              "ticks": ""
             }
            },
            "type": "scatter3d"
           }
          ],
          "scattercarpet": [
           {
            "marker": {
             "colorbar": {
              "outlinewidth": 0,
              "ticks": ""
             }
            },
            "type": "scattercarpet"
           }
          ],
          "scattergeo": [
           {
            "marker": {
             "colorbar": {
              "outlinewidth": 0,
              "ticks": ""
             }
            },
            "type": "scattergeo"
           }
          ],
          "scattergl": [
           {
            "marker": {
             "colorbar": {
              "outlinewidth": 0,
              "ticks": ""
             }
            },
            "type": "scattergl"
           }
          ],
          "scattermapbox": [
           {
            "marker": {
             "colorbar": {
              "outlinewidth": 0,
              "ticks": ""
             }
            },
            "type": "scattermapbox"
           }
          ],
          "scatterpolar": [
           {
            "marker": {
             "colorbar": {
              "outlinewidth": 0,
              "ticks": ""
             }
            },
            "type": "scatterpolar"
           }
          ],
          "scatterpolargl": [
           {
            "marker": {
             "colorbar": {
              "outlinewidth": 0,
              "ticks": ""
             }
            },
            "type": "scatterpolargl"
           }
          ],
          "scatterternary": [
           {
            "marker": {
             "colorbar": {
              "outlinewidth": 0,
              "ticks": ""
             }
            },
            "type": "scatterternary"
           }
          ],
          "surface": [
           {
            "colorbar": {
             "outlinewidth": 0,
             "ticks": ""
            },
            "colorscale": [
             [
              0,
              "#0d0887"
             ],
             [
              0.1111111111111111,
              "#46039f"
             ],
             [
              0.2222222222222222,
              "#7201a8"
             ],
             [
              0.3333333333333333,
              "#9c179e"
             ],
             [
              0.4444444444444444,
              "#bd3786"
             ],
             [
              0.5555555555555556,
              "#d8576b"
             ],
             [
              0.6666666666666666,
              "#ed7953"
             ],
             [
              0.7777777777777778,
              "#fb9f3a"
             ],
             [
              0.8888888888888888,
              "#fdca26"
             ],
             [
              1,
              "#f0f921"
             ]
            ],
            "type": "surface"
           }
          ],
          "table": [
           {
            "cells": {
             "fill": {
              "color": "#EBF0F8"
             },
             "line": {
              "color": "white"
             }
            },
            "header": {
             "fill": {
              "color": "#C8D4E3"
             },
             "line": {
              "color": "white"
             }
            },
            "type": "table"
           }
          ]
         },
         "layout": {
          "annotationdefaults": {
           "arrowcolor": "#2a3f5f",
           "arrowhead": 0,
           "arrowwidth": 1
          },
          "autotypenumbers": "strict",
          "coloraxis": {
           "colorbar": {
            "outlinewidth": 0,
            "ticks": ""
           }
          },
          "colorscale": {
           "diverging": [
            [
             0,
             "#8e0152"
            ],
            [
             0.1,
             "#c51b7d"
            ],
            [
             0.2,
             "#de77ae"
            ],
            [
             0.3,
             "#f1b6da"
            ],
            [
             0.4,
             "#fde0ef"
            ],
            [
             0.5,
             "#f7f7f7"
            ],
            [
             0.6,
             "#e6f5d0"
            ],
            [
             0.7,
             "#b8e186"
            ],
            [
             0.8,
             "#7fbc41"
            ],
            [
             0.9,
             "#4d9221"
            ],
            [
             1,
             "#276419"
            ]
           ],
           "sequential": [
            [
             0,
             "#0d0887"
            ],
            [
             0.1111111111111111,
             "#46039f"
            ],
            [
             0.2222222222222222,
             "#7201a8"
            ],
            [
             0.3333333333333333,
             "#9c179e"
            ],
            [
             0.4444444444444444,
             "#bd3786"
            ],
            [
             0.5555555555555556,
             "#d8576b"
            ],
            [
             0.6666666666666666,
             "#ed7953"
            ],
            [
             0.7777777777777778,
             "#fb9f3a"
            ],
            [
             0.8888888888888888,
             "#fdca26"
            ],
            [
             1,
             "#f0f921"
            ]
           ],
           "sequentialminus": [
            [
             0,
             "#0d0887"
            ],
            [
             0.1111111111111111,
             "#46039f"
            ],
            [
             0.2222222222222222,
             "#7201a8"
            ],
            [
             0.3333333333333333,
             "#9c179e"
            ],
            [
             0.4444444444444444,
             "#bd3786"
            ],
            [
             0.5555555555555556,
             "#d8576b"
            ],
            [
             0.6666666666666666,
             "#ed7953"
            ],
            [
             0.7777777777777778,
             "#fb9f3a"
            ],
            [
             0.8888888888888888,
             "#fdca26"
            ],
            [
             1,
             "#f0f921"
            ]
           ]
          },
          "colorway": [
           "#636efa",
           "#EF553B",
           "#00cc96",
           "#ab63fa",
           "#FFA15A",
           "#19d3f3",
           "#FF6692",
           "#B6E880",
           "#FF97FF",
           "#FECB52"
          ],
          "font": {
           "color": "#2a3f5f"
          },
          "geo": {
           "bgcolor": "white",
           "lakecolor": "white",
           "landcolor": "#E5ECF6",
           "showlakes": true,
           "showland": true,
           "subunitcolor": "white"
          },
          "hoverlabel": {
           "align": "left"
          },
          "hovermode": "closest",
          "mapbox": {
           "style": "light"
          },
          "paper_bgcolor": "white",
          "plot_bgcolor": "#E5ECF6",
          "polar": {
           "angularaxis": {
            "gridcolor": "white",
            "linecolor": "white",
            "ticks": ""
           },
           "bgcolor": "#E5ECF6",
           "radialaxis": {
            "gridcolor": "white",
            "linecolor": "white",
            "ticks": ""
           }
          },
          "scene": {
           "xaxis": {
            "backgroundcolor": "#E5ECF6",
            "gridcolor": "white",
            "gridwidth": 2,
            "linecolor": "white",
            "showbackground": true,
            "ticks": "",
            "zerolinecolor": "white"
           },
           "yaxis": {
            "backgroundcolor": "#E5ECF6",
            "gridcolor": "white",
            "gridwidth": 2,
            "linecolor": "white",
            "showbackground": true,
            "ticks": "",
            "zerolinecolor": "white"
           },
           "zaxis": {
            "backgroundcolor": "#E5ECF6",
            "gridcolor": "white",
            "gridwidth": 2,
            "linecolor": "white",
            "showbackground": true,
            "ticks": "",
            "zerolinecolor": "white"
           }
          },
          "shapedefaults": {
           "line": {
            "color": "#2a3f5f"
           }
          },
          "ternary": {
           "aaxis": {
            "gridcolor": "white",
            "linecolor": "white",
            "ticks": ""
           },
           "baxis": {
            "gridcolor": "white",
            "linecolor": "white",
            "ticks": ""
           },
           "bgcolor": "#E5ECF6",
           "caxis": {
            "gridcolor": "white",
            "linecolor": "white",
            "ticks": ""
           }
          },
          "title": {
           "x": 0.05
          },
          "xaxis": {
           "automargin": true,
           "gridcolor": "white",
           "linecolor": "white",
           "ticks": "",
           "title": {
            "standoff": 15
           },
           "zerolinecolor": "white",
           "zerolinewidth": 2
          },
          "yaxis": {
           "automargin": true,
           "gridcolor": "white",
           "linecolor": "white",
           "ticks": "",
           "title": {
            "standoff": 15
           },
           "zerolinecolor": "white",
           "zerolinewidth": 2
          }
         }
        },
        "title": {
         "text": "<span style='font-size:30px; font-family:Times New Roman'>Cloud Usage by ML Adoption</span><br><span style='font-size:14px; font-family:Helvetica'></b></span>"
        }
       }
      }
     },
     "metadata": {},
     "output_type": "display_data"
    }
   ],
   "source": [
    "# 머신러닝 도입 상태와 클라우드 컴퓨팅 플랫폼 사용 여부 간 관계를 분석하기 위한 데이터 생성\n",
    "usage_per_adoption = scope_df.groupby(\n",
    "    [\"ML_adoption\", \"Cloud_usage\"]  # 머신러닝 도입 상태(ML_adoption)와 클라우드 사용 여부(Cloud_usage) 기준으로 그룹화\n",
    ").agg({\n",
    "    \"Q2\": \"count\"  # 각 조합별 응답자 수 집계\n",
    "}).reset_index().rename(columns={\n",
    "    \"Q2\": \"counts\"  # 응답자 수 열 이름을 \"counts\"로 변경\n",
    "})\n",
    "usage_per_adoption\n",
    "\n",
    "fig = go.Figure()\n",
    "\n",
    "# 첫 번째 궤적: 클라우드 컴퓨팅 플랫폼을 사용하는 응답자\n",
    "fig.add_trace(go.Scatterpolar(\n",
    "      r=usage_per_adoption[usage_per_adoption[\"Cloud_usage\"] == \"Yes\"].sort_values(by=[\"ML_adoption\"])[\"counts\"].to_list(),  # 클라우드 사용 그룹의 응답자 수\n",
    "      theta=usage_per_adoption[usage_per_adoption[\"Cloud_usage\"] == \"Yes\"].sort_values(by=[\"ML_adoption\"])[\"ML_adoption\"].to_list(),  # 머신러닝 도입 상태\n",
    "      fill='toself',  # 궤적을 \n",
    "      name='Cloud Usage: Yes'  # 범례\n",
    "))\n",
    "\n",
    "# 두 번째 궤적: 클라우드 컴퓨팅 플랫폼을 사용하지 않는 응답자\n",
    "fig.add_trace(go.Scatterpolar(\n",
    "      r=usage_per_adoption[usage_per_adoption[\"Cloud_usage\"] == \"No\"].sort_values(by=[\"ML_adoption\"])[\"counts\"].to_list(),  # 클라우드 미사용 그룹의 응답자 수\n",
    "      theta=usage_per_adoption[usage_per_adoption[\"Cloud_usage\"] == \"No\"].sort_values(by=[\"ML_adoption\"])[\"ML_adoption\"].to_list(),  # 머신러닝 도입 상태\n",
    "      fill='toself',  # 궤적을 채우기\n",
    "      name=\"Cloud Usage: No\"  # 범례 \n",
    "))\n",
    "\n",
    "# 제목과 스타일 \n",
    "large_title_format = \"<span style='font-size:30px; font-family:Times New Roman'>Cloud Usage by ML Adoption</span>\"  # 큰 제목 \n",
    "small_title_format = \"<span style='font-size:14px; font-family:Helvetica'></b></span>\"  # 작은 제목 \n",
    "\n",
    "layout = dict(\n",
    "    title=large_title_format + \"<br>\" + small_title_format,  # 제목\n",
    "    font=dict(color='#7b6b59'),  # 폰트 색상\n",
    "    showlegend=True,  # 범례\n",
    "    margin=dict(t=80, pad=6),  # 여백\n",
    ")\n",
    "\n",
    "fig[\"layout\"].update(layout)\n",
    "\n",
    "fig.show()\n"
   ]
  },
  {
   "cell_type": "markdown",
   "metadata": {},
   "source": [
    "### -- 머신 러닝 운영에 사용되는 클라우드 컴퓨팅 플랫폼은 무엇인가? --"
   ]
  },
  {
   "cell_type": "code",
   "execution_count": null,
   "metadata": {},
   "outputs": [],
   "source": [
    "\"\"\"\n",
    "다음 시각화에서는 국가별뿐만 아니라 부문별로 가장 인기 있는 클라우드 컴퓨팅 플랫폼을 확인할 수 있다.\n",
    "아마존 웹 서비스(AWS)와 구글 클라우드 플랫폼(GCP)이 지배적일 뿐만 아니라 알리바바 클라우드가 아시아에서 꽤 유명하다.\n",
    "\"\"\""
   ]
  },
  {
   "cell_type": "code",
   "execution_count": null,
   "metadata": {},
   "outputs": [
    {
     "data": {
      "application/vnd.plotly.v1+json": {
       "config": {
        "plotlyServerURL": "https://plot.ly"
       },
       "data": [
        {
         "hovertemplate": "Cloud Computing Platform: %{x}<br>Industry: %{y}<br>Percentage: %{marker.size:,}<extra></extra>",
         "marker": {
          "color": [
           16.655148583275743,
           26.55860349127182,
           25.69832402234637,
           32.95993106419647,
           24.375,
           19.400000000000002,
           30.46875,
           18.181818181818183,
           30.48780487804878,
           31.041257367387033,
           18.556701030927837,
           37.310195227765725,
           20.666666666666668,
           23.618090452261306,
           24,
           10.297166551485832,
           15.586034912718205,
           12.849162011173185,
           19.38819474364498,
           20,
           12.8,
           17.96875,
           16.577540106951872,
           16.666666666666664,
           15.520628683693516,
           12.371134020618557,
           13.232104121475055,
           14.133333333333335,
           16.08040201005025,
           18,
           21.976503109882515,
           18.952618453865338,
           26.256983240223462,
           27.789745799224473,
           21.875,
           18.2,
           19.53125,
           17.647058823529413,
           32.52032520325203,
           19.25343811394892,
           16.49484536082474,
           28.850325379609544,
           15.733333333333333,
           22.8643216080402,
           21.333333333333336,
           3.1789910158949555,
           3.366583541147132,
           4.4692737430167595,
           3.188280913399397,
           5.9375,
           3.2,
           3.515625,
           3.3868092691622103,
           2.0325203252032518,
           2.9469548133595285,
           3.608247422680412,
           1.735357917570499,
           2.666666666666667,
           3.2663316582914574,
           0.6666666666666667,
           2.5570145127850727,
           2.8678304239401498,
           2.2346368715083798,
           3.2313657906074966,
           2.5,
           3.4000000000000004,
           1.171875,
           1.6042780748663104,
           2.8455284552845526,
           2.357563850687623,
           1.0309278350515463,
           1.9522776572668112,
           2,
           1.7587939698492463,
           1.3333333333333335,
           0.6219765031098825,
           1.1221945137157108,
           0.5586592178770949,
           1.4218009478672986,
           3.4375000000000004,
           0.8,
           0.390625,
           2.6737967914438503,
           1.6260162601626018,
           0.7858546168958742,
           1.0309278350515463,
           0.6507592190889371,
           0.9333333333333335,
           1.0050251256281406,
           2.4187975120939877,
           1.6209476309226933,
           1.675977653631285,
           1.981904351572598,
           1.5625,
           2.4,
           1.5625,
           0.8912655971479502,
           1.6260162601626018,
           1.9646365422396856,
           1.5463917525773196,
           1.5184381778741864,
           0.13333333333333333,
           1.507537688442211,
           0.6666666666666667,
           1.1748445058742225,
           0.6234413965087282,
           0.5586592178770949,
           1.0771219302024988,
           0.9375,
           0.8,
           0.390625,
           0.17825311942959002,
           1.6260162601626018,
           0.9823182711198428,
           1.0845986984815619,
           0.26666666666666666,
           0.25125628140703515,
           1.3333333333333335,
           1.1748445058742225,
           0.6234413965087282,
           0.5586592178770949,
           0.6031882809133994,
           1.25,
           0.6,
           1.171875,
           1.2195121951219512,
           0.5893909626719057,
           0.43383947939262474,
           0.6666666666666667,
           0.414651002073255,
           0.12468827930174563,
           1.675977653631285,
           0.6462731581214994,
           0.9375,
           1,
           0.78125,
           0.17825311942959002,
           0.40650406504065045,
           0.7858546168958742,
           1.0845986984815619,
           0.6666666666666667
          ],
          "colorbar": {
           "title": {
            "text": "Percent"
           }
          },
          "colorscale": [
           [
            0,
            "rgb(5,48,97)"
           ],
           [
            0.1,
            "rgb(33,102,172)"
           ],
           [
            0.2,
            "rgb(67,147,195)"
           ],
           [
            0.3,
            "rgb(146,197,222)"
           ],
           [
            0.4,
            "rgb(209,229,240)"
           ],
           [
            0.5,
            "rgb(247,247,247)"
           ],
           [
            0.6,
            "rgb(253,219,199)"
           ],
           [
            0.7,
            "rgb(244,165,130)"
           ],
           [
            0.8,
            "rgb(214,96,77)"
           ],
           [
            0.9,
            "rgb(178,24,43)"
           ],
           [
            1,
            "rgb(103,0,31)"
           ]
          ],
          "opacity": 0.7,
          "showscale": true,
          "size": [
           16.655148583275743,
           26.55860349127182,
           25.69832402234637,
           32.95993106419647,
           24.375,
           19.400000000000002,
           30.46875,
           18.181818181818183,
           30.48780487804878,
           31.041257367387033,
           18.556701030927837,
           37.310195227765725,
           20.666666666666668,
           23.618090452261306,
           24,
           10.297166551485832,
           15.586034912718205,
           12.849162011173185,
           19.38819474364498,
           20,
           12.8,
           17.96875,
           16.577540106951872,
           16.666666666666664,
           15.520628683693516,
           12.371134020618557,
           13.232104121475055,
           14.133333333333335,
           16.08040201005025,
           18,
           21.976503109882515,
           18.952618453865338,
           26.256983240223462,
           27.789745799224473,
           21.875,
           18.2,
           19.53125,
           17.647058823529413,
           32.52032520325203,
           19.25343811394892,
           16.49484536082474,
           28.850325379609544,
           15.733333333333333,
           22.8643216080402,
           21.333333333333336,
           3.1789910158949555,
           3.366583541147132,
           4.4692737430167595,
           3.188280913399397,
           5.9375,
           3.2,
           3.515625,
           3.3868092691622103,
           2.0325203252032518,
           2.9469548133595285,
           3.608247422680412,
           1.735357917570499,
           2.666666666666667,
           3.2663316582914574,
           0.6666666666666667,
           2.5570145127850727,
           2.8678304239401498,
           2.2346368715083798,
           3.2313657906074966,
           2.5,
           3.4000000000000004,
           1.171875,
           1.6042780748663104,
           2.8455284552845526,
           2.357563850687623,
           1.0309278350515463,
           1.9522776572668112,
           2,
           1.7587939698492463,
           1.3333333333333335,
           0.6219765031098825,
           1.1221945137157108,
           0.5586592178770949,
           1.4218009478672986,
           3.4375000000000004,
           0.8,
           0.390625,
           2.6737967914438503,
           1.6260162601626018,
           0.7858546168958742,
           1.0309278350515463,
           0.6507592190889371,
           0.9333333333333335,
           1.0050251256281406,
           2.4187975120939877,
           1.6209476309226933,
           1.675977653631285,
           1.981904351572598,
           1.5625,
           2.4,
           1.5625,
           0.8912655971479502,
           1.6260162601626018,
           1.9646365422396856,
           1.5463917525773196,
           1.5184381778741864,
           0.13333333333333333,
           1.507537688442211,
           0.6666666666666667,
           1.1748445058742225,
           0.6234413965087282,
           0.5586592178770949,
           1.0771219302024988,
           0.9375,
           0.8,
           0.390625,
           0.17825311942959002,
           1.6260162601626018,
           0.9823182711198428,
           1.0845986984815619,
           0.26666666666666666,
           0.25125628140703515,
           1.3333333333333335,
           1.1748445058742225,
           0.6234413965087282,
           0.5586592178770949,
           0.6031882809133994,
           1.25,
           0.6,
           1.171875,
           1.2195121951219512,
           0.5893909626719057,
           0.43383947939262474,
           0.6666666666666667,
           0.414651002073255,
           0.12468827930174563,
           1.675977653631285,
           0.6462731581214994,
           0.9375,
           1,
           0.78125,
           0.17825311942959002,
           0.40650406504065045,
           0.7858546168958742,
           1.0845986984815619,
           0.6666666666666667
          ]
         },
         "mode": "markers",
         "type": "scatter",
         "x": [
          " Amazon Web Services (AWS) ",
          " Amazon Web Services (AWS) ",
          " Amazon Web Services (AWS) ",
          " Amazon Web Services (AWS) ",
          " Amazon Web Services (AWS) ",
          " Amazon Web Services (AWS) ",
          " Amazon Web Services (AWS) ",
          " Amazon Web Services (AWS) ",
          " Amazon Web Services (AWS) ",
          " Amazon Web Services (AWS) ",
          " Amazon Web Services (AWS) ",
          " Amazon Web Services (AWS) ",
          " Amazon Web Services (AWS) ",
          " Amazon Web Services (AWS) ",
          " Amazon Web Services (AWS) ",
          " Microsoft Azure ",
          " Microsoft Azure ",
          " Microsoft Azure ",
          " Microsoft Azure ",
          " Microsoft Azure ",
          " Microsoft Azure ",
          " Microsoft Azure ",
          " Microsoft Azure ",
          " Microsoft Azure ",
          " Microsoft Azure ",
          " Microsoft Azure ",
          " Microsoft Azure ",
          " Microsoft Azure ",
          " Microsoft Azure ",
          " Microsoft Azure ",
          " Google Cloud Platform (GCP) ",
          " Google Cloud Platform (GCP) ",
          " Google Cloud Platform (GCP) ",
          " Google Cloud Platform (GCP) ",
          " Google Cloud Platform (GCP) ",
          " Google Cloud Platform (GCP) ",
          " Google Cloud Platform (GCP) ",
          " Google Cloud Platform (GCP) ",
          " Google Cloud Platform (GCP) ",
          " Google Cloud Platform (GCP) ",
          " Google Cloud Platform (GCP) ",
          " Google Cloud Platform (GCP) ",
          " Google Cloud Platform (GCP) ",
          " Google Cloud Platform (GCP) ",
          " Google Cloud Platform (GCP) ",
          " IBM Cloud ",
          " IBM Cloud ",
          " IBM Cloud ",
          " IBM Cloud ",
          " IBM Cloud ",
          " IBM Cloud ",
          " IBM Cloud ",
          " IBM Cloud ",
          " IBM Cloud ",
          " IBM Cloud ",
          " IBM Cloud ",
          " IBM Cloud ",
          " IBM Cloud ",
          " IBM Cloud ",
          " IBM Cloud ",
          " Oracle Cloud ",
          " Oracle Cloud ",
          " Oracle Cloud ",
          " Oracle Cloud ",
          " Oracle Cloud ",
          " Oracle Cloud ",
          " Oracle Cloud ",
          " Oracle Cloud ",
          " Oracle Cloud ",
          " Oracle Cloud ",
          " Oracle Cloud ",
          " Oracle Cloud ",
          " Oracle Cloud ",
          " Oracle Cloud ",
          " Oracle Cloud ",
          " SAP Cloud ",
          " SAP Cloud ",
          " SAP Cloud ",
          " SAP Cloud ",
          " SAP Cloud ",
          " SAP Cloud ",
          " SAP Cloud ",
          " SAP Cloud ",
          " SAP Cloud ",
          " SAP Cloud ",
          " SAP Cloud ",
          " SAP Cloud ",
          " SAP Cloud ",
          " SAP Cloud ",
          " VMware Cloud ",
          " VMware Cloud ",
          " VMware Cloud ",
          " VMware Cloud ",
          " VMware Cloud ",
          " VMware Cloud ",
          " VMware Cloud ",
          " VMware Cloud ",
          " VMware Cloud ",
          " VMware Cloud ",
          " VMware Cloud ",
          " VMware Cloud ",
          " VMware Cloud ",
          " VMware Cloud ",
          " VMware Cloud ",
          " Alibaba Cloud ",
          " Alibaba Cloud ",
          " Alibaba Cloud ",
          " Alibaba Cloud ",
          " Alibaba Cloud ",
          " Alibaba Cloud ",
          " Alibaba Cloud ",
          " Alibaba Cloud ",
          " Alibaba Cloud ",
          " Alibaba Cloud ",
          " Alibaba Cloud ",
          " Alibaba Cloud ",
          " Alibaba Cloud ",
          " Alibaba Cloud ",
          " Tencent Cloud ",
          " Tencent Cloud ",
          " Tencent Cloud ",
          " Tencent Cloud ",
          " Tencent Cloud ",
          " Tencent Cloud ",
          " Tencent Cloud ",
          " Tencent Cloud ",
          " Tencent Cloud ",
          " Tencent Cloud ",
          " Tencent Cloud ",
          " Huawei Cloud ",
          " Huawei Cloud ",
          " Huawei Cloud ",
          " Huawei Cloud ",
          " Huawei Cloud ",
          " Huawei Cloud ",
          " Huawei Cloud ",
          " Huawei Cloud ",
          " Huawei Cloud ",
          " Huawei Cloud ",
          " Huawei Cloud ",
          " Huawei Cloud "
         ],
         "y": [
          "Academics/Education",
          "Accounting/Finance",
          "Broadcasting/Communications",
          "Computers/Technology",
          "Energy/Mining",
          "Government/Public Service",
          "Insurance/Risk Assessment",
          "Manufacturing/Fabrication",
          "Marketing/CRM",
          "Medical/Pharmaceutical",
          "Non-profit/Service",
          "Online Service/Internet-based Services",
          "Other",
          "Retail/Sales",
          "Shipping/Transportation",
          "Academics/Education",
          "Accounting/Finance",
          "Broadcasting/Communications",
          "Computers/Technology",
          "Energy/Mining",
          "Government/Public Service",
          "Insurance/Risk Assessment",
          "Manufacturing/Fabrication",
          "Marketing/CRM",
          "Medical/Pharmaceutical",
          "Non-profit/Service",
          "Online Service/Internet-based Services",
          "Other",
          "Retail/Sales",
          "Shipping/Transportation",
          "Academics/Education",
          "Accounting/Finance",
          "Broadcasting/Communications",
          "Computers/Technology",
          "Energy/Mining",
          "Government/Public Service",
          "Insurance/Risk Assessment",
          "Manufacturing/Fabrication",
          "Marketing/CRM",
          "Medical/Pharmaceutical",
          "Non-profit/Service",
          "Online Service/Internet-based Services",
          "Other",
          "Retail/Sales",
          "Shipping/Transportation",
          "Academics/Education",
          "Accounting/Finance",
          "Broadcasting/Communications",
          "Computers/Technology",
          "Energy/Mining",
          "Government/Public Service",
          "Insurance/Risk Assessment",
          "Manufacturing/Fabrication",
          "Marketing/CRM",
          "Medical/Pharmaceutical",
          "Non-profit/Service",
          "Online Service/Internet-based Services",
          "Other",
          "Retail/Sales",
          "Shipping/Transportation",
          "Academics/Education",
          "Accounting/Finance",
          "Broadcasting/Communications",
          "Computers/Technology",
          "Energy/Mining",
          "Government/Public Service",
          "Insurance/Risk Assessment",
          "Manufacturing/Fabrication",
          "Marketing/CRM",
          "Medical/Pharmaceutical",
          "Non-profit/Service",
          "Online Service/Internet-based Services",
          "Other",
          "Retail/Sales",
          "Shipping/Transportation",
          "Academics/Education",
          "Accounting/Finance",
          "Broadcasting/Communications",
          "Computers/Technology",
          "Energy/Mining",
          "Government/Public Service",
          "Insurance/Risk Assessment",
          "Manufacturing/Fabrication",
          "Marketing/CRM",
          "Medical/Pharmaceutical",
          "Non-profit/Service",
          "Online Service/Internet-based Services",
          "Other",
          "Retail/Sales",
          "Academics/Education",
          "Accounting/Finance",
          "Broadcasting/Communications",
          "Computers/Technology",
          "Energy/Mining",
          "Government/Public Service",
          "Insurance/Risk Assessment",
          "Manufacturing/Fabrication",
          "Marketing/CRM",
          "Medical/Pharmaceutical",
          "Non-profit/Service",
          "Online Service/Internet-based Services",
          "Other",
          "Retail/Sales",
          "Shipping/Transportation",
          "Academics/Education",
          "Accounting/Finance",
          "Broadcasting/Communications",
          "Computers/Technology",
          "Energy/Mining",
          "Government/Public Service",
          "Insurance/Risk Assessment",
          "Manufacturing/Fabrication",
          "Marketing/CRM",
          "Medical/Pharmaceutical",
          "Online Service/Internet-based Services",
          "Other",
          "Retail/Sales",
          "Shipping/Transportation",
          "Academics/Education",
          "Accounting/Finance",
          "Broadcasting/Communications",
          "Computers/Technology",
          "Energy/Mining",
          "Government/Public Service",
          "Insurance/Risk Assessment",
          "Marketing/CRM",
          "Medical/Pharmaceutical",
          "Online Service/Internet-based Services",
          "Shipping/Transportation",
          "Academics/Education",
          "Accounting/Finance",
          "Broadcasting/Communications",
          "Computers/Technology",
          "Energy/Mining",
          "Government/Public Service",
          "Insurance/Risk Assessment",
          "Manufacturing/Fabrication",
          "Marketing/CRM",
          "Medical/Pharmaceutical",
          "Online Service/Internet-based Services",
          "Shipping/Transportation"
         ]
        }
       ],
       "layout": {
        "font": {
         "color": "#7b6b59"
        },
        "height": 950,
        "margin": {
         "t": 170
        },
        "paper_bgcolor": "#fff",
        "plot_bgcolor": "#fff",
        "showlegend": false,
        "template": {
         "data": {
          "bar": [
           {
            "error_x": {
             "color": "#2a3f5f"
            },
            "error_y": {
             "color": "#2a3f5f"
            },
            "marker": {
             "line": {
              "color": "#E5ECF6",
              "width": 0.5
             },
             "pattern": {
              "fillmode": "overlay",
              "size": 10,
              "solidity": 0.2
             }
            },
            "type": "bar"
           }
          ],
          "barpolar": [
           {
            "marker": {
             "line": {
              "color": "#E5ECF6",
              "width": 0.5
             },
             "pattern": {
              "fillmode": "overlay",
              "size": 10,
              "solidity": 0.2
             }
            },
            "type": "barpolar"
           }
          ],
          "carpet": [
           {
            "aaxis": {
             "endlinecolor": "#2a3f5f",
             "gridcolor": "white",
             "linecolor": "white",
             "minorgridcolor": "white",
             "startlinecolor": "#2a3f5f"
            },
            "baxis": {
             "endlinecolor": "#2a3f5f",
             "gridcolor": "white",
             "linecolor": "white",
             "minorgridcolor": "white",
             "startlinecolor": "#2a3f5f"
            },
            "type": "carpet"
           }
          ],
          "choropleth": [
           {
            "colorbar": {
             "outlinewidth": 0,
             "ticks": ""
            },
            "type": "choropleth"
           }
          ],
          "contour": [
           {
            "colorbar": {
             "outlinewidth": 0,
             "ticks": ""
            },
            "colorscale": [
             [
              0,
              "#0d0887"
             ],
             [
              0.1111111111111111,
              "#46039f"
             ],
             [
              0.2222222222222222,
              "#7201a8"
             ],
             [
              0.3333333333333333,
              "#9c179e"
             ],
             [
              0.4444444444444444,
              "#bd3786"
             ],
             [
              0.5555555555555556,
              "#d8576b"
             ],
             [
              0.6666666666666666,
              "#ed7953"
             ],
             [
              0.7777777777777778,
              "#fb9f3a"
             ],
             [
              0.8888888888888888,
              "#fdca26"
             ],
             [
              1,
              "#f0f921"
             ]
            ],
            "type": "contour"
           }
          ],
          "contourcarpet": [
           {
            "colorbar": {
             "outlinewidth": 0,
             "ticks": ""
            },
            "type": "contourcarpet"
           }
          ],
          "heatmap": [
           {
            "colorbar": {
             "outlinewidth": 0,
             "ticks": ""
            },
            "colorscale": [
             [
              0,
              "#0d0887"
             ],
             [
              0.1111111111111111,
              "#46039f"
             ],
             [
              0.2222222222222222,
              "#7201a8"
             ],
             [
              0.3333333333333333,
              "#9c179e"
             ],
             [
              0.4444444444444444,
              "#bd3786"
             ],
             [
              0.5555555555555556,
              "#d8576b"
             ],
             [
              0.6666666666666666,
              "#ed7953"
             ],
             [
              0.7777777777777778,
              "#fb9f3a"
             ],
             [
              0.8888888888888888,
              "#fdca26"
             ],
             [
              1,
              "#f0f921"
             ]
            ],
            "type": "heatmap"
           }
          ],
          "heatmapgl": [
           {
            "colorbar": {
             "outlinewidth": 0,
             "ticks": ""
            },
            "colorscale": [
             [
              0,
              "#0d0887"
             ],
             [
              0.1111111111111111,
              "#46039f"
             ],
             [
              0.2222222222222222,
              "#7201a8"
             ],
             [
              0.3333333333333333,
              "#9c179e"
             ],
             [
              0.4444444444444444,
              "#bd3786"
             ],
             [
              0.5555555555555556,
              "#d8576b"
             ],
             [
              0.6666666666666666,
              "#ed7953"
             ],
             [
              0.7777777777777778,
              "#fb9f3a"
             ],
             [
              0.8888888888888888,
              "#fdca26"
             ],
             [
              1,
              "#f0f921"
             ]
            ],
            "type": "heatmapgl"
           }
          ],
          "histogram": [
           {
            "marker": {
             "pattern": {
              "fillmode": "overlay",
              "size": 10,
              "solidity": 0.2
             }
            },
            "type": "histogram"
           }
          ],
          "histogram2d": [
           {
            "colorbar": {
             "outlinewidth": 0,
             "ticks": ""
            },
            "colorscale": [
             [
              0,
              "#0d0887"
             ],
             [
              0.1111111111111111,
              "#46039f"
             ],
             [
              0.2222222222222222,
              "#7201a8"
             ],
             [
              0.3333333333333333,
              "#9c179e"
             ],
             [
              0.4444444444444444,
              "#bd3786"
             ],
             [
              0.5555555555555556,
              "#d8576b"
             ],
             [
              0.6666666666666666,
              "#ed7953"
             ],
             [
              0.7777777777777778,
              "#fb9f3a"
             ],
             [
              0.8888888888888888,
              "#fdca26"
             ],
             [
              1,
              "#f0f921"
             ]
            ],
            "type": "histogram2d"
           }
          ],
          "histogram2dcontour": [
           {
            "colorbar": {
             "outlinewidth": 0,
             "ticks": ""
            },
            "colorscale": [
             [
              0,
              "#0d0887"
             ],
             [
              0.1111111111111111,
              "#46039f"
             ],
             [
              0.2222222222222222,
              "#7201a8"
             ],
             [
              0.3333333333333333,
              "#9c179e"
             ],
             [
              0.4444444444444444,
              "#bd3786"
             ],
             [
              0.5555555555555556,
              "#d8576b"
             ],
             [
              0.6666666666666666,
              "#ed7953"
             ],
             [
              0.7777777777777778,
              "#fb9f3a"
             ],
             [
              0.8888888888888888,
              "#fdca26"
             ],
             [
              1,
              "#f0f921"
             ]
            ],
            "type": "histogram2dcontour"
           }
          ],
          "mesh3d": [
           {
            "colorbar": {
             "outlinewidth": 0,
             "ticks": ""
            },
            "type": "mesh3d"
           }
          ],
          "parcoords": [
           {
            "line": {
             "colorbar": {
              "outlinewidth": 0,
              "ticks": ""
             }
            },
            "type": "parcoords"
           }
          ],
          "pie": [
           {
            "automargin": true,
            "type": "pie"
           }
          ],
          "scatter": [
           {
            "fillpattern": {
             "fillmode": "overlay",
             "size": 10,
             "solidity": 0.2
            },
            "type": "scatter"
           }
          ],
          "scatter3d": [
           {
            "line": {
             "colorbar": {
              "outlinewidth": 0,
              "ticks": ""
             }
            },
            "marker": {
             "colorbar": {
              "outlinewidth": 0,
              "ticks": ""
             }
            },
            "type": "scatter3d"
           }
          ],
          "scattercarpet": [
           {
            "marker": {
             "colorbar": {
              "outlinewidth": 0,
              "ticks": ""
             }
            },
            "type": "scattercarpet"
           }
          ],
          "scattergeo": [
           {
            "marker": {
             "colorbar": {
              "outlinewidth": 0,
              "ticks": ""
             }
            },
            "type": "scattergeo"
           }
          ],
          "scattergl": [
           {
            "marker": {
             "colorbar": {
              "outlinewidth": 0,
              "ticks": ""
             }
            },
            "type": "scattergl"
           }
          ],
          "scattermapbox": [
           {
            "marker": {
             "colorbar": {
              "outlinewidth": 0,
              "ticks": ""
             }
            },
            "type": "scattermapbox"
           }
          ],
          "scatterpolar": [
           {
            "marker": {
             "colorbar": {
              "outlinewidth": 0,
              "ticks": ""
             }
            },
            "type": "scatterpolar"
           }
          ],
          "scatterpolargl": [
           {
            "marker": {
             "colorbar": {
              "outlinewidth": 0,
              "ticks": ""
             }
            },
            "type": "scatterpolargl"
           }
          ],
          "scatterternary": [
           {
            "marker": {
             "colorbar": {
              "outlinewidth": 0,
              "ticks": ""
             }
            },
            "type": "scatterternary"
           }
          ],
          "surface": [
           {
            "colorbar": {
             "outlinewidth": 0,
             "ticks": ""
            },
            "colorscale": [
             [
              0,
              "#0d0887"
             ],
             [
              0.1111111111111111,
              "#46039f"
             ],
             [
              0.2222222222222222,
              "#7201a8"
             ],
             [
              0.3333333333333333,
              "#9c179e"
             ],
             [
              0.4444444444444444,
              "#bd3786"
             ],
             [
              0.5555555555555556,
              "#d8576b"
             ],
             [
              0.6666666666666666,
              "#ed7953"
             ],
             [
              0.7777777777777778,
              "#fb9f3a"
             ],
             [
              0.8888888888888888,
              "#fdca26"
             ],
             [
              1,
              "#f0f921"
             ]
            ],
            "type": "surface"
           }
          ],
          "table": [
           {
            "cells": {
             "fill": {
              "color": "#EBF0F8"
             },
             "line": {
              "color": "white"
             }
            },
            "header": {
             "fill": {
              "color": "#C8D4E3"
             },
             "line": {
              "color": "white"
             }
            },
            "type": "table"
           }
          ]
         },
         "layout": {
          "annotationdefaults": {
           "arrowcolor": "#2a3f5f",
           "arrowhead": 0,
           "arrowwidth": 1
          },
          "autotypenumbers": "strict",
          "coloraxis": {
           "colorbar": {
            "outlinewidth": 0,
            "ticks": ""
           }
          },
          "colorscale": {
           "diverging": [
            [
             0,
             "#8e0152"
            ],
            [
             0.1,
             "#c51b7d"
            ],
            [
             0.2,
             "#de77ae"
            ],
            [
             0.3,
             "#f1b6da"
            ],
            [
             0.4,
             "#fde0ef"
            ],
            [
             0.5,
             "#f7f7f7"
            ],
            [
             0.6,
             "#e6f5d0"
            ],
            [
             0.7,
             "#b8e186"
            ],
            [
             0.8,
             "#7fbc41"
            ],
            [
             0.9,
             "#4d9221"
            ],
            [
             1,
             "#276419"
            ]
           ],
           "sequential": [
            [
             0,
             "#0d0887"
            ],
            [
             0.1111111111111111,
             "#46039f"
            ],
            [
             0.2222222222222222,
             "#7201a8"
            ],
            [
             0.3333333333333333,
             "#9c179e"
            ],
            [
             0.4444444444444444,
             "#bd3786"
            ],
            [
             0.5555555555555556,
             "#d8576b"
            ],
            [
             0.6666666666666666,
             "#ed7953"
            ],
            [
             0.7777777777777778,
             "#fb9f3a"
            ],
            [
             0.8888888888888888,
             "#fdca26"
            ],
            [
             1,
             "#f0f921"
            ]
           ],
           "sequentialminus": [
            [
             0,
             "#0d0887"
            ],
            [
             0.1111111111111111,
             "#46039f"
            ],
            [
             0.2222222222222222,
             "#7201a8"
            ],
            [
             0.3333333333333333,
             "#9c179e"
            ],
            [
             0.4444444444444444,
             "#bd3786"
            ],
            [
             0.5555555555555556,
             "#d8576b"
            ],
            [
             0.6666666666666666,
             "#ed7953"
            ],
            [
             0.7777777777777778,
             "#fb9f3a"
            ],
            [
             0.8888888888888888,
             "#fdca26"
            ],
            [
             1,
             "#f0f921"
            ]
           ]
          },
          "colorway": [
           "#636efa",
           "#EF553B",
           "#00cc96",
           "#ab63fa",
           "#FFA15A",
           "#19d3f3",
           "#FF6692",
           "#B6E880",
           "#FF97FF",
           "#FECB52"
          ],
          "font": {
           "color": "#2a3f5f"
          },
          "geo": {
           "bgcolor": "white",
           "lakecolor": "white",
           "landcolor": "#E5ECF6",
           "showlakes": true,
           "showland": true,
           "subunitcolor": "white"
          },
          "hoverlabel": {
           "align": "left"
          },
          "hovermode": "closest",
          "mapbox": {
           "style": "light"
          },
          "paper_bgcolor": "white",
          "plot_bgcolor": "#E5ECF6",
          "polar": {
           "angularaxis": {
            "gridcolor": "white",
            "linecolor": "white",
            "ticks": ""
           },
           "bgcolor": "#E5ECF6",
           "radialaxis": {
            "gridcolor": "white",
            "linecolor": "white",
            "ticks": ""
           }
          },
          "scene": {
           "xaxis": {
            "backgroundcolor": "#E5ECF6",
            "gridcolor": "white",
            "gridwidth": 2,
            "linecolor": "white",
            "showbackground": true,
            "ticks": "",
            "zerolinecolor": "white"
           },
           "yaxis": {
            "backgroundcolor": "#E5ECF6",
            "gridcolor": "white",
            "gridwidth": 2,
            "linecolor": "white",
            "showbackground": true,
            "ticks": "",
            "zerolinecolor": "white"
           },
           "zaxis": {
            "backgroundcolor": "#E5ECF6",
            "gridcolor": "white",
            "gridwidth": 2,
            "linecolor": "white",
            "showbackground": true,
            "ticks": "",
            "zerolinecolor": "white"
           }
          },
          "shapedefaults": {
           "line": {
            "color": "#2a3f5f"
           }
          },
          "ternary": {
           "aaxis": {
            "gridcolor": "white",
            "linecolor": "white",
            "ticks": ""
           },
           "baxis": {
            "gridcolor": "white",
            "linecolor": "white",
            "ticks": ""
           },
           "bgcolor": "#E5ECF6",
           "caxis": {
            "gridcolor": "white",
            "linecolor": "white",
            "ticks": ""
           }
          },
          "title": {
           "x": 0.05
          },
          "xaxis": {
           "automargin": true,
           "gridcolor": "white",
           "linecolor": "white",
           "ticks": "",
           "title": {
            "standoff": 15
           },
           "zerolinecolor": "white",
           "zerolinewidth": 2
          },
          "yaxis": {
           "automargin": true,
           "gridcolor": "white",
           "linecolor": "white",
           "ticks": "",
           "title": {
            "standoff": 15
           },
           "zerolinecolor": "white",
           "zerolinewidth": 2
          }
         }
        },
        "title": {
         "text": "<span style='font-size:30px; font-family:Times New Roman'>Cloud Computing In Different Industries</span><br><br><sup>Questions Data: Industry (Q24) and Cloud Computing Platform (31)</sup><br><sup>Size,Color: Percentage of Respondents - <br>The number of respondents of the related sector that chose the relevant Cloud Computing Platform<br>divided by the total number of respondents working in that sector.</sup>",
         "x": 0.5,
         "xanchor": "center"
        },
        "width": 900,
        "xaxis": {
         "gridcolor": "#c9c4c3",
         "linecolor": "#c9c4c3",
         "linewidth": 1,
         "showgrid": false,
         "showline": false,
         "tickangle": -35,
         "tickfont": {
          "color": "#7b6b59",
          "family": "Verdana",
          "size": 14
         },
         "title": {
          "font": {
           "color": "#f57369",
           "family": "Verdana",
           "size": 14
          },
          "text": ""
         }
        },
        "yaxis": {
         "gridcolor": "#fff",
         "linecolor": "#000",
         "linewidth": 1,
         "showgrid": false,
         "showline": false,
         "tickfont": {
          "color": "#a43725",
          "family": "Verdana",
          "size": 14
         },
         "title": {
          "font": {
           "color": "#f57369",
           "family": "Verdana",
           "size": 14
          },
          "text": ""
         }
        }
       }
      }
     },
     "metadata": {},
     "output_type": "display_data"
    }
   ],
   "source": [
    "# 데이터 처리 및 클라우드 컴퓨팅 플랫폼의 산업별 상대적 비율 분석\n",
    "cloud_computing_platforms = [col for col in df.columns if col.startswith(\"Q31\")]  # \"Q31\"로 시작하는 모든 열 추출 (클라우드 컴퓨팅 플랫폼 관련)\n",
    "\n",
    "# 데이터를 그룹화하여 산업별 클라우드 플랫폼 사용 현황 집계\n",
    "dfs_list = []\n",
    "for col in cloud_computing_platforms:\n",
    "    dfs_list.append(\n",
    "        scope_df.groupby([\"Q24\", col])  # 산업(Q24)와 각 클라우드 플랫폼 열(col) 기준 그룹화\n",
    "        .agg({\"Q2\": \"count\"})  # 응답자 수 집계\n",
    "        .reset_index()  # 인덱스를 리셋하여 데이터프레임으로 변환\n",
    "        .rename(columns={col: \"Q31\", \"Q2\": \"counts\"})  # 열 이름 변경\n",
    "    )\n",
    "\n",
    "# 결과 데이터프레임 병합\n",
    "cloud_computing_platforms_df = pd.concat(dfs_list)\n",
    "\n",
    "# 각 플랫폼이 산업 내에서 차지하는 상대 비율 계산\n",
    "cloud_computing_platforms_df[\"relative_percent\"] = cloud_computing_platforms_df.apply(\n",
    "    lambda x: x[\"counts\"] / industry_totals[x[\"Q24\"]], axis=1  # 산업별 총 응답자 수를 기준으로 비율 계산\n",
    ")\n",
    "\n",
    "# \"None\" 및 \"Other\" 응답을 제거하여 주요 클라우드 플랫폼만 분석\n",
    "cloud_computing_platforms_df = cloud_computing_platforms_df[\n",
    "    ~cloud_computing_platforms_df[\"Q31\"].isin([\"None\", \"Other\"])\n",
    "]\n",
    "\n",
    "# 시각화: 산점도를 이용해 산업별 클라우드 플랫폼 사용 비율 비교\n",
    "create_scatter_plot(\n",
    "    cloud_computing_platforms_df[\"Q31\"].apply(lambda x: x.split(\"/\")[0]),  # 클라우드 플랫폼 이름\n",
    "    cloud_computing_platforms_df[\"Q24\"],  # 산업 이름\n",
    "    \"Cloud Computing Platform: %{x}<br>\" +  # 툴팁 텍스트\n",
    "    \"Industry: %{y}<br>\" +\n",
    "    \"Percentage: %{marker.size:,}\" +\n",
    "    \"<extra></extra>\",\n",
    "    cloud_computing_platforms_df[\"relative_percent\"] * 100,  # 응답 비율\n",
    "    cloud_computing_platforms_df[\"relative_percent\"] * 100,  # 색상 기준 (비율)\n",
    "    \"Cloud Computing In Different Industries\",  # 그래프 제목\n",
    "    \"Questions Data: Industry (Q24) and Cloud Computing Platform (31)\",  # x축 제목\n",
    "    \"Size,Color: Percentage of Respondents - <br>The number of respondents of the related sector that chose the relevant Cloud Computing Platform<br>divided by the total number of respondents working in that sector.\"  # 툴팁 설명\n",
    ")\n"
   ]
  },
  {
   "cell_type": "code",
   "execution_count": null,
   "metadata": {},
   "outputs": [
    {
     "data": {
      "application/vnd.plotly.v1+json": {
       "config": {
        "plotlyServerURL": "https://plot.ly"
       },
       "data": [
        {
         "colorscale": [
          [
           0,
           "#a43725"
          ],
          [
           1,
           "#a43725"
          ]
         ],
         "geo": "geo",
         "hovertemplate": "color=Google Cloud Platform (GCP)<br>locations=%{location}<extra></extra>",
         "locationmode": "country names",
         "locations": [
          "Algeria",
          "Argentina",
          "Bangladesh",
          "Cameroon",
          "Chile",
          "Colombia",
          "Egypt",
          "Ethiopia",
          "France",
          "Hong Kong (S.A.R.)",
          "Indonesia",
          "Iran, Islamic Republic of...",
          "Italy",
          "Japan",
          "Malaysia",
          "Mexico",
          "Morocco",
          "Nigeria",
          "Other",
          "Pakistan",
          "Peru",
          "Philippines",
          "Poland",
          "Russia",
          "Saudi Arabia",
          "South Korea",
          "Sri Lanka",
          "Taiwan",
          "Thailand",
          "Tunisia",
          "Turkey",
          "Viet Nam",
          "Zimbabwe"
         ],
         "name": "Google Cloud Platform (GCP)",
         "showlegend": true,
         "showscale": false,
         "type": "choropleth",
         "z": [
          1,
          1,
          1,
          1,
          1,
          1,
          1,
          1,
          1,
          1,
          1,
          1,
          1,
          1,
          1,
          1,
          1,
          1,
          1,
          1,
          1,
          1,
          1,
          1,
          1,
          1,
          1,
          1,
          1,
          1,
          1,
          1,
          1
         ]
        },
        {
         "colorscale": [
          [
           0,
           "#cfbd9b"
          ],
          [
           1,
           "#cfbd9b"
          ]
         ],
         "geo": "geo",
         "hovertemplate": "color=Amazon Web Services (AWS)<br>locations=%{location}<extra></extra>",
         "locationmode": "country names",
         "locations": [
          "Australia",
          "Brazil",
          "Canada",
          "Czech Republic",
          "Ecuador",
          "Germany",
          "Ghana",
          "I do not wish to disclose my location",
          "India",
          "Ireland",
          "Israel",
          "Kenya",
          "Nepal",
          "Romania",
          "Singapore",
          "Spain",
          "United Arab Emirates",
          "United Kingdom of Great Britain and Northern Ireland",
          "United States of America"
         ],
         "name": "Amazon Web Services (AWS)",
         "showlegend": true,
         "showscale": false,
         "type": "choropleth",
         "z": [
          1,
          1,
          1,
          1,
          1,
          1,
          1,
          1,
          1,
          1,
          1,
          1,
          1,
          1,
          1,
          1,
          1,
          1,
          1
         ]
        },
        {
         "colorscale": [
          [
           0,
           "#edc860"
          ],
          [
           1,
           "#edc860"
          ]
         ],
         "geo": "geo",
         "hovertemplate": "color=Microsoft Azure<br>locations=%{location}<extra></extra>",
         "locationmode": "country names",
         "locations": [
          "Belgium",
          "Netherlands",
          "Portugal",
          "South Africa",
          "Ukraine"
         ],
         "name": "Microsoft Azure",
         "showlegend": true,
         "showscale": false,
         "type": "choropleth",
         "z": [
          1,
          1,
          1,
          1,
          1
         ]
        },
        {
         "colorscale": [
          [
           0,
           "#E6b6a4"
          ],
          [
           1,
           "#E6b6a4"
          ]
         ],
         "geo": "geo",
         "hovertemplate": "color=Alibaba Cloud<br>locations=%{location}<extra></extra>",
         "locationmode": "country names",
         "locations": [
          "China"
         ],
         "name": "Alibaba Cloud",
         "showlegend": true,
         "showscale": false,
         "type": "choropleth",
         "z": [
          1
         ]
        }
       ],
       "layout": {
        "dragmode": false,
        "font": {
         "color": "#7b6b59"
        },
        "geo": {
         "center": {},
         "domain": {
          "x": [
           0,
           1
          ],
          "y": [
           0,
           1
          ]
         }
        },
        "legend": {
         "orientation": "h",
         "title": {
          "text": ""
         },
         "tracegroupgap": 0,
         "x": 1,
         "xanchor": "right",
         "y": 0.9,
         "yanchor": "bottom"
        },
        "margin": {
         "b": 10,
         "l": 10,
         "pad": 0,
         "r": 10,
         "t": 50
        },
        "template": {
         "data": {
          "bar": [
           {
            "error_x": {
             "color": "#2a3f5f"
            },
            "error_y": {
             "color": "#2a3f5f"
            },
            "marker": {
             "line": {
              "color": "#E5ECF6",
              "width": 0.5
             },
             "pattern": {
              "fillmode": "overlay",
              "size": 10,
              "solidity": 0.2
             }
            },
            "type": "bar"
           }
          ],
          "barpolar": [
           {
            "marker": {
             "line": {
              "color": "#E5ECF6",
              "width": 0.5
             },
             "pattern": {
              "fillmode": "overlay",
              "size": 10,
              "solidity": 0.2
             }
            },
            "type": "barpolar"
           }
          ],
          "carpet": [
           {
            "aaxis": {
             "endlinecolor": "#2a3f5f",
             "gridcolor": "white",
             "linecolor": "white",
             "minorgridcolor": "white",
             "startlinecolor": "#2a3f5f"
            },
            "baxis": {
             "endlinecolor": "#2a3f5f",
             "gridcolor": "white",
             "linecolor": "white",
             "minorgridcolor": "white",
             "startlinecolor": "#2a3f5f"
            },
            "type": "carpet"
           }
          ],
          "choropleth": [
           {
            "colorbar": {
             "outlinewidth": 0,
             "ticks": ""
            },
            "type": "choropleth"
           }
          ],
          "contour": [
           {
            "colorbar": {
             "outlinewidth": 0,
             "ticks": ""
            },
            "colorscale": [
             [
              0,
              "#0d0887"
             ],
             [
              0.1111111111111111,
              "#46039f"
             ],
             [
              0.2222222222222222,
              "#7201a8"
             ],
             [
              0.3333333333333333,
              "#9c179e"
             ],
             [
              0.4444444444444444,
              "#bd3786"
             ],
             [
              0.5555555555555556,
              "#d8576b"
             ],
             [
              0.6666666666666666,
              "#ed7953"
             ],
             [
              0.7777777777777778,
              "#fb9f3a"
             ],
             [
              0.8888888888888888,
              "#fdca26"
             ],
             [
              1,
              "#f0f921"
             ]
            ],
            "type": "contour"
           }
          ],
          "contourcarpet": [
           {
            "colorbar": {
             "outlinewidth": 0,
             "ticks": ""
            },
            "type": "contourcarpet"
           }
          ],
          "heatmap": [
           {
            "colorbar": {
             "outlinewidth": 0,
             "ticks": ""
            },
            "colorscale": [
             [
              0,
              "#0d0887"
             ],
             [
              0.1111111111111111,
              "#46039f"
             ],
             [
              0.2222222222222222,
              "#7201a8"
             ],
             [
              0.3333333333333333,
              "#9c179e"
             ],
             [
              0.4444444444444444,
              "#bd3786"
             ],
             [
              0.5555555555555556,
              "#d8576b"
             ],
             [
              0.6666666666666666,
              "#ed7953"
             ],
             [
              0.7777777777777778,
              "#fb9f3a"
             ],
             [
              0.8888888888888888,
              "#fdca26"
             ],
             [
              1,
              "#f0f921"
             ]
            ],
            "type": "heatmap"
           }
          ],
          "heatmapgl": [
           {
            "colorbar": {
             "outlinewidth": 0,
             "ticks": ""
            },
            "colorscale": [
             [
              0,
              "#0d0887"
             ],
             [
              0.1111111111111111,
              "#46039f"
             ],
             [
              0.2222222222222222,
              "#7201a8"
             ],
             [
              0.3333333333333333,
              "#9c179e"
             ],
             [
              0.4444444444444444,
              "#bd3786"
             ],
             [
              0.5555555555555556,
              "#d8576b"
             ],
             [
              0.6666666666666666,
              "#ed7953"
             ],
             [
              0.7777777777777778,
              "#fb9f3a"
             ],
             [
              0.8888888888888888,
              "#fdca26"
             ],
             [
              1,
              "#f0f921"
             ]
            ],
            "type": "heatmapgl"
           }
          ],
          "histogram": [
           {
            "marker": {
             "pattern": {
              "fillmode": "overlay",
              "size": 10,
              "solidity": 0.2
             }
            },
            "type": "histogram"
           }
          ],
          "histogram2d": [
           {
            "colorbar": {
             "outlinewidth": 0,
             "ticks": ""
            },
            "colorscale": [
             [
              0,
              "#0d0887"
             ],
             [
              0.1111111111111111,
              "#46039f"
             ],
             [
              0.2222222222222222,
              "#7201a8"
             ],
             [
              0.3333333333333333,
              "#9c179e"
             ],
             [
              0.4444444444444444,
              "#bd3786"
             ],
             [
              0.5555555555555556,
              "#d8576b"
             ],
             [
              0.6666666666666666,
              "#ed7953"
             ],
             [
              0.7777777777777778,
              "#fb9f3a"
             ],
             [
              0.8888888888888888,
              "#fdca26"
             ],
             [
              1,
              "#f0f921"
             ]
            ],
            "type": "histogram2d"
           }
          ],
          "histogram2dcontour": [
           {
            "colorbar": {
             "outlinewidth": 0,
             "ticks": ""
            },
            "colorscale": [
             [
              0,
              "#0d0887"
             ],
             [
              0.1111111111111111,
              "#46039f"
             ],
             [
              0.2222222222222222,
              "#7201a8"
             ],
             [
              0.3333333333333333,
              "#9c179e"
             ],
             [
              0.4444444444444444,
              "#bd3786"
             ],
             [
              0.5555555555555556,
              "#d8576b"
             ],
             [
              0.6666666666666666,
              "#ed7953"
             ],
             [
              0.7777777777777778,
              "#fb9f3a"
             ],
             [
              0.8888888888888888,
              "#fdca26"
             ],
             [
              1,
              "#f0f921"
             ]
            ],
            "type": "histogram2dcontour"
           }
          ],
          "mesh3d": [
           {
            "colorbar": {
             "outlinewidth": 0,
             "ticks": ""
            },
            "type": "mesh3d"
           }
          ],
          "parcoords": [
           {
            "line": {
             "colorbar": {
              "outlinewidth": 0,
              "ticks": ""
             }
            },
            "type": "parcoords"
           }
          ],
          "pie": [
           {
            "automargin": true,
            "type": "pie"
           }
          ],
          "scatter": [
           {
            "fillpattern": {
             "fillmode": "overlay",
             "size": 10,
             "solidity": 0.2
            },
            "type": "scatter"
           }
          ],
          "scatter3d": [
           {
            "line": {
             "colorbar": {
              "outlinewidth": 0,
              "ticks": ""
             }
            },
            "marker": {
             "colorbar": {
              "outlinewidth": 0,
              "ticks": ""
             }
            },
            "type": "scatter3d"
           }
          ],
          "scattercarpet": [
           {
            "marker": {
             "colorbar": {
              "outlinewidth": 0,
              "ticks": ""
             }
            },
            "type": "scattercarpet"
           }
          ],
          "scattergeo": [
           {
            "marker": {
             "colorbar": {
              "outlinewidth": 0,
              "ticks": ""
             }
            },
            "type": "scattergeo"
           }
          ],
          "scattergl": [
           {
            "marker": {
             "colorbar": {
              "outlinewidth": 0,
              "ticks": ""
             }
            },
            "type": "scattergl"
           }
          ],
          "scattermapbox": [
           {
            "marker": {
             "colorbar": {
              "outlinewidth": 0,
              "ticks": ""
             }
            },
            "type": "scattermapbox"
           }
          ],
          "scatterpolar": [
           {
            "marker": {
             "colorbar": {
              "outlinewidth": 0,
              "ticks": ""
             }
            },
            "type": "scatterpolar"
           }
          ],
          "scatterpolargl": [
           {
            "marker": {
             "colorbar": {
              "outlinewidth": 0,
              "ticks": ""
             }
            },
            "type": "scatterpolargl"
           }
          ],
          "scatterternary": [
           {
            "marker": {
             "colorbar": {
              "outlinewidth": 0,
              "ticks": ""
             }
            },
            "type": "scatterternary"
           }
          ],
          "surface": [
           {
            "colorbar": {
             "outlinewidth": 0,
             "ticks": ""
            },
            "colorscale": [
             [
              0,
              "#0d0887"
             ],
             [
              0.1111111111111111,
              "#46039f"
             ],
             [
              0.2222222222222222,
              "#7201a8"
             ],
             [
              0.3333333333333333,
              "#9c179e"
             ],
             [
              0.4444444444444444,
              "#bd3786"
             ],
             [
              0.5555555555555556,
              "#d8576b"
             ],
             [
              0.6666666666666666,
              "#ed7953"
             ],
             [
              0.7777777777777778,
              "#fb9f3a"
             ],
             [
              0.8888888888888888,
              "#fdca26"
             ],
             [
              1,
              "#f0f921"
             ]
            ],
            "type": "surface"
           }
          ],
          "table": [
           {
            "cells": {
             "fill": {
              "color": "#EBF0F8"
             },
             "line": {
              "color": "white"
             }
            },
            "header": {
             "fill": {
              "color": "#C8D4E3"
             },
             "line": {
              "color": "white"
             }
            },
            "type": "table"
           }
          ]
         },
         "layout": {
          "annotationdefaults": {
           "arrowcolor": "#2a3f5f",
           "arrowhead": 0,
           "arrowwidth": 1
          },
          "autotypenumbers": "strict",
          "coloraxis": {
           "colorbar": {
            "outlinewidth": 0,
            "ticks": ""
           }
          },
          "colorscale": {
           "diverging": [
            [
             0,
             "#8e0152"
            ],
            [
             0.1,
             "#c51b7d"
            ],
            [
             0.2,
             "#de77ae"
            ],
            [
             0.3,
             "#f1b6da"
            ],
            [
             0.4,
             "#fde0ef"
            ],
            [
             0.5,
             "#f7f7f7"
            ],
            [
             0.6,
             "#e6f5d0"
            ],
            [
             0.7,
             "#b8e186"
            ],
            [
             0.8,
             "#7fbc41"
            ],
            [
             0.9,
             "#4d9221"
            ],
            [
             1,
             "#276419"
            ]
           ],
           "sequential": [
            [
             0,
             "#0d0887"
            ],
            [
             0.1111111111111111,
             "#46039f"
            ],
            [
             0.2222222222222222,
             "#7201a8"
            ],
            [
             0.3333333333333333,
             "#9c179e"
            ],
            [
             0.4444444444444444,
             "#bd3786"
            ],
            [
             0.5555555555555556,
             "#d8576b"
            ],
            [
             0.6666666666666666,
             "#ed7953"
            ],
            [
             0.7777777777777778,
             "#fb9f3a"
            ],
            [
             0.8888888888888888,
             "#fdca26"
            ],
            [
             1,
             "#f0f921"
            ]
           ],
           "sequentialminus": [
            [
             0,
             "#0d0887"
            ],
            [
             0.1111111111111111,
             "#46039f"
            ],
            [
             0.2222222222222222,
             "#7201a8"
            ],
            [
             0.3333333333333333,
             "#9c179e"
            ],
            [
             0.4444444444444444,
             "#bd3786"
            ],
            [
             0.5555555555555556,
             "#d8576b"
            ],
            [
             0.6666666666666666,
             "#ed7953"
            ],
            [
             0.7777777777777778,
             "#fb9f3a"
            ],
            [
             0.8888888888888888,
             "#fdca26"
            ],
            [
             1,
             "#f0f921"
            ]
           ]
          },
          "colorway": [
           "#636efa",
           "#EF553B",
           "#00cc96",
           "#ab63fa",
           "#FFA15A",
           "#19d3f3",
           "#FF6692",
           "#B6E880",
           "#FF97FF",
           "#FECB52"
          ],
          "font": {
           "color": "#2a3f5f"
          },
          "geo": {
           "bgcolor": "white",
           "lakecolor": "white",
           "landcolor": "#E5ECF6",
           "showlakes": true,
           "showland": true,
           "subunitcolor": "white"
          },
          "hoverlabel": {
           "align": "left"
          },
          "hovermode": "closest",
          "mapbox": {
           "style": "light"
          },
          "paper_bgcolor": "white",
          "plot_bgcolor": "#E5ECF6",
          "polar": {
           "angularaxis": {
            "gridcolor": "white",
            "linecolor": "white",
            "ticks": ""
           },
           "bgcolor": "#E5ECF6",
           "radialaxis": {
            "gridcolor": "white",
            "linecolor": "white",
            "ticks": ""
           }
          },
          "scene": {
           "xaxis": {
            "backgroundcolor": "#E5ECF6",
            "gridcolor": "white",
            "gridwidth": 2,
            "linecolor": "white",
            "showbackground": true,
            "ticks": "",
            "zerolinecolor": "white"
           },
           "yaxis": {
            "backgroundcolor": "#E5ECF6",
            "gridcolor": "white",
            "gridwidth": 2,
            "linecolor": "white",
            "showbackground": true,
            "ticks": "",
            "zerolinecolor": "white"
           },
           "zaxis": {
            "backgroundcolor": "#E5ECF6",
            "gridcolor": "white",
            "gridwidth": 2,
            "linecolor": "white",
            "showbackground": true,
            "ticks": "",
            "zerolinecolor": "white"
           }
          },
          "shapedefaults": {
           "line": {
            "color": "#2a3f5f"
           }
          },
          "ternary": {
           "aaxis": {
            "gridcolor": "white",
            "linecolor": "white",
            "ticks": ""
           },
           "baxis": {
            "gridcolor": "white",
            "linecolor": "white",
            "ticks": ""
           },
           "bgcolor": "#E5ECF6",
           "caxis": {
            "gridcolor": "white",
            "linecolor": "white",
            "ticks": ""
           }
          },
          "title": {
           "x": 0.05
          },
          "xaxis": {
           "automargin": true,
           "gridcolor": "white",
           "linecolor": "white",
           "ticks": "",
           "title": {
            "standoff": 15
           },
           "zerolinecolor": "white",
           "zerolinewidth": 2
          },
          "yaxis": {
           "automargin": true,
           "gridcolor": "white",
           "linecolor": "white",
           "ticks": "",
           "title": {
            "standoff": 15
           },
           "zerolinecolor": "white",
           "zerolinewidth": 2
          }
         }
        },
        "title": {
         "text": "<span style='font-size:30px; font-family:Times New Roman'>Most Popular Cloud Computing Platform by Country</span><br><span style='font-size:14px; font-family:Helvetica'></b></span>"
        },
        "width": 750
       }
      }
     },
     "metadata": {},
     "output_type": "display_data"
    }
   ],
   "source": [
    "# 주요 클라우드 컴퓨팅 플랫폼별 국가별 점유율 분석 및 시각화\n",
    "\n",
    "cloud_computing_questions = [col for col in scope_df.columns if col.startswith(\"Q31\")]  # \"Q31\"로 시작하는 열(클라우드 컴퓨팅 관련 질문) 추출\n",
    "country_totals = scope_df[\"Q4\"].value_counts().to_dict()  # 국가별 응답자 수 집계\n",
    "\n",
    "# 클라우드 플랫폼 데이터를 국가별로 집계\n",
    "dfs_list = []\n",
    "for col in cloud_computing_questions:\n",
    "    dfs_list.append(\n",
    "        scope_df.groupby([\"Q4\", col])  # 국가(Q4)와 클라우드 플랫폼(col) 기준으로 그룹화\n",
    "        .agg({\"Q2\": \"count\"})  # 응답자 수 집계\n",
    "        .reset_index()  # 인덱스 리셋\n",
    "        .rename(columns={col: \"Q31\", \"Q2\": \"counts\"})  # 열 이름 변경\n",
    "    )\n",
    "\n",
    "# 데이터 병합\n",
    "cloud_computing_platforms = pd.concat(dfs_list)\n",
    "\n",
    "# 각 국가 내에서 클라우드 플랫폼이 차지하는 상대 비율 계산\n",
    "cloud_computing_platforms[\"relative_percent\"] = cloud_computing_platforms.apply(\n",
    "    lambda x: x[\"counts\"] / country_totals[x[\"Q4\"]], axis=1  # 응답자 수를 총 응답자 수로 나눔\n",
    ")\n",
    "\n",
    "# \"None\" 및 \"Other\" 응답 제거\n",
    "cloud_computing_platforms = cloud_computing_platforms[\n",
    "    ~cloud_computing_platforms[\"Q31\"].isin([\"None\", \"Other\"])\n",
    "]\n",
    "\n",
    "# 각 국가별로 가장 많이 사용된 클라우드 플랫폼 선택\n",
    "cloud_computing_platforms = cloud_computing_platforms.sort_values(by=[\"Q4\", \"counts\"], ascending=True)\n",
    "cloud_computing_platforms = cloud_computing_platforms.drop_duplicates(subset=[\"Q4\"], keep=\"last\")\n",
    "\n",
    "# 클라우드 플랫폼 이름에서 불필요한 공백 제거\n",
    "cloud_computing_platforms[\"Q31\"] = cloud_computing_platforms[\"Q31\"].str.strip()\n",
    "\n",
    "# 시각화: 국가별로 가장 인기 있는 클라우드 플랫폼을 색상으로 표시하는 지도 생성\n",
    "fig = px.choropleth(\n",
    "    locations=cloud_computing_platforms[\"Q4\"],  # 국가 이름\n",
    "    locationmode=\"country names\",  # 위치 모드: 국가 이름 사용\n",
    "    color=cloud_computing_platforms[\"Q31\"],  # 클라우드 플랫폼 이름\n",
    "    color_discrete_map={  # 클라우드 플랫폼별 색상 매핑\n",
    "        \"Google Cloud Platform (GCP)\": \"#a43725\",\n",
    "        \"Amazon Web Services (AWS)\": \"#cfbd9b\",\n",
    "        \"Microsoft Azure\": \"#edc860\",\n",
    "        \"Alibaba Cloud\": \"#E6b6a4\",\n",
    "    },\n",
    ")\n",
    "\n",
    "# 제목 및 레이아웃 설정\n",
    "large_title_format = (\n",
    "    \"<span style='font-size:30px; font-family:Times New Roman'>\"\n",
    "    \"Most Popular Cloud Computing Platform by Country\"\n",
    "    \"</span>\"\n",
    ")\n",
    "small_title_format = \"<span style='font-size:14px; font-family:Helvetica'></b></span>\"\n",
    "\n",
    "fig.update_layout(\n",
    "    width=750,  # 그래프 너비\n",
    "    legend=dict(\n",
    "        orientation=\"h\",  # 범례 가로 배치\n",
    "        yanchor=\"bottom\",  # y축 하단 정렬\n",
    "        y=0.9,  # 범례의 y 위치\n",
    "        xanchor=\"right\",  # x축 오른쪽 정렬\n",
    "        x=1,  # 범례의 x 위치\n",
    "        title=\"\",  # 범례 제거\n",
    "    ),\n",
    "    title=large_title_format + \"<br>\" + small_title_format,  # 제목 설정\n",
    "    font=dict(color=\"#7b6b59\"),  # 폰트 색상\n",
    "    dragmode=False,  # 드래그 비활성화\n",
    "    margin=dict(  # 여백\n",
    "        l=10,\n",
    "        r=10,\n",
    "        b=10,\n",
    "        t=50,\n",
    "        pad=0,\n",
    "    ),\n",
    ")\n",
    "\n",
    "fig.show()\n"
   ]
  }
 ],
 "metadata": {
  "kernelspec": {
   "display_name": "Python 3",
   "language": "python",
   "name": "python3"
  },
  "language_info": {
   "codemirror_mode": {
    "name": "ipython",
    "version": 3
   },
   "file_extension": ".py",
   "mimetype": "text/x-python",
   "name": "python",
   "nbconvert_exporter": "python",
   "pygments_lexer": "ipython3",
   "version": "3.10.10"
  }
 },
 "nbformat": 4,
 "nbformat_minor": 2
}
